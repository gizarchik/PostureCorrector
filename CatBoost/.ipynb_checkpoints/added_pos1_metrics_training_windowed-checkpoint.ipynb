{
 "cells": [
  {
   "cell_type": "code",
   "execution_count": 181,
   "id": "alpha-restoration",
   "metadata": {},
   "outputs": [],
   "source": [
    "import pandas as pd\n",
    "import numpy as np\n",
    "import seaborn as sns\n",
    "import matplotlib.pyplot as plt\n",
    "\n",
    "import sklearn.metrics\n",
    "\n",
    "from sklearn.model_selection import train_test_split\n",
    "from sklearn.model_selection import ShuffleSplit\n",
    "from sklearn.model_selection import StratifiedKFold\n",
    "from sklearn.model_selection import GridSearchCV\n",
    "from sklearn.model_selection import RandomizedSearchCV\n",
    "from sklearn.model_selection import cross_val_score\n",
    "\n",
    "from sklearn.metrics import accuracy_score\n",
    "from sklearn.metrics import precision_score\n",
    "from sklearn.metrics import classification_report\n",
    "\n",
    "\n",
    "from catboost import Pool, CatBoostClassifier\n",
    "\n",
    "from tqdm import tqdm\n",
    "\n",
    "from collections import defaultdict\n",
    "from collections import OrderedDict\n",
    "\n",
    "import json\n",
    "import time\n",
    "import timeit\n",
    "\n",
    "%matplotlib inline\n",
    "sns.set(style='darkgrid', font_scale=1.5)"
   ]
  },
  {
   "cell_type": "code",
   "execution_count": 182,
   "id": "quick-mediterranean",
   "metadata": {},
   "outputs": [],
   "source": [
    "def getBestModelCB(X_train, X_test, y_train, y_test, params_grid,\n",
    "                   cat_feature=None, plot=False, verbose=False, logging_level='Silent', **kwargs):\n",
    "    \n",
    "    train_pool = Pool(X_train, label=y_train, cat_features=cat_feature, \n",
    "                      feature_names=list(X_train.columns))\n",
    "    test_pool = Pool(X_test, label=y_test, cat_features=cat_feature, \n",
    "                     feature_names=list(X_test.columns))\n",
    "    \n",
    "    model = CatBoostClassifier(logging_level='Silent', **kwargs)\n",
    "    \n",
    "    results = model.grid_search(\n",
    "        param_grid=params_grid,\n",
    "        X=train_pool,\n",
    "        plot=plot,\n",
    "        verbose=verbose\n",
    "    )\n",
    "    \n",
    "    best_params = results['params']\n",
    "    \n",
    "    model = CatBoostClassifier(use_best_model=True, random_seed=0, \n",
    "                           **best_params, **kwargs)\n",
    "\n",
    "    model.fit(train_pool, eval_set=test_pool, metric_period=100)\n",
    "    \n",
    "    return model"
   ]
  },
  {
   "cell_type": "code",
   "execution_count": 183,
   "id": "transsexual-demonstration",
   "metadata": {},
   "outputs": [],
   "source": [
    "def plot_acc_and_time(history, sorted_metrics):\n",
    "    plt.figure(figsize=(16, 10))\n",
    "    plt.plot(\n",
    "        np.arange(5, len(sorted_metrics)),\n",
    "        history['accuracy']\n",
    "    )\n",
    "    plt.title(\"График зависимости Accuracy от числа метрик\")\n",
    "    plt.xlabel(\"Число метрик\")\n",
    "    plt.ylabel(\"Accuracy\")\n",
    "    plt.show()\n",
    "\n",
    "    plt.figure(figsize=(16, 10))\n",
    "    plt.plot(\n",
    "        np.arange(5, len(sorted_metrics)),\n",
    "        history['time_predict']\n",
    "    )\n",
    "    plt.title(\"График зависимости времени предсказания от числа метрик\")\n",
    "    plt.xlabel(\"Число метрик\")\n",
    "    plt.ylabel(\"Время предсказания, нс\")\n",
    "    plt.show()"
   ]
  },
  {
   "cell_type": "markdown",
   "id": "humanitarian-regular",
   "metadata": {},
   "source": [
    "**План:**\n",
    "1. Получение топ метрик из определения горбатости в ходьбе, так как это самая сложная задача.\n",
    "2. Вывод графиков точности и времени исполнения по мере добавления метрик. Графики строятся для всех предсказания (позиции, горбатости в сидячем, стоячем и ходячем положениях).\n",
    "3. Исследование влияния размера окна."
   ]
  },
  {
   "cell_type": "markdown",
   "id": "enhanced-circle",
   "metadata": {},
   "source": [
    "### Определение осанки для ходячего положения"
   ]
  },
  {
   "cell_type": "markdown",
   "id": "important-award",
   "metadata": {},
   "source": [
    "Сначала выделим ключевые метрики."
   ]
  },
  {
   "cell_type": "code",
   "execution_count": 184,
   "id": "visible-archives",
   "metadata": {},
   "outputs": [
    {
     "data": {
      "text/html": [
       "<div>\n",
       "<style scoped>\n",
       "    .dataframe tbody tr th:only-of-type {\n",
       "        vertical-align: middle;\n",
       "    }\n",
       "\n",
       "    .dataframe tbody tr th {\n",
       "        vertical-align: top;\n",
       "    }\n",
       "\n",
       "    .dataframe thead th {\n",
       "        text-align: right;\n",
       "    }\n",
       "</style>\n",
       "<table border=\"1\" class=\"dataframe\">\n",
       "  <thead>\n",
       "    <tr style=\"text-align: right;\">\n",
       "      <th></th>\n",
       "      <th>x_mean</th>\n",
       "      <th>x_std</th>\n",
       "      <th>x_max</th>\n",
       "      <th>x_min</th>\n",
       "      <th>x_energy</th>\n",
       "      <th>x_iqr</th>\n",
       "      <th>y_mean</th>\n",
       "      <th>y_std</th>\n",
       "      <th>y_max</th>\n",
       "      <th>y_min</th>\n",
       "      <th>...</th>\n",
       "      <th>x_iqr_pos1</th>\n",
       "      <th>y_iqr_pos1</th>\n",
       "      <th>z_iqr_pos1</th>\n",
       "      <th>xy_corr_pos1</th>\n",
       "      <th>xz_corr_pos1</th>\n",
       "      <th>yz_corr_pos1</th>\n",
       "      <th>height</th>\n",
       "      <th>mass</th>\n",
       "      <th>is_valid</th>\n",
       "      <th>sex</th>\n",
       "    </tr>\n",
       "    <tr>\n",
       "      <th>level_1</th>\n",
       "      <th></th>\n",
       "      <th></th>\n",
       "      <th></th>\n",
       "      <th></th>\n",
       "      <th></th>\n",
       "      <th></th>\n",
       "      <th></th>\n",
       "      <th></th>\n",
       "      <th></th>\n",
       "      <th></th>\n",
       "      <th></th>\n",
       "      <th></th>\n",
       "      <th></th>\n",
       "      <th></th>\n",
       "      <th></th>\n",
       "      <th></th>\n",
       "      <th></th>\n",
       "      <th></th>\n",
       "      <th></th>\n",
       "      <th></th>\n",
       "      <th></th>\n",
       "    </tr>\n",
       "  </thead>\n",
       "  <tbody>\n",
       "    <tr>\n",
       "      <th>3621</th>\n",
       "      <td>12685.04</td>\n",
       "      <td>2477.023409</td>\n",
       "      <td>22084.0</td>\n",
       "      <td>6396.0</td>\n",
       "      <td>1.669845e+08</td>\n",
       "      <td>3433.0</td>\n",
       "      <td>1969.00</td>\n",
       "      <td>3074.250090</td>\n",
       "      <td>12488.0</td>\n",
       "      <td>-3760.0</td>\n",
       "      <td>...</td>\n",
       "      <td>196.0</td>\n",
       "      <td>132.0</td>\n",
       "      <td>485.0</td>\n",
       "      <td>-0.203383</td>\n",
       "      <td>0.750925</td>\n",
       "      <td>-0.452449</td>\n",
       "      <td>185</td>\n",
       "      <td>75</td>\n",
       "      <td>0</td>\n",
       "      <td>1</td>\n",
       "    </tr>\n",
       "    <tr>\n",
       "      <th>3646</th>\n",
       "      <td>12148.96</td>\n",
       "      <td>2494.978107</td>\n",
       "      <td>22084.0</td>\n",
       "      <td>6396.0</td>\n",
       "      <td>1.537599e+08</td>\n",
       "      <td>2141.0</td>\n",
       "      <td>1951.48</td>\n",
       "      <td>3311.899216</td>\n",
       "      <td>12488.0</td>\n",
       "      <td>-3760.0</td>\n",
       "      <td>...</td>\n",
       "      <td>196.0</td>\n",
       "      <td>132.0</td>\n",
       "      <td>485.0</td>\n",
       "      <td>-0.203383</td>\n",
       "      <td>0.750925</td>\n",
       "      <td>-0.452449</td>\n",
       "      <td>185</td>\n",
       "      <td>75</td>\n",
       "      <td>0</td>\n",
       "      <td>1</td>\n",
       "    </tr>\n",
       "    <tr>\n",
       "      <th>3671</th>\n",
       "      <td>12151.88</td>\n",
       "      <td>3207.290657</td>\n",
       "      <td>25876.0</td>\n",
       "      <td>6396.0</td>\n",
       "      <td>1.578520e+08</td>\n",
       "      <td>2697.0</td>\n",
       "      <td>1784.28</td>\n",
       "      <td>3319.946075</td>\n",
       "      <td>12488.0</td>\n",
       "      <td>-5016.0</td>\n",
       "      <td>...</td>\n",
       "      <td>196.0</td>\n",
       "      <td>132.0</td>\n",
       "      <td>485.0</td>\n",
       "      <td>-0.203383</td>\n",
       "      <td>0.750925</td>\n",
       "      <td>-0.452449</td>\n",
       "      <td>185</td>\n",
       "      <td>75</td>\n",
       "      <td>0</td>\n",
       "      <td>1</td>\n",
       "    </tr>\n",
       "    <tr>\n",
       "      <th>3696</th>\n",
       "      <td>12398.36</td>\n",
       "      <td>3620.581932</td>\n",
       "      <td>29072.0</td>\n",
       "      <td>6396.0</td>\n",
       "      <td>1.666969e+08</td>\n",
       "      <td>3260.0</td>\n",
       "      <td>753.16</td>\n",
       "      <td>2951.146042</td>\n",
       "      <td>10968.0</td>\n",
       "      <td>-5704.0</td>\n",
       "      <td>...</td>\n",
       "      <td>196.0</td>\n",
       "      <td>132.0</td>\n",
       "      <td>485.0</td>\n",
       "      <td>-0.203383</td>\n",
       "      <td>0.750925</td>\n",
       "      <td>-0.452449</td>\n",
       "      <td>185</td>\n",
       "      <td>75</td>\n",
       "      <td>0</td>\n",
       "      <td>1</td>\n",
       "    </tr>\n",
       "    <tr>\n",
       "      <th>3721</th>\n",
       "      <td>12812.64</td>\n",
       "      <td>3791.848513</td>\n",
       "      <td>29072.0</td>\n",
       "      <td>8804.0</td>\n",
       "      <td>1.783981e+08</td>\n",
       "      <td>3707.0</td>\n",
       "      <td>97.68</td>\n",
       "      <td>2808.045249</td>\n",
       "      <td>8604.0</td>\n",
       "      <td>-5844.0</td>\n",
       "      <td>...</td>\n",
       "      <td>196.0</td>\n",
       "      <td>132.0</td>\n",
       "      <td>485.0</td>\n",
       "      <td>-0.203383</td>\n",
       "      <td>0.750925</td>\n",
       "      <td>-0.452449</td>\n",
       "      <td>185</td>\n",
       "      <td>75</td>\n",
       "      <td>0</td>\n",
       "      <td>1</td>\n",
       "    </tr>\n",
       "  </tbody>\n",
       "</table>\n",
       "<p>5 rows × 48 columns</p>\n",
       "</div>"
      ],
      "text/plain": [
       "           x_mean        x_std    x_max   x_min      x_energy   x_iqr  \\\n",
       "level_1                                                                 \n",
       "3621     12685.04  2477.023409  22084.0  6396.0  1.669845e+08  3433.0   \n",
       "3646     12148.96  2494.978107  22084.0  6396.0  1.537599e+08  2141.0   \n",
       "3671     12151.88  3207.290657  25876.0  6396.0  1.578520e+08  2697.0   \n",
       "3696     12398.36  3620.581932  29072.0  6396.0  1.666969e+08  3260.0   \n",
       "3721     12812.64  3791.848513  29072.0  8804.0  1.783981e+08  3707.0   \n",
       "\n",
       "          y_mean        y_std    y_max   y_min  ...  x_iqr_pos1  y_iqr_pos1  \\\n",
       "level_1                                         ...                           \n",
       "3621     1969.00  3074.250090  12488.0 -3760.0  ...       196.0       132.0   \n",
       "3646     1951.48  3311.899216  12488.0 -3760.0  ...       196.0       132.0   \n",
       "3671     1784.28  3319.946075  12488.0 -5016.0  ...       196.0       132.0   \n",
       "3696      753.16  2951.146042  10968.0 -5704.0  ...       196.0       132.0   \n",
       "3721       97.68  2808.045249   8604.0 -5844.0  ...       196.0       132.0   \n",
       "\n",
       "         z_iqr_pos1  xy_corr_pos1  xz_corr_pos1  yz_corr_pos1  height  mass  \\\n",
       "level_1                                                                       \n",
       "3621          485.0     -0.203383      0.750925     -0.452449     185    75   \n",
       "3646          485.0     -0.203383      0.750925     -0.452449     185    75   \n",
       "3671          485.0     -0.203383      0.750925     -0.452449     185    75   \n",
       "3696          485.0     -0.203383      0.750925     -0.452449     185    75   \n",
       "3721          485.0     -0.203383      0.750925     -0.452449     185    75   \n",
       "\n",
       "         is_valid  sex  \n",
       "level_1                 \n",
       "3621            0    1  \n",
       "3646            0    1  \n",
       "3671            0    1  \n",
       "3696            0    1  \n",
       "3721            0    1  \n",
       "\n",
       "[5 rows x 48 columns]"
      ]
     },
     "execution_count": 184,
     "metadata": {},
     "output_type": "execute_result"
    }
   ],
   "source": [
    "data = pd.read_csv('../datasets/added_pos1_metrics_windowed.csv', index_col=[0, 1])\n",
    "data = data.droplevel(0)\n",
    "data = data[data['position'] == 3].drop(['position', 'age'], axis=1)\n",
    "data.head()"
   ]
  },
  {
   "cell_type": "code",
   "execution_count": 185,
   "id": "weighted-algeria",
   "metadata": {},
   "outputs": [],
   "source": [
    "y = data['is_valid']\n",
    "X = data.drop('is_valid', axis=1)"
   ]
  },
  {
   "cell_type": "code",
   "execution_count": 186,
   "id": "contemporary-liberty",
   "metadata": {},
   "outputs": [],
   "source": [
    "X_train, X_test, y_train, y_test = train_test_split(\n",
    "    X, y, train_size=0.7, random_state=1234\n",
    ")\n",
    "\n",
    "params_grid = {\n",
    "            'n_estimators': [100, 200, 300, 500],\n",
    "            'max_depth' : np.arange(3, 7),\n",
    "            'learning_rate': np.linspace(0.0125, 0.6, 10)\n",
    "        }"
   ]
  },
  {
   "cell_type": "code",
   "execution_count": 187,
   "id": "premium-adolescent",
   "metadata": {},
   "outputs": [
    {
     "name": "stdout",
     "output_type": "stream",
     "text": [
      "0:\tlearn: 0.3248343\ttest: 0.3329976\tbest: 0.3329976 (0)\ttotal: 3.6ms\tremaining: 1.79s\n",
      "100:\tlearn: 0.0018091\ttest: 0.0073201\tbest: 0.0073201 (100)\ttotal: 318ms\tremaining: 1.26s\n",
      "200:\tlearn: 0.0012472\ttest: 0.0062952\tbest: 0.0062952 (200)\ttotal: 539ms\tremaining: 802ms\n",
      "300:\tlearn: 0.0011501\ttest: 0.0061293\tbest: 0.0061293 (300)\ttotal: 804ms\tremaining: 531ms\n",
      "400:\tlearn: 0.0011476\ttest: 0.0061258\tbest: 0.0061258 (400)\ttotal: 998ms\tremaining: 246ms\n",
      "499:\tlearn: 0.0011135\ttest: 0.0059540\tbest: 0.0059540 (499)\ttotal: 1.23s\tremaining: 0us\n",
      "\n",
      "bestTest = 0.005953974687\n",
      "bestIteration = 499\n",
      "\n"
     ]
    }
   ],
   "source": [
    "best_model = getBestModelCB(X_train, X_test, y_train, y_test,\n",
    "                        params_grid=params_grid)"
   ]
  },
  {
   "cell_type": "code",
   "execution_count": 188,
   "id": "provincial-example",
   "metadata": {},
   "outputs": [],
   "source": [
    "best_model.save_model('CatBoostModelValid.cbm', format=\"cbm\")"
   ]
  },
  {
   "cell_type": "code",
   "execution_count": 189,
   "id": "amateur-peeing",
   "metadata": {},
   "outputs": [
    {
     "name": "stdout",
     "output_type": "stream",
     "text": [
      "              precision    recall  f1-score   support\n",
      "\n",
      "           0       1.00      1.00      1.00       450\n",
      "           1       1.00      1.00      1.00       450\n",
      "\n",
      "    accuracy                           1.00       900\n",
      "   macro avg       1.00      1.00      1.00       900\n",
      "weighted avg       1.00      1.00      1.00       900\n",
      "\n"
     ]
    }
   ],
   "source": [
    "print(classification_report(y_test, best_model.predict(X_test)))"
   ]
  },
  {
   "cell_type": "code",
   "execution_count": 191,
   "id": "french-county",
   "metadata": {
    "scrolled": true
   },
   "outputs": [
    {
     "name": "stdout",
     "output_type": "stream",
     "text": [
      "z_mean\t18.32\n",
      "sma_pos1\t16.71\n",
      "y_mean\t15.40\n",
      "mass\t5.35\n",
      "z_energy\t4.83\n",
      "x_energy\t4.31\n",
      "z_min\t3.35\n",
      "x_mean\t3.19\n",
      "z_max_pos1\t3.06\n",
      "xz_corr\t2.39\n",
      "x_std_pos1\t2.25\n",
      "z_std_pos1\t2.09\n",
      "xy_corr_pos1\t1.79\n",
      "z_std\t1.70\n",
      "z_max\t1.57\n",
      "x_min_pos1\t1.34\n",
      "y_energy_pos1\t1.31\n",
      "y_mean_pos1\t1.16\n",
      "x_iqr\t1.15\n",
      "z_iqr_pos1\t0.97\n",
      "xz_corr_pos1\t0.93\n",
      "y_energy\t0.89\n",
      "y_min_pos1\t0.83\n",
      "y_min\t0.81\n",
      "y_max_pos1\t0.64\n",
      "x_max\t0.42\n",
      "xy_corr\t0.39\n",
      "z_mean_pos1\t0.38\n",
      "yz_corr_pos1\t0.29\n",
      "z_energy_pos1\t0.27\n",
      "x_min\t0.26\n",
      "y_max\t0.22\n",
      "z_iqr\t0.22\n",
      "x_max_pos1\t0.18\n",
      "x_std\t0.17\n",
      "y_iqr\t0.14\n",
      "yz_corr\t0.13\n",
      "z_min_pos1\t0.13\n",
      "sex\t0.11\n",
      "y_std\t0.07\n",
      "x_mean_pos1\t0.06\n",
      "y_std_pos1\t0.06\n",
      "x_iqr_pos1\t0.05\n",
      "x_energy_pos1\t0.04\n",
      "height\t0.04\n",
      "y_iqr_pos1\t0.02\n",
      "sma\t0.01\n"
     ]
    }
   ],
   "source": [
    "sorted_metrics = []\n",
    "\n",
    "for value, name in sorted(\n",
    "    zip(best_model.get_feature_importance(fstr_type=\"FeatureImportance\"), \n",
    "        X_train.columns), \n",
    "    reverse=True\n",
    "):\n",
    "    sorted_metrics.append(name)\n",
    "    print(\"{}\\t{:.2f}\".format(name, value))"
   ]
  },
  {
   "cell_type": "markdown",
   "id": "wicked-feelings",
   "metadata": {},
   "source": [
    "Исследуем зависимости от числа используемых метрик."
   ]
  },
  {
   "cell_type": "code",
   "execution_count": 192,
   "id": "automatic-thought",
   "metadata": {},
   "outputs": [],
   "source": [
    "history = defaultdict(list)\n",
    "\n",
    "params_grid = {\n",
    "            'n_estimators': [100, 200, 300, 500],\n",
    "            'max_depth' : np.arange(3, 7),\n",
    "            'learning_rate': np.linspace(0.0125, 0.6, 10)\n",
    "        }"
   ]
  },
  {
   "cell_type": "code",
   "execution_count": 193,
   "id": "protecting-flooring",
   "metadata": {
    "scrolled": true
   },
   "outputs": [
    {
     "name": "stderr",
     "output_type": "stream",
     "text": [
      "\r",
      "  0%|          | 0/42 [00:00<?, ?it/s]"
     ]
    },
    {
     "name": "stdout",
     "output_type": "stream",
     "text": [
      "0:\tlearn: 0.2629381\ttest: 0.2822548\tbest: 0.2822548 (0)\ttotal: 4.03ms\tremaining: 2.01s\n",
      "100:\tlearn: 0.0023284\ttest: 0.0260060\tbest: 0.0260060 (100)\ttotal: 194ms\tremaining: 765ms\n",
      "200:\tlearn: 0.0021517\ttest: 0.0261740\tbest: 0.0260060 (100)\ttotal: 287ms\tremaining: 427ms\n",
      "300:\tlearn: 0.0021462\ttest: 0.0261966\tbest: 0.0260060 (100)\ttotal: 379ms\tremaining: 251ms\n",
      "400:\tlearn: 0.0018449\ttest: 0.0263005\tbest: 0.0260060 (100)\ttotal: 472ms\tremaining: 117ms\n",
      "499:\tlearn: 0.0017831\ttest: 0.0263940\tbest: 0.0260060 (100)\ttotal: 567ms\tremaining: 0us\n",
      "\n",
      "bestTest = 0.02600595157\n",
      "bestIteration = 100\n",
      "\n",
      "Shrink model to first 101 iterations.\n"
     ]
    },
    {
     "name": "stderr",
     "output_type": "stream",
     "text": [
      "\r",
      "  2%|▏         | 1/42 [01:06<45:10, 66.10s/it]"
     ]
    },
    {
     "name": "stdout",
     "output_type": "stream",
     "text": [
      "0:\tlearn: 0.4220513\ttest: 0.4317044\tbest: 0.4317044 (0)\ttotal: 3.42ms\tremaining: 1.71s\n",
      "100:\tlearn: 0.0024963\ttest: 0.0166926\tbest: 0.0166926 (100)\ttotal: 265ms\tremaining: 1.05s\n",
      "200:\tlearn: 0.0024940\ttest: 0.0166945\tbest: 0.0166926 (100)\ttotal: 350ms\tremaining: 521ms\n",
      "300:\tlearn: 0.0024940\ttest: 0.0166945\tbest: 0.0166926 (100)\ttotal: 456ms\tremaining: 301ms\n",
      "400:\tlearn: 0.0024940\ttest: 0.0166945\tbest: 0.0166926 (100)\ttotal: 592ms\tremaining: 146ms\n",
      "499:\tlearn: 0.0024940\ttest: 0.0166945\tbest: 0.0166926 (100)\ttotal: 701ms\tremaining: 0us\n",
      "\n",
      "bestTest = 0.01669260922\n",
      "bestIteration = 100\n",
      "\n",
      "Shrink model to first 101 iterations.\n"
     ]
    },
    {
     "name": "stderr",
     "output_type": "stream",
     "text": [
      "\r",
      "  5%|▍         | 2/42 [02:09<42:57, 64.44s/it]"
     ]
    },
    {
     "name": "stdout",
     "output_type": "stream",
     "text": [
      "0:\tlearn: 0.3237917\ttest: 0.3201290\tbest: 0.3201290 (0)\ttotal: 1.51ms\tremaining: 755ms\n",
      "100:\tlearn: 0.0021464\ttest: 0.0102674\tbest: 0.0102674 (100)\ttotal: 151ms\tremaining: 595ms\n",
      "200:\tlearn: 0.0014815\ttest: 0.0098259\tbest: 0.0098259 (200)\ttotal: 287ms\tremaining: 427ms\n",
      "300:\tlearn: 0.0014066\ttest: 0.0098883\tbest: 0.0098259 (200)\ttotal: 438ms\tremaining: 289ms\n",
      "400:\tlearn: 0.0013706\ttest: 0.0098990\tbest: 0.0098259 (200)\ttotal: 752ms\tremaining: 186ms\n",
      "499:\tlearn: 0.0013311\ttest: 0.0096480\tbest: 0.0096480 (499)\ttotal: 1.03s\tremaining: 0us\n",
      "\n",
      "bestTest = 0.009647976953\n",
      "bestIteration = 499\n",
      "\n"
     ]
    },
    {
     "name": "stderr",
     "output_type": "stream",
     "text": [
      "\r",
      "  7%|▋         | 3/42 [03:27<46:01, 70.80s/it]"
     ]
    },
    {
     "name": "stdout",
     "output_type": "stream",
     "text": [
      "0:\tlearn: 0.5864104\ttest: 0.5872956\tbest: 0.5872956 (0)\ttotal: 1.42ms\tremaining: 708ms\n",
      "100:\tlearn: 0.0074651\ttest: 0.0181420\tbest: 0.0181420 (100)\ttotal: 112ms\tremaining: 443ms\n",
      "200:\tlearn: 0.0024751\ttest: 0.0126711\tbest: 0.0126711 (200)\ttotal: 222ms\tremaining: 330ms\n",
      "300:\tlearn: 0.0019109\ttest: 0.0120921\tbest: 0.0120921 (300)\ttotal: 323ms\tremaining: 214ms\n",
      "400:\tlearn: 0.0018293\ttest: 0.0120467\tbest: 0.0120467 (400)\ttotal: 426ms\tremaining: 105ms\n",
      "499:\tlearn: 0.0018279\ttest: 0.0120458\tbest: 0.0120458 (499)\ttotal: 526ms\tremaining: 0us\n",
      "\n",
      "bestTest = 0.0120458221\n",
      "bestIteration = 499\n",
      "\n"
     ]
    },
    {
     "name": "stderr",
     "output_type": "stream",
     "text": [
      "\r",
      " 10%|▉         | 4/42 [04:35<43:57, 69.41s/it]"
     ]
    },
    {
     "name": "stdout",
     "output_type": "stream",
     "text": [
      "0:\tlearn: 0.3500792\ttest: 0.3598476\tbest: 0.3598476 (0)\ttotal: 4.58ms\tremaining: 1.37s\n",
      "100:\tlearn: 0.0018307\ttest: 0.0120372\tbest: 0.0120372 (100)\ttotal: 120ms\tremaining: 236ms\n",
      "200:\tlearn: 0.0018246\ttest: 0.0120436\tbest: 0.0120372 (100)\ttotal: 201ms\tremaining: 98.9ms\n",
      "299:\tlearn: 0.0018186\ttest: 0.0120549\tbest: 0.0120372 (100)\ttotal: 283ms\tremaining: 0us\n",
      "\n",
      "bestTest = 0.01203721906\n",
      "bestIteration = 100\n",
      "\n",
      "Shrink model to first 101 iterations.\n"
     ]
    },
    {
     "name": "stderr",
     "output_type": "stream",
     "text": [
      "\r",
      " 12%|█▏        | 5/42 [05:29<39:24, 63.90s/it]"
     ]
    },
    {
     "name": "stdout",
     "output_type": "stream",
     "text": [
      "0:\tlearn: 0.3793052\ttest: 0.3838468\tbest: 0.3838468 (0)\ttotal: 3.94ms\tremaining: 1.96s\n",
      "100:\tlearn: 0.0017649\ttest: 0.0082558\tbest: 0.0082558 (100)\ttotal: 171ms\tremaining: 674ms\n",
      "200:\tlearn: 0.0015032\ttest: 0.0075781\tbest: 0.0075781 (200)\ttotal: 259ms\tremaining: 386ms\n",
      "300:\tlearn: 0.0014993\ttest: 0.0075437\tbest: 0.0075437 (300)\ttotal: 371ms\tremaining: 245ms\n",
      "400:\tlearn: 0.0014891\ttest: 0.0074658\tbest: 0.0074658 (400)\ttotal: 456ms\tremaining: 113ms\n",
      "499:\tlearn: 0.0014852\ttest: 0.0074405\tbest: 0.0074405 (499)\ttotal: 545ms\tremaining: 0us\n",
      "\n",
      "bestTest = 0.00744054426\n",
      "bestIteration = 499\n",
      "\n"
     ]
    },
    {
     "name": "stderr",
     "output_type": "stream",
     "text": [
      "\r",
      " 14%|█▍        | 6/42 [06:34<38:37, 64.37s/it]"
     ]
    },
    {
     "name": "stdout",
     "output_type": "stream",
     "text": [
      "0:\tlearn: 0.4417418\ttest: 0.4495429\tbest: 0.4495429 (0)\ttotal: 1.47ms\tremaining: 733ms\n",
      "100:\tlearn: 0.0020058\ttest: 0.0056106\tbest: 0.0056106 (100)\ttotal: 110ms\tremaining: 434ms\n",
      "200:\tlearn: 0.0017693\ttest: 0.0051807\tbest: 0.0051807 (200)\ttotal: 221ms\tremaining: 328ms\n",
      "300:\tlearn: 0.0017672\ttest: 0.0051765\tbest: 0.0051765 (300)\ttotal: 416ms\tremaining: 275ms\n",
      "400:\tlearn: 0.0016965\ttest: 0.0049844\tbest: 0.0049844 (400)\ttotal: 546ms\tremaining: 135ms\n",
      "499:\tlearn: 0.0016965\ttest: 0.0049844\tbest: 0.0049844 (400)\ttotal: 646ms\tremaining: 0us\n",
      "\n",
      "bestTest = 0.004984380789\n",
      "bestIteration = 400\n",
      "\n",
      "Shrink model to first 401 iterations.\n"
     ]
    },
    {
     "name": "stderr",
     "output_type": "stream",
     "text": [
      "\r",
      " 17%|█▋        | 7/42 [07:43<38:28, 65.96s/it]"
     ]
    },
    {
     "name": "stdout",
     "output_type": "stream",
     "text": [
      "0:\tlearn: 0.3586800\ttest: 0.3748503\tbest: 0.3748503 (0)\ttotal: 1.9ms\tremaining: 948ms\n",
      "100:\tlearn: 0.0020958\ttest: 0.0105638\tbest: 0.0105638 (100)\ttotal: 165ms\tremaining: 652ms\n",
      "200:\tlearn: 0.0019822\ttest: 0.0100902\tbest: 0.0100902 (200)\ttotal: 328ms\tremaining: 488ms\n",
      "300:\tlearn: 0.0019752\ttest: 0.0100596\tbest: 0.0100596 (300)\ttotal: 450ms\tremaining: 297ms\n",
      "400:\tlearn: 0.0016413\ttest: 0.0098808\tbest: 0.0098808 (400)\ttotal: 581ms\tremaining: 143ms\n",
      "499:\tlearn: 0.0016383\ttest: 0.0098700\tbest: 0.0098700 (499)\ttotal: 717ms\tremaining: 0us\n",
      "\n",
      "bestTest = 0.009869977016\n",
      "bestIteration = 499\n",
      "\n"
     ]
    },
    {
     "name": "stderr",
     "output_type": "stream",
     "text": [
      "\r",
      " 19%|█▉        | 8/42 [08:57<38:51, 68.59s/it]"
     ]
    },
    {
     "name": "stdout",
     "output_type": "stream",
     "text": [
      "0:\tlearn: 0.3194761\ttest: 0.3385788\tbest: 0.3385788 (0)\ttotal: 1.4ms\tremaining: 701ms\n",
      "100:\tlearn: 0.0013306\ttest: 0.0105304\tbest: 0.0105304 (100)\ttotal: 118ms\tremaining: 464ms\n",
      "200:\tlearn: 0.0012031\ttest: 0.0108593\tbest: 0.0105304 (100)\ttotal: 233ms\tremaining: 346ms\n",
      "300:\tlearn: 0.0011971\ttest: 0.0108367\tbest: 0.0105304 (100)\ttotal: 347ms\tremaining: 230ms\n",
      "400:\tlearn: 0.0011915\ttest: 0.0108281\tbest: 0.0105304 (100)\ttotal: 462ms\tremaining: 114ms\n",
      "499:\tlearn: 0.0011823\ttest: 0.0107973\tbest: 0.0105304 (100)\ttotal: 573ms\tremaining: 0us\n",
      "\n",
      "bestTest = 0.01053042621\n",
      "bestIteration = 100\n",
      "\n",
      "Shrink model to first 101 iterations.\n"
     ]
    },
    {
     "name": "stderr",
     "output_type": "stream",
     "text": [
      "\r",
      " 21%|██▏       | 9/42 [10:04<37:24, 68.02s/it]"
     ]
    },
    {
     "name": "stdout",
     "output_type": "stream",
     "text": [
      "0:\tlearn: 0.2150292\ttest: 0.2345719\tbest: 0.2345719 (0)\ttotal: 1.52ms\tremaining: 758ms\n",
      "100:\tlearn: 0.0014167\ttest: 0.0163354\tbest: 0.0163354 (100)\ttotal: 121ms\tremaining: 477ms\n",
      "200:\tlearn: 0.0011551\ttest: 0.0146505\tbest: 0.0146505 (200)\ttotal: 241ms\tremaining: 359ms\n",
      "300:\tlearn: 0.0011506\ttest: 0.0146298\tbest: 0.0146298 (300)\ttotal: 401ms\tremaining: 265ms\n",
      "400:\tlearn: 0.0011467\ttest: 0.0146061\tbest: 0.0146061 (400)\ttotal: 560ms\tremaining: 138ms\n",
      "499:\tlearn: 0.0011415\ttest: 0.0145764\tbest: 0.0145764 (499)\ttotal: 681ms\tremaining: 0us\n",
      "\n",
      "bestTest = 0.01457641699\n",
      "bestIteration = 499\n",
      "\n"
     ]
    },
    {
     "name": "stderr",
     "output_type": "stream",
     "text": [
      "\r",
      " 24%|██▍       | 10/42 [11:18<37:17, 69.93s/it]"
     ]
    },
    {
     "name": "stdout",
     "output_type": "stream",
     "text": [
      "0:\tlearn: 0.4659546\ttest: 0.4619767\tbest: 0.4619767 (0)\ttotal: 5.13ms\tremaining: 2.56s\n",
      "100:\tlearn: 0.0019530\ttest: 0.0056530\tbest: 0.0056530 (100)\ttotal: 171ms\tremaining: 675ms\n",
      "200:\tlearn: 0.0016152\ttest: 0.0053130\tbest: 0.0053130 (200)\ttotal: 314ms\tremaining: 468ms\n",
      "300:\tlearn: 0.0016152\ttest: 0.0053130\tbest: 0.0053130 (200)\ttotal: 463ms\tremaining: 306ms\n",
      "400:\tlearn: 0.0016152\ttest: 0.0053130\tbest: 0.0053130 (200)\ttotal: 607ms\tremaining: 150ms\n",
      "499:\tlearn: 0.0016152\ttest: 0.0053131\tbest: 0.0053130 (200)\ttotal: 743ms\tremaining: 0us\n",
      "\n",
      "bestTest = 0.005313030542\n",
      "bestIteration = 200\n",
      "\n",
      "Shrink model to first 201 iterations.\n"
     ]
    },
    {
     "name": "stderr",
     "output_type": "stream",
     "text": [
      "\r",
      " 26%|██▌       | 11/42 [12:57<40:42, 78.78s/it]"
     ]
    },
    {
     "name": "stdout",
     "output_type": "stream",
     "text": [
      "0:\tlearn: 0.3117336\ttest: 0.3295187\tbest: 0.3295187 (0)\ttotal: 1.51ms\tremaining: 752ms\n",
      "100:\tlearn: 0.0018367\ttest: 0.0113296\tbest: 0.0113296 (100)\ttotal: 105ms\tremaining: 414ms\n",
      "200:\tlearn: 0.0016893\ttest: 0.0114423\tbest: 0.0113296 (100)\ttotal: 213ms\tremaining: 316ms\n",
      "300:\tlearn: 0.0014355\ttest: 0.0108940\tbest: 0.0108940 (300)\ttotal: 352ms\tremaining: 232ms\n",
      "400:\tlearn: 0.0014325\ttest: 0.0109017\tbest: 0.0108940 (300)\ttotal: 463ms\tremaining: 114ms\n",
      "499:\tlearn: 0.0014297\ttest: 0.0109125\tbest: 0.0108940 (300)\ttotal: 811ms\tremaining: 0us\n",
      "\n",
      "bestTest = 0.010894026\n",
      "bestIteration = 300\n",
      "\n",
      "Shrink model to first 301 iterations.\n"
     ]
    },
    {
     "name": "stderr",
     "output_type": "stream",
     "text": [
      "\r",
      " 29%|██▊       | 12/42 [14:12<38:50, 77.69s/it]"
     ]
    },
    {
     "name": "stdout",
     "output_type": "stream",
     "text": [
      "0:\tlearn: 0.2810258\ttest: 0.2923068\tbest: 0.2923068 (0)\ttotal: 1.67ms\tremaining: 832ms\n",
      "100:\tlearn: 0.0015379\ttest: 0.0067856\tbest: 0.0067856 (100)\ttotal: 145ms\tremaining: 572ms\n",
      "200:\tlearn: 0.0013832\ttest: 0.0066157\tbest: 0.0066157 (200)\ttotal: 287ms\tremaining: 427ms\n",
      "300:\tlearn: 0.0012342\ttest: 0.0065384\tbest: 0.0065384 (300)\ttotal: 420ms\tremaining: 278ms\n",
      "400:\tlearn: 0.0012295\ttest: 0.0065356\tbest: 0.0065356 (400)\ttotal: 551ms\tremaining: 136ms\n",
      "499:\tlearn: 0.0012234\ttest: 0.0065384\tbest: 0.0065356 (400)\ttotal: 682ms\tremaining: 0us\n",
      "\n",
      "bestTest = 0.006535586577\n",
      "bestIteration = 400\n",
      "\n",
      "Shrink model to first 401 iterations.\n"
     ]
    },
    {
     "name": "stderr",
     "output_type": "stream",
     "text": [
      "\r",
      " 31%|███       | 13/42 [16:18<44:30, 92.08s/it]"
     ]
    },
    {
     "name": "stdout",
     "output_type": "stream",
     "text": [
      "0:\tlearn: 0.4945770\ttest: 0.5095706\tbest: 0.5095706 (0)\ttotal: 1.8ms\tremaining: 900ms\n",
      "100:\tlearn: 0.0025270\ttest: 0.0067868\tbest: 0.0067868 (100)\ttotal: 241ms\tremaining: 953ms\n",
      "200:\tlearn: 0.0017441\ttest: 0.0056340\tbest: 0.0056340 (200)\ttotal: 406ms\tremaining: 604ms\n",
      "300:\tlearn: 0.0017379\ttest: 0.0056257\tbest: 0.0056257 (300)\ttotal: 599ms\tremaining: 396ms\n",
      "400:\tlearn: 0.0017361\ttest: 0.0056212\tbest: 0.0056212 (400)\ttotal: 792ms\tremaining: 196ms\n",
      "499:\tlearn: 0.0017339\ttest: 0.0056150\tbest: 0.0056150 (499)\ttotal: 1.3s\tremaining: 0us\n",
      "\n",
      "bestTest = 0.005614971922\n",
      "bestIteration = 499\n",
      "\n"
     ]
    },
    {
     "name": "stderr",
     "output_type": "stream",
     "text": [
      "\r",
      " 33%|███▎      | 14/42 [17:34<40:46, 87.37s/it]"
     ]
    },
    {
     "name": "stdout",
     "output_type": "stream",
     "text": [
      "0:\tlearn: 0.2641120\ttest: 0.2815530\tbest: 0.2815530 (0)\ttotal: 1.7ms\tremaining: 848ms\n",
      "100:\tlearn: 0.0030545\ttest: 0.0126855\tbest: 0.0126855 (100)\ttotal: 158ms\tremaining: 624ms\n",
      "200:\tlearn: 0.0030545\ttest: 0.0126855\tbest: 0.0126855 (100)\ttotal: 314ms\tremaining: 467ms\n",
      "300:\tlearn: 0.0030545\ttest: 0.0126855\tbest: 0.0126855 (100)\ttotal: 475ms\tremaining: 314ms\n",
      "400:\tlearn: 0.0030541\ttest: 0.0126869\tbest: 0.0126855 (100)\ttotal: 701ms\tremaining: 173ms\n",
      "499:\tlearn: 0.0030541\ttest: 0.0126869\tbest: 0.0126855 (100)\ttotal: 874ms\tremaining: 0us\n",
      "\n",
      "bestTest = 0.01268546925\n",
      "bestIteration = 100\n",
      "\n",
      "Shrink model to first 101 iterations.\n"
     ]
    },
    {
     "name": "stderr",
     "output_type": "stream",
     "text": [
      "\r",
      " 36%|███▌      | 15/42 [18:58<38:53, 86.44s/it]"
     ]
    },
    {
     "name": "stdout",
     "output_type": "stream",
     "text": [
      "0:\tlearn: 0.3320425\ttest: 0.3344090\tbest: 0.3344090 (0)\ttotal: 1.61ms\tremaining: 803ms\n",
      "100:\tlearn: 0.0017461\ttest: 0.0069616\tbest: 0.0069616 (100)\ttotal: 259ms\tremaining: 1.02s\n",
      "200:\tlearn: 0.0014860\ttest: 0.0064976\tbest: 0.0064976 (200)\ttotal: 506ms\tremaining: 753ms\n",
      "300:\tlearn: 0.0013653\ttest: 0.0061734\tbest: 0.0061734 (300)\ttotal: 850ms\tremaining: 562ms\n",
      "400:\tlearn: 0.0013081\ttest: 0.0059771\tbest: 0.0059771 (400)\ttotal: 1.22s\tremaining: 300ms\n",
      "499:\tlearn: 0.0012157\ttest: 0.0056364\tbest: 0.0056364 (499)\ttotal: 1.6s\tremaining: 0us\n",
      "\n",
      "bestTest = 0.005636390272\n",
      "bestIteration = 499\n",
      "\n"
     ]
    },
    {
     "name": "stderr",
     "output_type": "stream",
     "text": [
      "\r",
      " 38%|███▊      | 16/42 [20:23<37:14, 85.96s/it]"
     ]
    },
    {
     "name": "stdout",
     "output_type": "stream",
     "text": [
      "0:\tlearn: 0.5071508\ttest: 0.5164435\tbest: 0.5164435 (0)\ttotal: 1.62ms\tremaining: 809ms\n",
      "100:\tlearn: 0.0028420\ttest: 0.0076721\tbest: 0.0076721 (100)\ttotal: 149ms\tremaining: 587ms\n",
      "200:\tlearn: 0.0022461\ttest: 0.0066669\tbest: 0.0066669 (200)\ttotal: 294ms\tremaining: 437ms\n",
      "300:\tlearn: 0.0020536\ttest: 0.0063963\tbest: 0.0063963 (300)\ttotal: 523ms\tremaining: 346ms\n",
      "400:\tlearn: 0.0018864\ttest: 0.0061213\tbest: 0.0061213 (400)\ttotal: 682ms\tremaining: 168ms\n",
      "499:\tlearn: 0.0017014\ttest: 0.0058227\tbest: 0.0058227 (499)\ttotal: 848ms\tremaining: 0us\n",
      "\n",
      "bestTest = 0.005822720371\n",
      "bestIteration = 499\n",
      "\n"
     ]
    },
    {
     "name": "stderr",
     "output_type": "stream",
     "text": [
      "\r",
      " 40%|████      | 17/42 [22:00<37:08, 89.13s/it]"
     ]
    },
    {
     "name": "stdout",
     "output_type": "stream",
     "text": [
      "0:\tlearn: 0.3262651\ttest: 0.3463131\tbest: 0.3463131 (0)\ttotal: 3.08ms\tremaining: 1.53s\n",
      "100:\tlearn: 0.0015765\ttest: 0.0060876\tbest: 0.0060876 (100)\ttotal: 680ms\tremaining: 2.69s\n",
      "200:\tlearn: 0.0014221\ttest: 0.0056302\tbest: 0.0056302 (200)\ttotal: 1.37s\tremaining: 2.03s\n",
      "300:\tlearn: 0.0012804\ttest: 0.0053441\tbest: 0.0053441 (300)\ttotal: 2.28s\tremaining: 1.51s\n",
      "400:\tlearn: 0.0012776\ttest: 0.0053492\tbest: 0.0053441 (300)\ttotal: 2.99s\tremaining: 738ms\n",
      "499:\tlearn: 0.0011894\ttest: 0.0051352\tbest: 0.0051352 (499)\ttotal: 3.75s\tremaining: 0us\n",
      "\n",
      "bestTest = 0.005135232151\n",
      "bestIteration = 499\n",
      "\n"
     ]
    },
    {
     "name": "stderr",
     "output_type": "stream",
     "text": [
      "\r",
      " 43%|████▎     | 18/42 [23:52<38:23, 95.98s/it]"
     ]
    },
    {
     "name": "stdout",
     "output_type": "stream",
     "text": [
      "0:\tlearn: 0.3072381\ttest: 0.3208040\tbest: 0.3208040 (0)\ttotal: 7.33ms\tremaining: 3.66s\n",
      "100:\tlearn: 0.0015361\ttest: 0.0057079\tbest: 0.0057079 (100)\ttotal: 787ms\tremaining: 3.11s\n",
      "200:\tlearn: 0.0015332\ttest: 0.0057085\tbest: 0.0057079 (100)\ttotal: 1.59s\tremaining: 2.37s\n",
      "300:\tlearn: 0.0015299\ttest: 0.0057094\tbest: 0.0057079 (100)\ttotal: 2.43s\tremaining: 1.61s\n",
      "400:\tlearn: 0.0014147\ttest: 0.0055566\tbest: 0.0055566 (400)\ttotal: 3.22s\tremaining: 796ms\n",
      "499:\tlearn: 0.0013852\ttest: 0.0055439\tbest: 0.0055439 (499)\ttotal: 4.02s\tremaining: 0us\n",
      "\n",
      "bestTest = 0.005543898034\n",
      "bestIteration = 499\n",
      "\n"
     ]
    },
    {
     "name": "stderr",
     "output_type": "stream",
     "text": [
      "\r",
      " 45%|████▌     | 19/42 [27:23<50:05, 130.67s/it]"
     ]
    },
    {
     "name": "stdout",
     "output_type": "stream",
     "text": [
      "0:\tlearn: 0.2963655\ttest: 0.3042834\tbest: 0.3042834 (0)\ttotal: 2.34ms\tremaining: 1.17s\n",
      "100:\tlearn: 0.0017688\ttest: 0.0122809\tbest: 0.0122809 (100)\ttotal: 644ms\tremaining: 2.54s\n",
      "200:\tlearn: 0.0014546\ttest: 0.0116357\tbest: 0.0116357 (200)\ttotal: 1.3s\tremaining: 1.94s\n",
      "300:\tlearn: 0.0014474\ttest: 0.0116611\tbest: 0.0116357 (200)\ttotal: 1.91s\tremaining: 1.26s\n",
      "400:\tlearn: 0.0014389\ttest: 0.0117124\tbest: 0.0116357 (200)\ttotal: 2.55s\tremaining: 630ms\n",
      "499:\tlearn: 0.0014211\ttest: 0.0117015\tbest: 0.0116357 (200)\ttotal: 3.32s\tremaining: 0us\n",
      "\n",
      "bestTest = 0.01163568412\n",
      "bestIteration = 200\n",
      "\n",
      "Shrink model to first 201 iterations.\n"
     ]
    },
    {
     "name": "stderr",
     "output_type": "stream",
     "text": [
      "\r",
      " 48%|████▊     | 20/42 [31:43<1:02:08, 169.49s/it]"
     ]
    },
    {
     "name": "stdout",
     "output_type": "stream",
     "text": [
      "0:\tlearn: 0.2304871\ttest: 0.2461150\tbest: 0.2461150 (0)\ttotal: 4.67ms\tremaining: 2.33s\n",
      "100:\tlearn: 0.0017020\ttest: 0.0121857\tbest: 0.0121857 (100)\ttotal: 485ms\tremaining: 1.92s\n",
      "200:\tlearn: 0.0016956\ttest: 0.0121397\tbest: 0.0121397 (200)\ttotal: 967ms\tremaining: 1.44s\n",
      "300:\tlearn: 0.0016229\ttest: 0.0115023\tbest: 0.0115023 (300)\ttotal: 1.48s\tremaining: 977ms\n",
      "400:\tlearn: 0.0016193\ttest: 0.0114776\tbest: 0.0114776 (400)\ttotal: 2s\tremaining: 495ms\n",
      "499:\tlearn: 0.0016193\ttest: 0.0114776\tbest: 0.0114776 (400)\ttotal: 2.5s\tremaining: 0us\n",
      "\n",
      "bestTest = 0.01147757157\n",
      "bestIteration = 400\n",
      "\n",
      "Shrink model to first 401 iterations.\n"
     ]
    },
    {
     "name": "stderr",
     "output_type": "stream",
     "text": [
      "\r",
      " 50%|█████     | 21/42 [35:54<1:07:54, 194.04s/it]"
     ]
    },
    {
     "name": "stdout",
     "output_type": "stream",
     "text": [
      "0:\tlearn: 0.2526554\ttest: 0.2528632\tbest: 0.2528632 (0)\ttotal: 1.82ms\tremaining: 910ms\n",
      "100:\tlearn: 0.0031985\ttest: 0.0107389\tbest: 0.0107389 (100)\ttotal: 247ms\tremaining: 976ms\n",
      "200:\tlearn: 0.0031985\ttest: 0.0107389\tbest: 0.0107389 (100)\ttotal: 455ms\tremaining: 676ms\n",
      "300:\tlearn: 0.0026532\ttest: 0.0097749\tbest: 0.0097749 (300)\ttotal: 673ms\tremaining: 445ms\n",
      "400:\tlearn: 0.0026467\ttest: 0.0097907\tbest: 0.0097749 (300)\ttotal: 867ms\tremaining: 214ms\n",
      "499:\tlearn: 0.0026412\ttest: 0.0098044\tbest: 0.0097749 (300)\ttotal: 1.15s\tremaining: 0us\n",
      "\n",
      "bestTest = 0.009774934269\n",
      "bestIteration = 300\n",
      "\n",
      "Shrink model to first 301 iterations.\n"
     ]
    },
    {
     "name": "stderr",
     "output_type": "stream",
     "text": [
      "\r",
      " 52%|█████▏    | 22/42 [37:45<56:17, 168.87s/it]  "
     ]
    },
    {
     "name": "stdout",
     "output_type": "stream",
     "text": [
      "0:\tlearn: 0.3994533\ttest: 0.4074651\tbest: 0.4074651 (0)\ttotal: 1.8ms\tremaining: 898ms\n",
      "100:\tlearn: 0.0016013\ttest: 0.0046002\tbest: 0.0046002 (100)\ttotal: 170ms\tremaining: 671ms\n",
      "200:\tlearn: 0.0014896\ttest: 0.0043826\tbest: 0.0043826 (200)\ttotal: 341ms\tremaining: 508ms\n",
      "300:\tlearn: 0.0014861\ttest: 0.0043744\tbest: 0.0043744 (300)\ttotal: 514ms\tremaining: 340ms\n",
      "400:\tlearn: 0.0014819\ttest: 0.0043628\tbest: 0.0043628 (400)\ttotal: 716ms\tremaining: 177ms\n",
      "499:\tlearn: 0.0014775\ttest: 0.0043520\tbest: 0.0043520 (499)\ttotal: 903ms\tremaining: 0us\n",
      "\n",
      "bestTest = 0.004352019056\n",
      "bestIteration = 499\n",
      "\n"
     ]
    },
    {
     "name": "stderr",
     "output_type": "stream",
     "text": [
      "\r",
      " 55%|█████▍    | 23/42 [39:49<49:15, 155.53s/it]"
     ]
    },
    {
     "name": "stdout",
     "output_type": "stream",
     "text": [
      "0:\tlearn: 0.3417997\ttest: 0.3494998\tbest: 0.3494998 (0)\ttotal: 7.45ms\tremaining: 3.71s\n",
      "100:\tlearn: 0.0013581\ttest: 0.0060851\tbest: 0.0060851 (100)\ttotal: 399ms\tremaining: 1.58s\n",
      "200:\tlearn: 0.0012515\ttest: 0.0061877\tbest: 0.0060851 (100)\ttotal: 760ms\tremaining: 1.13s\n",
      "300:\tlearn: 0.0012459\ttest: 0.0061949\tbest: 0.0060851 (100)\ttotal: 945ms\tremaining: 625ms\n",
      "400:\tlearn: 0.0012412\ttest: 0.0062024\tbest: 0.0060851 (100)\ttotal: 1.12s\tremaining: 276ms\n",
      "499:\tlearn: 0.0012352\ttest: 0.0062072\tbest: 0.0060851 (100)\ttotal: 1.29s\tremaining: 0us\n",
      "\n",
      "bestTest = 0.006085085256\n",
      "bestIteration = 100\n",
      "\n",
      "Shrink model to first 101 iterations.\n"
     ]
    },
    {
     "name": "stderr",
     "output_type": "stream",
     "text": [
      "\r",
      " 57%|█████▋    | 24/42 [41:27<41:29, 138.30s/it]"
     ]
    },
    {
     "name": "stdout",
     "output_type": "stream",
     "text": [
      "0:\tlearn: 0.2794835\ttest: 0.2946577\tbest: 0.2946577 (0)\ttotal: 1.82ms\tremaining: 908ms\n",
      "100:\tlearn: 0.0016529\ttest: 0.0055569\tbest: 0.0055569 (100)\ttotal: 168ms\tremaining: 663ms\n",
      "200:\tlearn: 0.0016487\ttest: 0.0055580\tbest: 0.0055569 (100)\ttotal: 381ms\tremaining: 567ms\n",
      "300:\tlearn: 0.0016450\ttest: 0.0055604\tbest: 0.0055569 (100)\ttotal: 568ms\tremaining: 376ms\n",
      "400:\tlearn: 0.0015330\ttest: 0.0053724\tbest: 0.0053724 (400)\ttotal: 731ms\tremaining: 181ms\n",
      "499:\tlearn: 0.0015293\ttest: 0.0053584\tbest: 0.0053584 (499)\ttotal: 891ms\tremaining: 0us\n",
      "\n",
      "bestTest = 0.005358372092\n",
      "bestIteration = 499\n",
      "\n"
     ]
    },
    {
     "name": "stderr",
     "output_type": "stream",
     "text": [
      "\r",
      " 60%|█████▉    | 25/42 [42:59<35:15, 124.46s/it]"
     ]
    },
    {
     "name": "stdout",
     "output_type": "stream",
     "text": [
      "0:\tlearn: 0.2709855\ttest: 0.2719867\tbest: 0.2719867 (0)\ttotal: 2.54ms\tremaining: 1.27s\n",
      "100:\tlearn: 0.0012972\ttest: 0.0062931\tbest: 0.0062931 (100)\ttotal: 240ms\tremaining: 949ms\n",
      "200:\tlearn: 0.0012717\ttest: 0.0061487\tbest: 0.0061487 (200)\ttotal: 478ms\tremaining: 710ms\n",
      "300:\tlearn: 0.0012481\ttest: 0.0060051\tbest: 0.0060051 (300)\ttotal: 721ms\tremaining: 477ms\n",
      "400:\tlearn: 0.0012411\ttest: 0.0059844\tbest: 0.0059844 (400)\ttotal: 991ms\tremaining: 245ms\n",
      "499:\tlearn: 0.0012351\ttest: 0.0059650\tbest: 0.0059650 (499)\ttotal: 1.22s\tremaining: 0us\n",
      "\n",
      "bestTest = 0.005965037808\n",
      "bestIteration = 499\n",
      "\n"
     ]
    },
    {
     "name": "stderr",
     "output_type": "stream",
     "text": [
      "\r",
      " 62%|██████▏   | 26/42 [44:29<30:22, 113.93s/it]"
     ]
    },
    {
     "name": "stdout",
     "output_type": "stream",
     "text": [
      "0:\tlearn: 0.1959817\ttest: 0.2217469\tbest: 0.2217469 (0)\ttotal: 1.92ms\tremaining: 958ms\n",
      "100:\tlearn: 0.0016350\ttest: 0.0142244\tbest: 0.0142244 (100)\ttotal: 173ms\tremaining: 685ms\n",
      "200:\tlearn: 0.0015189\ttest: 0.0135871\tbest: 0.0135871 (200)\ttotal: 346ms\tremaining: 515ms\n",
      "300:\tlearn: 0.0012902\ttest: 0.0123502\tbest: 0.0123502 (300)\ttotal: 573ms\tremaining: 379ms\n",
      "400:\tlearn: 0.0010136\ttest: 0.0110024\tbest: 0.0110024 (400)\ttotal: 751ms\tremaining: 185ms\n",
      "499:\tlearn: 0.0009564\ttest: 0.0109252\tbest: 0.0109252 (499)\ttotal: 922ms\tremaining: 0us\n",
      "\n",
      "bestTest = 0.01092516772\n",
      "bestIteration = 499\n",
      "\n"
     ]
    },
    {
     "name": "stderr",
     "output_type": "stream",
     "text": [
      "\r",
      " 64%|██████▍   | 27/42 [46:05<27:07, 108.53s/it]"
     ]
    },
    {
     "name": "stdout",
     "output_type": "stream",
     "text": [
      "0:\tlearn: 0.3818857\ttest: 0.4027517\tbest: 0.4027517 (0)\ttotal: 8.25ms\tremaining: 4.12s\n",
      "100:\tlearn: 0.0019391\ttest: 0.0081179\tbest: 0.0081179 (100)\ttotal: 211ms\tremaining: 833ms\n",
      "200:\tlearn: 0.0015456\ttest: 0.0072965\tbest: 0.0072965 (200)\ttotal: 400ms\tremaining: 595ms\n",
      "300:\tlearn: 0.0012505\ttest: 0.0063568\tbest: 0.0063568 (300)\ttotal: 574ms\tremaining: 380ms\n",
      "400:\tlearn: 0.0012483\ttest: 0.0063477\tbest: 0.0063477 (400)\ttotal: 752ms\tremaining: 186ms\n",
      "499:\tlearn: 0.0012460\ttest: 0.0063398\tbest: 0.0063398 (499)\ttotal: 914ms\tremaining: 0us\n",
      "\n",
      "bestTest = 0.006339842985\n",
      "bestIteration = 499\n",
      "\n"
     ]
    },
    {
     "name": "stderr",
     "output_type": "stream",
     "text": [
      "\r",
      " 67%|██████▋   | 28/42 [47:55<25:28, 109.19s/it]"
     ]
    },
    {
     "name": "stdout",
     "output_type": "stream",
     "text": [
      "0:\tlearn: 0.2333247\ttest: 0.2508873\tbest: 0.2508873 (0)\ttotal: 8.21ms\tremaining: 4.1s\n",
      "100:\tlearn: 0.0023624\ttest: 0.0131189\tbest: 0.0131189 (100)\ttotal: 241ms\tremaining: 953ms\n",
      "200:\tlearn: 0.0015196\ttest: 0.0118212\tbest: 0.0118212 (200)\ttotal: 421ms\tremaining: 626ms\n",
      "300:\tlearn: 0.0014620\ttest: 0.0114773\tbest: 0.0114773 (300)\ttotal: 606ms\tremaining: 400ms\n",
      "400:\tlearn: 0.0014561\ttest: 0.0114028\tbest: 0.0114028 (400)\ttotal: 794ms\tremaining: 196ms\n",
      "499:\tlearn: 0.0013533\ttest: 0.0107665\tbest: 0.0107665 (499)\ttotal: 980ms\tremaining: 0us\n",
      "\n",
      "bestTest = 0.010766497\n",
      "bestIteration = 499\n",
      "\n"
     ]
    },
    {
     "name": "stderr",
     "output_type": "stream",
     "text": [
      "\r",
      " 69%|██████▉   | 29/42 [49:36<23:07, 106.76s/it]"
     ]
    },
    {
     "name": "stdout",
     "output_type": "stream",
     "text": [
      "0:\tlearn: 0.3271742\ttest: 0.3331918\tbest: 0.3331918 (0)\ttotal: 3.83ms\tremaining: 1.91s\n",
      "100:\tlearn: 0.0016002\ttest: 0.0044558\tbest: 0.0044558 (100)\ttotal: 216ms\tremaining: 854ms\n",
      "200:\tlearn: 0.0015967\ttest: 0.0044636\tbest: 0.0044558 (100)\ttotal: 422ms\tremaining: 627ms\n",
      "300:\tlearn: 0.0015513\ttest: 0.0043960\tbest: 0.0043960 (300)\ttotal: 633ms\tremaining: 418ms\n",
      "400:\tlearn: 0.0014242\ttest: 0.0041434\tbest: 0.0041434 (400)\ttotal: 823ms\tremaining: 203ms\n",
      "499:\tlearn: 0.0014223\ttest: 0.0041418\tbest: 0.0041418 (499)\ttotal: 1.02s\tremaining: 0us\n",
      "\n",
      "bestTest = 0.004141831513\n",
      "bestIteration = 499\n",
      "\n"
     ]
    },
    {
     "name": "stderr",
     "output_type": "stream",
     "text": [
      "\r",
      " 71%|███████▏  | 30/42 [53:01<27:11, 135.99s/it]"
     ]
    },
    {
     "name": "stdout",
     "output_type": "stream",
     "text": [
      "0:\tlearn: 0.4477283\ttest: 0.4523949\tbest: 0.4523949 (0)\ttotal: 5ms\tremaining: 2.49s\n",
      "100:\tlearn: 0.0018620\ttest: 0.0051232\tbest: 0.0051232 (100)\ttotal: 242ms\tremaining: 957ms\n",
      "200:\tlearn: 0.0017340\ttest: 0.0047750\tbest: 0.0047750 (200)\ttotal: 447ms\tremaining: 665ms\n",
      "300:\tlearn: 0.0016535\ttest: 0.0045529\tbest: 0.0045529 (300)\ttotal: 779ms\tremaining: 515ms\n",
      "400:\tlearn: 0.0013040\ttest: 0.0039591\tbest: 0.0039591 (400)\ttotal: 1.03s\tremaining: 254ms\n",
      "499:\tlearn: 0.0013009\ttest: 0.0039603\tbest: 0.0039591 (400)\ttotal: 1.25s\tremaining: 0us\n",
      "\n",
      "bestTest = 0.003959109642\n",
      "bestIteration = 400\n",
      "\n",
      "Shrink model to first 401 iterations.\n"
     ]
    },
    {
     "name": "stderr",
     "output_type": "stream",
     "text": [
      "\r",
      " 74%|███████▍  | 31/42 [54:56<23:47, 129.75s/it]"
     ]
    },
    {
     "name": "stdout",
     "output_type": "stream",
     "text": [
      "0:\tlearn: 0.3686865\ttest: 0.3975751\tbest: 0.3975751 (0)\ttotal: 2.23ms\tremaining: 1.11s\n",
      "100:\tlearn: 0.0015022\ttest: 0.0062133\tbest: 0.0062133 (100)\ttotal: 226ms\tremaining: 894ms\n",
      "200:\tlearn: 0.0013082\ttest: 0.0057282\tbest: 0.0057282 (200)\ttotal: 477ms\tremaining: 709ms\n",
      "300:\tlearn: 0.0012205\ttest: 0.0056276\tbest: 0.0056276 (300)\ttotal: 717ms\tremaining: 474ms\n",
      "400:\tlearn: 0.0012182\ttest: 0.0056158\tbest: 0.0056158 (400)\ttotal: 982ms\tremaining: 242ms\n",
      "499:\tlearn: 0.0012158\ttest: 0.0056041\tbest: 0.0056041 (499)\ttotal: 1.22s\tremaining: 0us\n",
      "\n",
      "bestTest = 0.005604139349\n",
      "bestIteration = 499\n",
      "\n"
     ]
    },
    {
     "name": "stderr",
     "output_type": "stream",
     "text": [
      "\r",
      " 76%|███████▌  | 32/42 [57:20<22:22, 134.23s/it]"
     ]
    },
    {
     "name": "stdout",
     "output_type": "stream",
     "text": [
      "0:\tlearn: 0.3085105\ttest: 0.3356435\tbest: 0.3356435 (0)\ttotal: 2.43ms\tremaining: 1.21s\n",
      "100:\tlearn: 0.0016037\ttest: 0.0078710\tbest: 0.0078710 (100)\ttotal: 214ms\tremaining: 844ms\n",
      "200:\tlearn: 0.0013999\ttest: 0.0075127\tbest: 0.0075127 (200)\ttotal: 420ms\tremaining: 625ms\n",
      "300:\tlearn: 0.0013975\ttest: 0.0075051\tbest: 0.0075051 (300)\ttotal: 624ms\tremaining: 413ms\n",
      "400:\tlearn: 0.0011967\ttest: 0.0070423\tbest: 0.0070423 (400)\ttotal: 822ms\tremaining: 203ms\n",
      "499:\tlearn: 0.0011927\ttest: 0.0070326\tbest: 0.0070326 (499)\ttotal: 1.02s\tremaining: 0us\n",
      "\n",
      "bestTest = 0.007032584592\n",
      "bestIteration = 499\n",
      "\n"
     ]
    },
    {
     "name": "stderr",
     "output_type": "stream",
     "text": [
      "\r",
      " 79%|███████▊  | 33/42 [59:14<19:13, 128.13s/it]"
     ]
    },
    {
     "name": "stdout",
     "output_type": "stream",
     "text": [
      "0:\tlearn: 0.4357627\ttest: 0.4348164\tbest: 0.4348164 (0)\ttotal: 5.12ms\tremaining: 2.55s\n",
      "100:\tlearn: 0.0022214\ttest: 0.0055220\tbest: 0.0055220 (100)\ttotal: 224ms\tremaining: 883ms\n",
      "200:\tlearn: 0.0017161\ttest: 0.0044728\tbest: 0.0044728 (200)\ttotal: 431ms\tremaining: 641ms\n",
      "300:\tlearn: 0.0017158\ttest: 0.0044723\tbest: 0.0044723 (300)\ttotal: 636ms\tremaining: 421ms\n",
      "400:\tlearn: 0.0016260\ttest: 0.0043176\tbest: 0.0043176 (400)\ttotal: 843ms\tremaining: 208ms\n",
      "499:\tlearn: 0.0016250\ttest: 0.0043173\tbest: 0.0043173 (499)\ttotal: 1.04s\tremaining: 0us\n",
      "\n",
      "bestTest = 0.004317315981\n",
      "bestIteration = 499\n",
      "\n"
     ]
    },
    {
     "name": "stderr",
     "output_type": "stream",
     "text": [
      "\r",
      " 81%|████████  | 34/42 [1:01:27<17:16, 129.56s/it]"
     ]
    },
    {
     "name": "stdout",
     "output_type": "stream",
     "text": [
      "0:\tlearn: 0.3204200\ttest: 0.3345321\tbest: 0.3345321 (0)\ttotal: 4.03ms\tremaining: 2.01s\n",
      "100:\tlearn: 0.0016846\ttest: 0.0072274\tbest: 0.0072274 (100)\ttotal: 248ms\tremaining: 979ms\n",
      "200:\tlearn: 0.0016536\ttest: 0.0071784\tbest: 0.0071784 (200)\ttotal: 406ms\tremaining: 604ms\n",
      "300:\tlearn: 0.0014470\ttest: 0.0071335\tbest: 0.0071335 (300)\ttotal: 558ms\tremaining: 369ms\n",
      "400:\tlearn: 0.0010596\ttest: 0.0057028\tbest: 0.0057028 (400)\ttotal: 751ms\tremaining: 186ms\n",
      "499:\tlearn: 0.0010569\ttest: 0.0056655\tbest: 0.0056655 (499)\ttotal: 909ms\tremaining: 0us\n",
      "\n",
      "bestTest = 0.005665514306\n",
      "bestIteration = 499\n",
      "\n"
     ]
    },
    {
     "name": "stderr",
     "output_type": "stream",
     "text": [
      "\r",
      " 83%|████████▎ | 35/42 [1:03:32<14:56, 128.10s/it]"
     ]
    },
    {
     "name": "stdout",
     "output_type": "stream",
     "text": [
      "0:\tlearn: 0.4783278\ttest: 0.4809591\tbest: 0.4809591 (0)\ttotal: 2.69ms\tremaining: 1.34s\n",
      "100:\tlearn: 0.0018556\ttest: 0.0053165\tbest: 0.0053165 (100)\ttotal: 294ms\tremaining: 1.16s\n",
      "200:\tlearn: 0.0015859\ttest: 0.0047380\tbest: 0.0047380 (200)\ttotal: 579ms\tremaining: 861ms\n",
      "300:\tlearn: 0.0015845\ttest: 0.0047367\tbest: 0.0047367 (300)\ttotal: 856ms\tremaining: 566ms\n",
      "400:\tlearn: 0.0015836\ttest: 0.0047357\tbest: 0.0047357 (400)\ttotal: 1.14s\tremaining: 281ms\n",
      "499:\tlearn: 0.0015822\ttest: 0.0047334\tbest: 0.0047334 (499)\ttotal: 1.43s\tremaining: 0us\n",
      "\n",
      "bestTest = 0.004733394029\n",
      "bestIteration = 499\n",
      "\n"
     ]
    },
    {
     "name": "stderr",
     "output_type": "stream",
     "text": [
      "\r",
      " 86%|████████▌ | 36/42 [1:05:52<13:10, 131.74s/it]"
     ]
    },
    {
     "name": "stdout",
     "output_type": "stream",
     "text": [
      "0:\tlearn: 0.3403336\ttest: 0.3709313\tbest: 0.3709313 (0)\ttotal: 2.21ms\tremaining: 1.1s\n",
      "100:\tlearn: 0.0013841\ttest: 0.0044065\tbest: 0.0044065 (100)\ttotal: 223ms\tremaining: 879ms\n",
      "200:\tlearn: 0.0013790\ttest: 0.0043950\tbest: 0.0043950 (200)\ttotal: 434ms\tremaining: 646ms\n",
      "300:\tlearn: 0.0013749\ttest: 0.0043878\tbest: 0.0043878 (300)\ttotal: 646ms\tremaining: 427ms\n",
      "400:\tlearn: 0.0013701\ttest: 0.0043790\tbest: 0.0043790 (400)\ttotal: 857ms\tremaining: 211ms\n",
      "499:\tlearn: 0.0013015\ttest: 0.0042157\tbest: 0.0042157 (499)\ttotal: 1.06s\tremaining: 0us\n",
      "\n",
      "bestTest = 0.00421573568\n",
      "bestIteration = 499\n",
      "\n"
     ]
    },
    {
     "name": "stderr",
     "output_type": "stream",
     "text": [
      "\r",
      " 88%|████████▊ | 37/42 [1:08:02<10:55, 131.20s/it]"
     ]
    },
    {
     "name": "stdout",
     "output_type": "stream",
     "text": [
      "0:\tlearn: 0.3890736\ttest: 0.3973419\tbest: 0.3973419 (0)\ttotal: 2.1ms\tremaining: 1.05s\n",
      "100:\tlearn: 0.0018422\ttest: 0.0056629\tbest: 0.0056629 (100)\ttotal: 218ms\tremaining: 860ms\n",
      "200:\tlearn: 0.0015656\ttest: 0.0052931\tbest: 0.0052931 (200)\ttotal: 426ms\tremaining: 633ms\n",
      "300:\tlearn: 0.0015618\ttest: 0.0052904\tbest: 0.0052904 (300)\ttotal: 643ms\tremaining: 425ms\n",
      "400:\tlearn: 0.0013791\ttest: 0.0049404\tbest: 0.0049404 (400)\ttotal: 873ms\tremaining: 216ms\n",
      "499:\tlearn: 0.0012333\ttest: 0.0048578\tbest: 0.0048578 (499)\ttotal: 1.1s\tremaining: 0us\n",
      "\n",
      "bestTest = 0.004857844875\n",
      "bestIteration = 499\n",
      "\n"
     ]
    },
    {
     "name": "stderr",
     "output_type": "stream",
     "text": [
      "\r",
      " 90%|█████████ | 38/42 [1:09:58<08:27, 126.76s/it]"
     ]
    },
    {
     "name": "stdout",
     "output_type": "stream",
     "text": [
      "0:\tlearn: 0.4622253\ttest: 0.4692065\tbest: 0.4692065 (0)\ttotal: 4.76ms\tremaining: 2.37s\n",
      "100:\tlearn: 0.0020129\ttest: 0.0054839\tbest: 0.0054839 (100)\ttotal: 218ms\tremaining: 860ms\n",
      "200:\tlearn: 0.0017868\ttest: 0.0049358\tbest: 0.0049358 (200)\ttotal: 433ms\tremaining: 644ms\n",
      "300:\tlearn: 0.0017176\ttest: 0.0048140\tbest: 0.0048140 (300)\ttotal: 649ms\tremaining: 429ms\n",
      "400:\tlearn: 0.0016469\ttest: 0.0046392\tbest: 0.0046392 (400)\ttotal: 862ms\tremaining: 213ms\n",
      "499:\tlearn: 0.0016378\ttest: 0.0046161\tbest: 0.0046161 (499)\ttotal: 1.07s\tremaining: 0us\n",
      "\n",
      "bestTest = 0.004616070288\n",
      "bestIteration = 499\n",
      "\n"
     ]
    },
    {
     "name": "stderr",
     "output_type": "stream",
     "text": [
      "\r",
      " 93%|█████████▎| 39/42 [1:11:53<06:09, 123.16s/it]"
     ]
    },
    {
     "name": "stdout",
     "output_type": "stream",
     "text": [
      "0:\tlearn: 0.3097213\ttest: 0.3458672\tbest: 0.3458672 (0)\ttotal: 2.49ms\tremaining: 1.24s\n",
      "100:\tlearn: 0.0017900\ttest: 0.0081263\tbest: 0.0081263 (100)\ttotal: 189ms\tremaining: 747ms\n",
      "200:\tlearn: 0.0016331\ttest: 0.0076400\tbest: 0.0076400 (200)\ttotal: 369ms\tremaining: 549ms\n",
      "300:\tlearn: 0.0015226\ttest: 0.0074253\tbest: 0.0074253 (300)\ttotal: 548ms\tremaining: 362ms\n",
      "400:\tlearn: 0.0015186\ttest: 0.0074116\tbest: 0.0074116 (400)\ttotal: 727ms\tremaining: 179ms\n",
      "499:\tlearn: 0.0015146\ttest: 0.0073969\tbest: 0.0073969 (499)\ttotal: 907ms\tremaining: 0us\n",
      "\n",
      "bestTest = 0.007396912371\n",
      "bestIteration = 499\n",
      "\n"
     ]
    },
    {
     "name": "stderr",
     "output_type": "stream",
     "text": [
      "\r",
      " 95%|█████████▌| 40/42 [1:13:32<03:51, 115.92s/it]"
     ]
    },
    {
     "name": "stdout",
     "output_type": "stream",
     "text": [
      "0:\tlearn: 0.3234996\ttest: 0.3461282\tbest: 0.3461282 (0)\ttotal: 2.29ms\tremaining: 1.14s\n",
      "100:\tlearn: 0.0015747\ttest: 0.0070868\tbest: 0.0070868 (100)\ttotal: 211ms\tremaining: 833ms\n",
      "200:\tlearn: 0.0011952\ttest: 0.0062339\tbest: 0.0062339 (200)\ttotal: 420ms\tremaining: 625ms\n",
      "300:\tlearn: 0.0011217\ttest: 0.0061137\tbest: 0.0061137 (300)\ttotal: 627ms\tremaining: 414ms\n",
      "400:\tlearn: 0.0011189\ttest: 0.0061117\tbest: 0.0061117 (400)\ttotal: 833ms\tremaining: 206ms\n",
      "499:\tlearn: 0.0011151\ttest: 0.0061094\tbest: 0.0061094 (499)\ttotal: 1.04s\tremaining: 0us\n",
      "\n",
      "bestTest = 0.006109399475\n",
      "bestIteration = 499\n",
      "\n"
     ]
    },
    {
     "name": "stderr",
     "output_type": "stream",
     "text": [
      "\r",
      " 98%|█████████▊| 41/42 [1:15:14<01:51, 111.59s/it]"
     ]
    },
    {
     "name": "stdout",
     "output_type": "stream",
     "text": [
      "0:\tlearn: 0.3206424\ttest: 0.3473008\tbest: 0.3473008 (0)\ttotal: 2.14ms\tremaining: 1.07s\n",
      "100:\tlearn: 0.0016390\ttest: 0.0070593\tbest: 0.0070593 (100)\ttotal: 194ms\tremaining: 768ms\n",
      "200:\tlearn: 0.0014663\ttest: 0.0065060\tbest: 0.0065060 (200)\ttotal: 391ms\tremaining: 582ms\n",
      "300:\tlearn: 0.0014615\ttest: 0.0064927\tbest: 0.0064927 (300)\ttotal: 603ms\tremaining: 398ms\n",
      "400:\tlearn: 0.0013653\ttest: 0.0060752\tbest: 0.0060752 (400)\ttotal: 818ms\tremaining: 202ms\n",
      "499:\tlearn: 0.0013605\ttest: 0.0060639\tbest: 0.0060639 (499)\ttotal: 1.04s\tremaining: 0us\n",
      "\n",
      "bestTest = 0.006063928362\n",
      "bestIteration = 499\n",
      "\n"
     ]
    },
    {
     "name": "stderr",
     "output_type": "stream",
     "text": [
      "100%|██████████| 42/42 [1:16:58<00:00, 109.97s/it]\n"
     ]
    }
   ],
   "source": [
    "for i in tqdm(range(5, len(sorted_metrics))):\n",
    "    metrics = sorted_metrics[:i]\n",
    "    \n",
    "    model = getBestModelCB(X_train[metrics], X_test[metrics], y_train, y_test,\n",
    "                        params_grid=params_grid)\n",
    "    \n",
    "    time_predict = min(timeit.Timer('model.predict(X_test)', globals=globals()).repeat(repeat=10, number=100))\n",
    "    history['time_predict'].append(time_predict)\n",
    "    \n",
    "    y_pred = model.predict(X_test)\n",
    "    accuracy = accuracy_score(y_test, y_pred)\n",
    "    history['accuracy'].append(accuracy)"
   ]
  },
  {
   "cell_type": "code",
   "execution_count": 194,
   "id": "positive-manitoba",
   "metadata": {},
   "outputs": [
    {
     "data": {
      "image/png": "[encoded data removed]",
      "text/plain": [
       "<Figure size 1152x720 with 1 Axes>"
      ]
     },
     "metadata": {},
     "output_type": "display_data"
    },
    {
     "data": {
      "image/png": "[encoded data removed]",
      "text/plain": [
       "<Figure size 1152x720 with 1 Axes>"
      ]
     },
     "metadata": {},
     "output_type": "display_data"
    }
   ],
   "source": [
    "plot_acc_and_time(history, sorted_metrics)"
   ]
  },
  {
   "cell_type": "code",
   "execution_count": 195,
   "id": "criminal-cinema",
   "metadata": {},
   "outputs": [],
   "source": [
    "# сохранение истории\n",
    "with open('history_valid_3.json', 'w') as fp:\n",
    "    json.dump(history, fp)"
   ]
  },
  {
   "cell_type": "markdown",
   "id": "veterinary-bidder",
   "metadata": {},
   "source": [
    "### Определение позиции"
   ]
  },
  {
   "cell_type": "code",
   "execution_count": 196,
   "id": "limiting-deputy",
   "metadata": {},
   "outputs": [
    {
     "data": {
      "text/html": [
       "<div>\n",
       "<style scoped>\n",
       "    .dataframe tbody tr th:only-of-type {\n",
       "        vertical-align: middle;\n",
       "    }\n",
       "\n",
       "    .dataframe tbody tr th {\n",
       "        vertical-align: top;\n",
       "    }\n",
       "\n",
       "    .dataframe thead th {\n",
       "        text-align: right;\n",
       "    }\n",
       "</style>\n",
       "<table border=\"1\" class=\"dataframe\">\n",
       "  <thead>\n",
       "    <tr style=\"text-align: right;\">\n",
       "      <th></th>\n",
       "      <th>x_mean</th>\n",
       "      <th>x_std</th>\n",
       "      <th>x_max</th>\n",
       "      <th>x_min</th>\n",
       "      <th>x_energy</th>\n",
       "      <th>x_iqr</th>\n",
       "      <th>y_mean</th>\n",
       "      <th>y_std</th>\n",
       "      <th>y_max</th>\n",
       "      <th>y_min</th>\n",
       "      <th>...</th>\n",
       "      <th>x_iqr_pos1</th>\n",
       "      <th>y_iqr_pos1</th>\n",
       "      <th>z_iqr_pos1</th>\n",
       "      <th>xy_corr_pos1</th>\n",
       "      <th>xz_corr_pos1</th>\n",
       "      <th>yz_corr_pos1</th>\n",
       "      <th>height</th>\n",
       "      <th>mass</th>\n",
       "      <th>position</th>\n",
       "      <th>sex</th>\n",
       "    </tr>\n",
       "    <tr>\n",
       "      <th>level_1</th>\n",
       "      <th></th>\n",
       "      <th></th>\n",
       "      <th></th>\n",
       "      <th></th>\n",
       "      <th></th>\n",
       "      <th></th>\n",
       "      <th></th>\n",
       "      <th></th>\n",
       "      <th></th>\n",
       "      <th></th>\n",
       "      <th></th>\n",
       "      <th></th>\n",
       "      <th></th>\n",
       "      <th></th>\n",
       "      <th></th>\n",
       "      <th></th>\n",
       "      <th></th>\n",
       "      <th></th>\n",
       "      <th></th>\n",
       "      <th></th>\n",
       "      <th></th>\n",
       "    </tr>\n",
       "  </thead>\n",
       "  <tbody>\n",
       "    <tr>\n",
       "      <th>1673</th>\n",
       "      <td>11156.76</td>\n",
       "      <td>123.532772</td>\n",
       "      <td>11380.0</td>\n",
       "      <td>10836.0</td>\n",
       "      <td>1.244884e+08</td>\n",
       "      <td>177.0</td>\n",
       "      <td>1158.80</td>\n",
       "      <td>73.172275</td>\n",
       "      <td>1348.0</td>\n",
       "      <td>920.0</td>\n",
       "      <td>...</td>\n",
       "      <td>196.0</td>\n",
       "      <td>132.0</td>\n",
       "      <td>485.0</td>\n",
       "      <td>-0.203383</td>\n",
       "      <td>0.750925</td>\n",
       "      <td>-0.452449</td>\n",
       "      <td>185</td>\n",
       "      <td>75</td>\n",
       "      <td>1</td>\n",
       "      <td>1</td>\n",
       "    </tr>\n",
       "    <tr>\n",
       "      <th>1698</th>\n",
       "      <td>11156.88</td>\n",
       "      <td>128.858961</td>\n",
       "      <td>11380.0</td>\n",
       "      <td>10836.0</td>\n",
       "      <td>1.244924e+08</td>\n",
       "      <td>193.0</td>\n",
       "      <td>1137.96</td>\n",
       "      <td>69.416023</td>\n",
       "      <td>1300.0</td>\n",
       "      <td>920.0</td>\n",
       "      <td>...</td>\n",
       "      <td>196.0</td>\n",
       "      <td>132.0</td>\n",
       "      <td>485.0</td>\n",
       "      <td>-0.203383</td>\n",
       "      <td>0.750925</td>\n",
       "      <td>-0.452449</td>\n",
       "      <td>185</td>\n",
       "      <td>75</td>\n",
       "      <td>1</td>\n",
       "      <td>1</td>\n",
       "    </tr>\n",
       "    <tr>\n",
       "      <th>1723</th>\n",
       "      <td>11154.36</td>\n",
       "      <td>134.410311</td>\n",
       "      <td>11532.0</td>\n",
       "      <td>10836.0</td>\n",
       "      <td>1.244376e+08</td>\n",
       "      <td>190.0</td>\n",
       "      <td>1088.32</td>\n",
       "      <td>171.829072</td>\n",
       "      <td>1380.0</td>\n",
       "      <td>164.0</td>\n",
       "      <td>...</td>\n",
       "      <td>196.0</td>\n",
       "      <td>132.0</td>\n",
       "      <td>485.0</td>\n",
       "      <td>-0.203383</td>\n",
       "      <td>0.750925</td>\n",
       "      <td>-0.452449</td>\n",
       "      <td>185</td>\n",
       "      <td>75</td>\n",
       "      <td>1</td>\n",
       "      <td>1</td>\n",
       "    </tr>\n",
       "    <tr>\n",
       "      <th>1748</th>\n",
       "      <td>10998.28</td>\n",
       "      <td>415.506022</td>\n",
       "      <td>11532.0</td>\n",
       "      <td>9384.0</td>\n",
       "      <td>1.211331e+08</td>\n",
       "      <td>323.0</td>\n",
       "      <td>853.36</td>\n",
       "      <td>499.190851</td>\n",
       "      <td>1380.0</td>\n",
       "      <td>-1032.0</td>\n",
       "      <td>...</td>\n",
       "      <td>196.0</td>\n",
       "      <td>132.0</td>\n",
       "      <td>485.0</td>\n",
       "      <td>-0.203383</td>\n",
       "      <td>0.750925</td>\n",
       "      <td>-0.452449</td>\n",
       "      <td>185</td>\n",
       "      <td>75</td>\n",
       "      <td>1</td>\n",
       "      <td>1</td>\n",
       "    </tr>\n",
       "    <tr>\n",
       "      <th>1773</th>\n",
       "      <td>10883.04</td>\n",
       "      <td>409.575930</td>\n",
       "      <td>11532.0</td>\n",
       "      <td>9384.0</td>\n",
       "      <td>1.186066e+08</td>\n",
       "      <td>543.0</td>\n",
       "      <td>537.68</td>\n",
       "      <td>622.192456</td>\n",
       "      <td>1380.0</td>\n",
       "      <td>-1032.0</td>\n",
       "      <td>...</td>\n",
       "      <td>196.0</td>\n",
       "      <td>132.0</td>\n",
       "      <td>485.0</td>\n",
       "      <td>-0.203383</td>\n",
       "      <td>0.750925</td>\n",
       "      <td>-0.452449</td>\n",
       "      <td>185</td>\n",
       "      <td>75</td>\n",
       "      <td>1</td>\n",
       "      <td>1</td>\n",
       "    </tr>\n",
       "  </tbody>\n",
       "</table>\n",
       "<p>5 rows × 48 columns</p>\n",
       "</div>"
      ],
      "text/plain": [
       "           x_mean       x_std    x_max    x_min      x_energy  x_iqr   y_mean  \\\n",
       "level_1                                                                         \n",
       "1673     11156.76  123.532772  11380.0  10836.0  1.244884e+08  177.0  1158.80   \n",
       "1698     11156.88  128.858961  11380.0  10836.0  1.244924e+08  193.0  1137.96   \n",
       "1723     11154.36  134.410311  11532.0  10836.0  1.244376e+08  190.0  1088.32   \n",
       "1748     10998.28  415.506022  11532.0   9384.0  1.211331e+08  323.0   853.36   \n",
       "1773     10883.04  409.575930  11532.0   9384.0  1.186066e+08  543.0   537.68   \n",
       "\n",
       "              y_std   y_max   y_min  ...  x_iqr_pos1  y_iqr_pos1  z_iqr_pos1  \\\n",
       "level_1                              ...                                       \n",
       "1673      73.172275  1348.0   920.0  ...       196.0       132.0       485.0   \n",
       "1698      69.416023  1300.0   920.0  ...       196.0       132.0       485.0   \n",
       "1723     171.829072  1380.0   164.0  ...       196.0       132.0       485.0   \n",
       "1748     499.190851  1380.0 -1032.0  ...       196.0       132.0       485.0   \n",
       "1773     622.192456  1380.0 -1032.0  ...       196.0       132.0       485.0   \n",
       "\n",
       "         xy_corr_pos1  xz_corr_pos1  yz_corr_pos1  height  mass  position  sex  \n",
       "level_1                                                                         \n",
       "1673        -0.203383      0.750925     -0.452449     185    75         1    1  \n",
       "1698        -0.203383      0.750925     -0.452449     185    75         1    1  \n",
       "1723        -0.203383      0.750925     -0.452449     185    75         1    1  \n",
       "1748        -0.203383      0.750925     -0.452449     185    75         1    1  \n",
       "1773        -0.203383      0.750925     -0.452449     185    75         1    1  \n",
       "\n",
       "[5 rows x 48 columns]"
      ]
     },
     "execution_count": 196,
     "metadata": {},
     "output_type": "execute_result"
    }
   ],
   "source": [
    "data = pd.read_csv('../datasets/added_pos1_metrics_windowed.csv', index_col=[0, 1])\n",
    "data = data.droplevel(0)\n",
    "data = data.drop(['is_valid', 'age'], axis=1)\n",
    "data.head()"
   ]
  },
  {
   "cell_type": "code",
   "execution_count": 197,
   "id": "handmade-strength",
   "metadata": {},
   "outputs": [],
   "source": [
    "y = data['position']\n",
    "X = data.drop('position', axis=1)\n",
    "\n",
    "X_train, X_test, y_train, y_test = train_test_split(\n",
    "    X, y, train_size=0.7, random_state=1234\n",
    ")\n",
    "\n",
    "params_grid = {\n",
    "            'n_estimators': [100, 200, 300, 500],\n",
    "            'max_depth' : np.arange(3, 7),\n",
    "            'learning_rate': np.linspace(0.0125, 0.6, 10)\n",
    "        }"
   ]
  },
  {
   "cell_type": "code",
   "execution_count": 198,
   "id": "collected-voltage",
   "metadata": {},
   "outputs": [],
   "source": [
    "history = defaultdict(list)"
   ]
  },
  {
   "cell_type": "code",
   "execution_count": 199,
   "id": "toxic-cream",
   "metadata": {},
   "outputs": [
    {
     "name": "stderr",
     "output_type": "stream",
     "text": [
      "\r",
      "  0%|          | 0/42 [00:00<?, ?it/s]"
     ]
    },
    {
     "name": "stdout",
     "output_type": "stream",
     "text": [
      "0:\tlearn: 0.9230899\ttest: 0.9269706\tbest: 0.9269706 (0)\ttotal: 4.4ms\tremaining: 2.2s\n",
      "100:\tlearn: 0.1245175\ttest: 0.1777377\tbest: 0.1777377 (100)\ttotal: 197ms\tremaining: 779ms\n",
      "200:\tlearn: 0.0721037\ttest: 0.1353407\tbest: 0.1353407 (200)\ttotal: 388ms\tremaining: 577ms\n",
      "300:\tlearn: 0.0497146\ttest: 0.1194380\tbest: 0.1194380 (300)\ttotal: 594ms\tremaining: 393ms\n",
      "400:\tlearn: 0.0371375\ttest: 0.1098400\tbest: 0.1098400 (400)\ttotal: 797ms\tremaining: 197ms\n",
      "499:\tlearn: 0.0296650\ttest: 0.1047461\tbest: 0.1047461 (499)\ttotal: 1.02s\tremaining: 0us\n",
      "\n",
      "bestTest = 0.1047460661\n",
      "bestIteration = 499\n",
      "\n"
     ]
    },
    {
     "name": "stderr",
     "output_type": "stream",
     "text": [
      "\r",
      "  2%|▏         | 1/42 [02:06<1:26:38, 126.79s/it]"
     ]
    },
    {
     "name": "stdout",
     "output_type": "stream",
     "text": [
      "0:\tlearn: 0.9266312\ttest: 0.9305065\tbest: 0.9305065 (0)\ttotal: 2.85ms\tremaining: 1.42s\n",
      "100:\tlearn: 0.1011697\ttest: 0.1584676\tbest: 0.1584676 (100)\ttotal: 214ms\tremaining: 846ms\n",
      "200:\tlearn: 0.0546915\ttest: 0.1203380\tbest: 0.1203380 (200)\ttotal: 431ms\tremaining: 641ms\n",
      "300:\tlearn: 0.0366819\ttest: 0.1068546\tbest: 0.1068546 (300)\ttotal: 646ms\tremaining: 427ms\n",
      "400:\tlearn: 0.0267883\ttest: 0.0984524\tbest: 0.0984524 (400)\ttotal: 848ms\tremaining: 209ms\n",
      "499:\tlearn: 0.0209773\ttest: 0.0948683\tbest: 0.0948683 (499)\ttotal: 1.07s\tremaining: 0us\n",
      "\n",
      "bestTest = 0.09486828241\n",
      "bestIteration = 499\n",
      "\n"
     ]
    },
    {
     "name": "stderr",
     "output_type": "stream",
     "text": [
      "\r",
      "  5%|▍         | 2/42 [04:12<1:24:03, 126.08s/it]"
     ]
    },
    {
     "name": "stdout",
     "output_type": "stream",
     "text": [
      "0:\tlearn: 0.7445994\ttest: 0.7399338\tbest: 0.7399338 (0)\ttotal: 9.82ms\tremaining: 4.9s\n",
      "100:\tlearn: 0.0361222\ttest: 0.0681795\tbest: 0.0681795 (100)\ttotal: 254ms\tremaining: 1s\n",
      "200:\tlearn: 0.0167883\ttest: 0.0511300\tbest: 0.0511300 (200)\ttotal: 503ms\tremaining: 748ms\n",
      "300:\tlearn: 0.0101326\ttest: 0.0456562\tbest: 0.0456562 (300)\ttotal: 733ms\tremaining: 485ms\n",
      "400:\tlearn: 0.0071638\ttest: 0.0423395\tbest: 0.0423395 (400)\ttotal: 960ms\tremaining: 237ms\n",
      "499:\tlearn: 0.0054228\ttest: 0.0404492\tbest: 0.0404492 (499)\ttotal: 1.17s\tremaining: 0us\n",
      "\n",
      "bestTest = 0.04044921418\n",
      "bestIteration = 499\n",
      "\n"
     ]
    },
    {
     "name": "stderr",
     "output_type": "stream",
     "text": [
      "\r",
      "  7%|▋         | 3/42 [06:29<1:25:09, 131.02s/it]"
     ]
    },
    {
     "name": "stdout",
     "output_type": "stream",
     "text": [
      "0:\tlearn: 0.7189115\ttest: 0.7123211\tbest: 0.7123211 (0)\ttotal: 2.71ms\tremaining: 1.35s\n",
      "100:\tlearn: 0.0326248\ttest: 0.0604892\tbest: 0.0604892 (100)\ttotal: 228ms\tremaining: 901ms\n",
      "200:\tlearn: 0.0149121\ttest: 0.0455494\tbest: 0.0455494 (200)\ttotal: 478ms\tremaining: 711ms\n",
      "300:\tlearn: 0.0089403\ttest: 0.0409245\tbest: 0.0409245 (300)\ttotal: 707ms\tremaining: 467ms\n",
      "400:\tlearn: 0.0063032\ttest: 0.0382096\tbest: 0.0382096 (400)\ttotal: 948ms\tremaining: 234ms\n",
      "499:\tlearn: 0.0047354\ttest: 0.0362509\tbest: 0.0362509 (499)\ttotal: 1.17s\tremaining: 0us\n",
      "\n",
      "bestTest = 0.03625088726\n",
      "bestIteration = 499\n",
      "\n"
     ]
    },
    {
     "name": "stderr",
     "output_type": "stream",
     "text": [
      "\r",
      " 10%|▉         | 4/42 [08:36<1:22:03, 129.58s/it]"
     ]
    },
    {
     "name": "stdout",
     "output_type": "stream",
     "text": [
      "0:\tlearn: 0.6856491\ttest: 0.6932453\tbest: 0.6932453 (0)\ttotal: 2.73ms\tremaining: 1.36s\n",
      "100:\tlearn: 0.0236308\ttest: 0.0510956\tbest: 0.0510956 (100)\ttotal: 253ms\tremaining: 1s\n",
      "200:\tlearn: 0.0104467\ttest: 0.0406205\tbest: 0.0406205 (200)\ttotal: 489ms\tremaining: 727ms\n",
      "300:\tlearn: 0.0062864\ttest: 0.0369889\tbest: 0.0369889 (300)\ttotal: 719ms\tremaining: 475ms\n",
      "400:\tlearn: 0.0043341\ttest: 0.0344749\tbest: 0.0344749 (400)\ttotal: 937ms\tremaining: 231ms\n",
      "499:\tlearn: 0.0032942\ttest: 0.0337098\tbest: 0.0337098 (499)\ttotal: 1.18s\tremaining: 0us\n",
      "\n",
      "bestTest = 0.03370977369\n",
      "bestIteration = 499\n",
      "\n"
     ]
    },
    {
     "name": "stderr",
     "output_type": "stream",
     "text": [
      "\r",
      " 12%|█▏        | 5/42 [10:44<1:19:30, 128.93s/it]"
     ]
    },
    {
     "name": "stdout",
     "output_type": "stream",
     "text": [
      "0:\tlearn: 0.6072129\ttest: 0.6079136\tbest: 0.6079136 (0)\ttotal: 3.39ms\tremaining: 1.69s\n",
      "100:\tlearn: 0.0181412\ttest: 0.0404610\tbest: 0.0404610 (100)\ttotal: 278ms\tremaining: 1.1s\n",
      "200:\tlearn: 0.0076426\ttest: 0.0278424\tbest: 0.0278424 (200)\ttotal: 536ms\tremaining: 797ms\n",
      "300:\tlearn: 0.0045091\ttest: 0.0236981\tbest: 0.0236981 (300)\ttotal: 780ms\tremaining: 516ms\n",
      "400:\tlearn: 0.0031645\ttest: 0.0217903\tbest: 0.0217903 (400)\ttotal: 1.02s\tremaining: 253ms\n",
      "499:\tlearn: 0.0023767\ttest: 0.0206478\tbest: 0.0206478 (499)\ttotal: 1.29s\tremaining: 0us\n",
      "\n",
      "bestTest = 0.02064777635\n",
      "bestIteration = 499\n",
      "\n"
     ]
    },
    {
     "name": "stderr",
     "output_type": "stream",
     "text": [
      "\r",
      " 14%|█▍        | 6/42 [12:57<1:18:12, 130.35s/it]"
     ]
    },
    {
     "name": "stdout",
     "output_type": "stream",
     "text": [
      "0:\tlearn: 0.6591815\ttest: 0.6526249\tbest: 0.6526249 (0)\ttotal: 3.81ms\tremaining: 1.9s\n",
      "100:\tlearn: 0.0166480\ttest: 0.0323783\tbest: 0.0323783 (100)\ttotal: 274ms\tremaining: 1.08s\n",
      "200:\tlearn: 0.0069657\ttest: 0.0222075\tbest: 0.0222075 (200)\ttotal: 530ms\tremaining: 788ms\n",
      "300:\tlearn: 0.0041953\ttest: 0.0200006\tbest: 0.0200006 (300)\ttotal: 778ms\tremaining: 514ms\n",
      "400:\tlearn: 0.0027918\ttest: 0.0179909\tbest: 0.0179909 (400)\ttotal: 1.03s\tremaining: 255ms\n",
      "499:\tlearn: 0.0021263\ttest: 0.0176828\tbest: 0.0176828 (499)\ttotal: 1.28s\tremaining: 0us\n",
      "\n",
      "bestTest = 0.01768275436\n",
      "bestIteration = 499\n",
      "\n"
     ]
    },
    {
     "name": "stderr",
     "output_type": "stream",
     "text": [
      "\r",
      " 17%|█▋        | 7/42 [15:11<1:16:46, 131.61s/it]"
     ]
    },
    {
     "name": "stdout",
     "output_type": "stream",
     "text": [
      "0:\tlearn: 0.6225602\ttest: 0.6192143\tbest: 0.6192143 (0)\ttotal: 2.93ms\tremaining: 1.46s\n",
      "100:\tlearn: 0.0164845\ttest: 0.0320846\tbest: 0.0320846 (100)\ttotal: 235ms\tremaining: 929ms\n",
      "200:\tlearn: 0.0068078\ttest: 0.0208456\tbest: 0.0208456 (200)\ttotal: 471ms\tremaining: 700ms\n",
      "300:\tlearn: 0.0039477\ttest: 0.0179408\tbest: 0.0179408 (300)\ttotal: 704ms\tremaining: 465ms\n",
      "400:\tlearn: 0.0027361\ttest: 0.0165885\tbest: 0.0165885 (400)\ttotal: 936ms\tremaining: 231ms\n",
      "499:\tlearn: 0.0020522\ttest: 0.0155006\tbest: 0.0155006 (499)\ttotal: 1.17s\tremaining: 0us\n",
      "\n",
      "bestTest = 0.01550063018\n",
      "bestIteration = 499\n",
      "\n"
     ]
    },
    {
     "name": "stderr",
     "output_type": "stream",
     "text": [
      "\r",
      " 19%|█▉        | 8/42 [17:18<1:13:46, 130.20s/it]"
     ]
    },
    {
     "name": "stdout",
     "output_type": "stream",
     "text": [
      "0:\tlearn: 0.6622963\ttest: 0.6630763\tbest: 0.6630763 (0)\ttotal: 2.91ms\tremaining: 1.45s\n",
      "100:\tlearn: 0.0178397\ttest: 0.0331836\tbest: 0.0331836 (100)\ttotal: 233ms\tremaining: 920ms\n",
      "200:\tlearn: 0.0072286\ttest: 0.0221092\tbest: 0.0221092 (200)\ttotal: 470ms\tremaining: 699ms\n",
      "300:\tlearn: 0.0043588\ttest: 0.0187860\tbest: 0.0187860 (300)\ttotal: 707ms\tremaining: 467ms\n",
      "400:\tlearn: 0.0029733\ttest: 0.0171898\tbest: 0.0171898 (400)\ttotal: 941ms\tremaining: 232ms\n",
      "499:\tlearn: 0.0022486\ttest: 0.0160630\tbest: 0.0160630 (499)\ttotal: 1.17s\tremaining: 0us\n",
      "\n",
      "bestTest = 0.01606302147\n",
      "bestIteration = 499\n",
      "\n"
     ]
    },
    {
     "name": "stderr",
     "output_type": "stream",
     "text": [
      "\r",
      " 21%|██▏       | 9/42 [19:24<1:10:46, 128.69s/it]"
     ]
    },
    {
     "name": "stdout",
     "output_type": "stream",
     "text": [
      "0:\tlearn: 0.7422010\ttest: 0.7418753\tbest: 0.7418753 (0)\ttotal: 6.95ms\tremaining: 3.47s\n",
      "100:\tlearn: 0.0219519\ttest: 0.0339512\tbest: 0.0339512 (100)\ttotal: 289ms\tremaining: 1.14s\n",
      "200:\tlearn: 0.0096119\ttest: 0.0218060\tbest: 0.0218060 (200)\ttotal: 562ms\tremaining: 836ms\n",
      "300:\tlearn: 0.0054690\ttest: 0.0174290\tbest: 0.0174290 (300)\ttotal: 838ms\tremaining: 554ms\n",
      "400:\tlearn: 0.0038200\ttest: 0.0150783\tbest: 0.0150783 (400)\ttotal: 1.11s\tremaining: 274ms\n",
      "499:\tlearn: 0.0027792\ttest: 0.0134919\tbest: 0.0134919 (499)\ttotal: 1.38s\tremaining: 0us\n",
      "\n",
      "bestTest = 0.01349187339\n",
      "bestIteration = 499\n",
      "\n"
     ]
    },
    {
     "name": "stderr",
     "output_type": "stream",
     "text": [
      "\r",
      " 24%|██▍       | 10/42 [21:42<1:10:10, 131.59s/it]"
     ]
    },
    {
     "name": "stdout",
     "output_type": "stream",
     "text": [
      "0:\tlearn: 0.6499654\ttest: 0.6484637\tbest: 0.6484637 (0)\ttotal: 3.53ms\tremaining: 1.76s\n",
      "100:\tlearn: 0.0147075\ttest: 0.0273347\tbest: 0.0273347 (100)\ttotal: 301ms\tremaining: 1.19s\n",
      "200:\tlearn: 0.0055796\ttest: 0.0172229\tbest: 0.0172229 (200)\ttotal: 600ms\tremaining: 892ms\n",
      "300:\tlearn: 0.0032361\ttest: 0.0143436\tbest: 0.0143436 (300)\ttotal: 897ms\tremaining: 593ms\n",
      "400:\tlearn: 0.0021497\ttest: 0.0123102\tbest: 0.0123102 (400)\ttotal: 1.19s\tremaining: 295ms\n",
      "499:\tlearn: 0.0016014\ttest: 0.0112978\tbest: 0.0112978 (499)\ttotal: 1.5s\tremaining: 0us\n",
      "\n",
      "bestTest = 0.01129783394\n",
      "bestIteration = 499\n",
      "\n"
     ]
    },
    {
     "name": "stderr",
     "output_type": "stream",
     "text": [
      "\r",
      " 26%|██▌       | 11/42 [24:08<1:10:16, 136.02s/it]"
     ]
    },
    {
     "name": "stdout",
     "output_type": "stream",
     "text": [
      "0:\tlearn: 0.6930758\ttest: 0.6876159\tbest: 0.6876159 (0)\ttotal: 3.69ms\tremaining: 1.84s\n",
      "100:\tlearn: 0.0165107\ttest: 0.0269651\tbest: 0.0269651 (100)\ttotal: 310ms\tremaining: 1.23s\n",
      "200:\tlearn: 0.0065316\ttest: 0.0169069\tbest: 0.0169069 (200)\ttotal: 613ms\tremaining: 913ms\n",
      "300:\tlearn: 0.0038769\ttest: 0.0135948\tbest: 0.0135948 (300)\ttotal: 927ms\tremaining: 613ms\n",
      "400:\tlearn: 0.0025827\ttest: 0.0118973\tbest: 0.0118973 (400)\ttotal: 1.35s\tremaining: 334ms\n",
      "499:\tlearn: 0.0019324\ttest: 0.0109245\tbest: 0.0109245 (499)\ttotal: 1.65s\tremaining: 0us\n",
      "\n",
      "bestTest = 0.0109244681\n",
      "bestIteration = 499\n",
      "\n"
     ]
    },
    {
     "name": "stderr",
     "output_type": "stream",
     "text": [
      "\r",
      " 29%|██▊       | 12/42 [26:32<1:09:12, 138.43s/it]"
     ]
    },
    {
     "name": "stdout",
     "output_type": "stream",
     "text": [
      "0:\tlearn: 0.5552698\ttest: 0.5488557\tbest: 0.5488557 (0)\ttotal: 3.55ms\tremaining: 1.77s\n",
      "100:\tlearn: 0.0095960\ttest: 0.0203100\tbest: 0.0203100 (100)\ttotal: 316ms\tremaining: 1.25s\n",
      "200:\tlearn: 0.0034753\ttest: 0.0131276\tbest: 0.0131276 (200)\ttotal: 629ms\tremaining: 936ms\n",
      "300:\tlearn: 0.0021179\ttest: 0.0108107\tbest: 0.0108107 (300)\ttotal: 942ms\tremaining: 623ms\n",
      "400:\tlearn: 0.0014622\ttest: 0.0094824\tbest: 0.0094824 (400)\ttotal: 1.26s\tremaining: 311ms\n",
      "499:\tlearn: 0.0011266\ttest: 0.0090572\tbest: 0.0090572 (499)\ttotal: 1.57s\tremaining: 0us\n",
      "\n",
      "bestTest = 0.009057193761\n",
      "bestIteration = 499\n",
      "\n"
     ]
    },
    {
     "name": "stderr",
     "output_type": "stream",
     "text": [
      "\r",
      " 31%|███       | 13/42 [28:57<1:07:49, 140.33s/it]"
     ]
    },
    {
     "name": "stdout",
     "output_type": "stream",
     "text": [
      "0:\tlearn: 0.8103856\ttest: 0.8077285\tbest: 0.8077285 (0)\ttotal: 3.68ms\tremaining: 1.84s\n",
      "100:\tlearn: 0.0246087\ttest: 0.0339592\tbest: 0.0339592 (100)\ttotal: 305ms\tremaining: 1.2s\n",
      "200:\tlearn: 0.0096967\ttest: 0.0196372\tbest: 0.0196372 (200)\ttotal: 606ms\tremaining: 902ms\n",
      "300:\tlearn: 0.0058474\ttest: 0.0155953\tbest: 0.0155953 (300)\ttotal: 909ms\tremaining: 601ms\n",
      "400:\tlearn: 0.0040718\ttest: 0.0136457\tbest: 0.0136457 (400)\ttotal: 1.21s\tremaining: 299ms\n",
      "499:\tlearn: 0.0030638\ttest: 0.0124176\tbest: 0.0124176 (499)\ttotal: 1.51s\tremaining: 0us\n",
      "\n",
      "bestTest = 0.01241763641\n",
      "bestIteration = 499\n",
      "\n"
     ]
    },
    {
     "name": "stderr",
     "output_type": "stream",
     "text": [
      "\r",
      " 33%|███▎      | 14/42 [31:21<1:06:05, 141.61s/it]"
     ]
    },
    {
     "name": "stdout",
     "output_type": "stream",
     "text": [
      "0:\tlearn: 0.5826507\ttest: 0.5747700\tbest: 0.5747700 (0)\ttotal: 3.7ms\tremaining: 1.84s\n",
      "100:\tlearn: 0.0082712\ttest: 0.0179594\tbest: 0.0179594 (100)\ttotal: 329ms\tremaining: 1.3s\n",
      "200:\tlearn: 0.0034138\ttest: 0.0121275\tbest: 0.0121275 (200)\ttotal: 655ms\tremaining: 974ms\n",
      "300:\tlearn: 0.0019473\ttest: 0.0097992\tbest: 0.0097992 (300)\ttotal: 980ms\tremaining: 648ms\n",
      "400:\tlearn: 0.0013380\ttest: 0.0089005\tbest: 0.0089005 (400)\ttotal: 1.31s\tremaining: 323ms\n",
      "499:\tlearn: 0.0009905\ttest: 0.0083839\tbest: 0.0083839 (499)\ttotal: 1.63s\tremaining: 0us\n",
      "\n",
      "bestTest = 0.008383900828\n",
      "bestIteration = 499\n",
      "\n"
     ]
    },
    {
     "name": "stderr",
     "output_type": "stream",
     "text": [
      "\r",
      " 36%|███▌      | 15/42 [33:51<1:04:49, 144.04s/it]"
     ]
    },
    {
     "name": "stdout",
     "output_type": "stream",
     "text": [
      "0:\tlearn: 0.7355042\ttest: 0.7335568\tbest: 0.7335568 (0)\ttotal: 6.13ms\tremaining: 3.06s\n",
      "100:\tlearn: 0.0183530\ttest: 0.0298978\tbest: 0.0298978 (100)\ttotal: 332ms\tremaining: 1.31s\n",
      "200:\tlearn: 0.0073708\ttest: 0.0177492\tbest: 0.0177492 (200)\ttotal: 654ms\tremaining: 973ms\n",
      "300:\tlearn: 0.0042518\ttest: 0.0139999\tbest: 0.0139999 (300)\ttotal: 975ms\tremaining: 645ms\n",
      "400:\tlearn: 0.0028343\ttest: 0.0120225\tbest: 0.0120225 (400)\ttotal: 1.32s\tremaining: 326ms\n",
      "499:\tlearn: 0.0021105\ttest: 0.0109179\tbest: 0.0109179 (499)\ttotal: 1.68s\tremaining: 0us\n",
      "\n",
      "bestTest = 0.01091788172\n",
      "bestIteration = 499\n",
      "\n"
     ]
    },
    {
     "name": "stderr",
     "output_type": "stream",
     "text": [
      "\r",
      " 38%|███▊      | 16/42 [36:21<1:03:09, 145.75s/it]"
     ]
    },
    {
     "name": "stdout",
     "output_type": "stream",
     "text": [
      "0:\tlearn: 0.5690881\ttest: 0.5675669\tbest: 0.5675669 (0)\ttotal: 3.79ms\tremaining: 1.89s\n",
      "100:\tlearn: 0.0081970\ttest: 0.0203551\tbest: 0.0203551 (100)\ttotal: 331ms\tremaining: 1.3s\n",
      "200:\tlearn: 0.0033371\ttest: 0.0142407\tbest: 0.0142407 (200)\ttotal: 670ms\tremaining: 997ms\n",
      "300:\tlearn: 0.0019174\ttest: 0.0114679\tbest: 0.0114679 (300)\ttotal: 1s\tremaining: 665ms\n",
      "400:\tlearn: 0.0013562\ttest: 0.0100992\tbest: 0.0100992 (400)\ttotal: 1.34s\tremaining: 330ms\n",
      "499:\tlearn: 0.0010111\ttest: 0.0092294\tbest: 0.0092294 (499)\ttotal: 1.67s\tremaining: 0us\n",
      "\n",
      "bestTest = 0.009229359285\n",
      "bestIteration = 499\n",
      "\n"
     ]
    },
    {
     "name": "stderr",
     "output_type": "stream",
     "text": [
      "\r",
      " 40%|████      | 17/42 [38:50<1:01:13, 146.96s/it]"
     ]
    },
    {
     "name": "stdout",
     "output_type": "stream",
     "text": [
      "0:\tlearn: 0.5891838\ttest: 0.5784383\tbest: 0.5784383 (0)\ttotal: 2.76ms\tremaining: 1.38s\n",
      "100:\tlearn: 0.0120200\ttest: 0.0222546\tbest: 0.0222546 (100)\ttotal: 230ms\tremaining: 909ms\n",
      "200:\tlearn: 0.0046761\ttest: 0.0139451\tbest: 0.0139451 (200)\ttotal: 457ms\tremaining: 679ms\n",
      "300:\tlearn: 0.0025862\ttest: 0.0115779\tbest: 0.0115779 (300)\ttotal: 684ms\tremaining: 452ms\n",
      "400:\tlearn: 0.0017290\ttest: 0.0103230\tbest: 0.0103230 (400)\ttotal: 910ms\tremaining: 225ms\n",
      "499:\tlearn: 0.0012679\ttest: 0.0092292\tbest: 0.0092292 (499)\ttotal: 1.13s\tremaining: 0us\n",
      "\n",
      "bestTest = 0.009229184079\n",
      "bestIteration = 499\n",
      "\n"
     ]
    },
    {
     "name": "stderr",
     "output_type": "stream",
     "text": [
      "\r",
      " 43%|████▎     | 18/42 [41:18<58:51, 147.14s/it]  "
     ]
    },
    {
     "name": "stdout",
     "output_type": "stream",
     "text": [
      "0:\tlearn: 0.5547499\ttest: 0.5545500\tbest: 0.5545500 (0)\ttotal: 4.09ms\tremaining: 2.04s\n",
      "100:\tlearn: 0.0080190\ttest: 0.0168836\tbest: 0.0168836 (100)\ttotal: 366ms\tremaining: 1.45s\n",
      "200:\tlearn: 0.0031034\ttest: 0.0106280\tbest: 0.0106280 (200)\ttotal: 795ms\tremaining: 1.18s\n",
      "300:\tlearn: 0.0017860\ttest: 0.0083063\tbest: 0.0083063 (300)\ttotal: 1.2s\tremaining: 794ms\n",
      "400:\tlearn: 0.0012566\ttest: 0.0073002\tbest: 0.0073002 (400)\ttotal: 1.63s\tremaining: 402ms\n",
      "499:\tlearn: 0.0009566\ttest: 0.0066639\tbest: 0.0066639 (499)\ttotal: 2.03s\tremaining: 0us\n",
      "\n",
      "bestTest = 0.006663949199\n",
      "bestIteration = 499\n",
      "\n"
     ]
    },
    {
     "name": "stderr",
     "output_type": "stream",
     "text": [
      "\r",
      " 45%|████▌     | 19/42 [43:59<58:02, 151.39s/it]"
     ]
    },
    {
     "name": "stdout",
     "output_type": "stream",
     "text": [
      "0:\tlearn: 0.5987302\ttest: 0.5998991\tbest: 0.5998991 (0)\ttotal: 3.2ms\tremaining: 1.6s\n",
      "100:\tlearn: 0.0144421\ttest: 0.0294744\tbest: 0.0294744 (100)\ttotal: 266ms\tremaining: 1.05s\n",
      "200:\tlearn: 0.0047285\ttest: 0.0182398\tbest: 0.0182398 (200)\ttotal: 525ms\tremaining: 781ms\n",
      "300:\tlearn: 0.0027220\ttest: 0.0147593\tbest: 0.0147593 (300)\ttotal: 785ms\tremaining: 519ms\n",
      "400:\tlearn: 0.0017881\ttest: 0.0131211\tbest: 0.0131211 (400)\ttotal: 1.05s\tremaining: 258ms\n",
      "499:\tlearn: 0.0013208\ttest: 0.0120340\tbest: 0.0120340 (499)\ttotal: 1.31s\tremaining: 0us\n",
      "\n",
      "bestTest = 0.01203400803\n",
      "bestIteration = 499\n",
      "\n"
     ]
    },
    {
     "name": "stderr",
     "output_type": "stream",
     "text": [
      "\r",
      " 48%|████▊     | 20/42 [48:34<1:09:04, 188.40s/it]"
     ]
    },
    {
     "name": "stdout",
     "output_type": "stream",
     "text": [
      "0:\tlearn: 0.6187800\ttest: 0.6125769\tbest: 0.6125769 (0)\ttotal: 4.23ms\tremaining: 2.11s\n",
      "100:\tlearn: 0.0094756\ttest: 0.0186598\tbest: 0.0186598 (100)\ttotal: 405ms\tremaining: 1.6s\n",
      "200:\tlearn: 0.0036672\ttest: 0.0120008\tbest: 0.0120008 (200)\ttotal: 803ms\tremaining: 1.19s\n",
      "300:\tlearn: 0.0021784\ttest: 0.0095890\tbest: 0.0095890 (300)\ttotal: 1.21s\tremaining: 797ms\n",
      "400:\tlearn: 0.0015084\ttest: 0.0082428\tbest: 0.0082428 (400)\ttotal: 1.6s\tremaining: 396ms\n",
      "499:\tlearn: 0.0011385\ttest: 0.0076090\tbest: 0.0076090 (499)\ttotal: 2s\tremaining: 0us\n",
      "\n",
      "bestTest = 0.007608974555\n",
      "bestIteration = 499\n",
      "\n"
     ]
    },
    {
     "name": "stderr",
     "output_type": "stream",
     "text": [
      "\r",
      " 50%|█████     | 21/42 [52:34<1:11:23, 203.99s/it]"
     ]
    },
    {
     "name": "stdout",
     "output_type": "stream",
     "text": [
      "0:\tlearn: 0.5855965\ttest: 0.5708942\tbest: 0.5708942 (0)\ttotal: 4.62ms\tremaining: 2.31s\n",
      "100:\tlearn: 0.0084248\ttest: 0.0205883\tbest: 0.0205883 (100)\ttotal: 446ms\tremaining: 1.76s\n",
      "200:\tlearn: 0.0032307\ttest: 0.0136975\tbest: 0.0136975 (200)\ttotal: 886ms\tremaining: 1.32s\n",
      "300:\tlearn: 0.0018581\ttest: 0.0112533\tbest: 0.0112533 (300)\ttotal: 1.39s\tremaining: 921ms\n",
      "400:\tlearn: 0.0012312\ttest: 0.0097914\tbest: 0.0097914 (400)\ttotal: 1.87s\tremaining: 462ms\n",
      "499:\tlearn: 0.0009170\ttest: 0.0089477\tbest: 0.0089477 (499)\ttotal: 2.53s\tremaining: 0us\n",
      "\n",
      "bestTest = 0.008947732983\n",
      "bestIteration = 499\n",
      "\n"
     ]
    },
    {
     "name": "stderr",
     "output_type": "stream",
     "text": [
      "\r",
      " 52%|█████▏    | 22/42 [57:35<1:17:43, 233.15s/it]"
     ]
    },
    {
     "name": "stdout",
     "output_type": "stream",
     "text": [
      "0:\tlearn: 0.6111655\ttest: 0.6087599\tbest: 0.6087599 (0)\ttotal: 5.5ms\tremaining: 2.75s\n",
      "100:\tlearn: 0.0096861\ttest: 0.0215038\tbest: 0.0215038 (100)\ttotal: 642ms\tremaining: 2.53s\n",
      "200:\tlearn: 0.0036952\ttest: 0.0141544\tbest: 0.0141544 (200)\ttotal: 1.32s\tremaining: 1.96s\n",
      "300:\tlearn: 0.0021707\ttest: 0.0119153\tbest: 0.0119153 (300)\ttotal: 2.19s\tremaining: 1.45s\n",
      "400:\tlearn: 0.0014471\ttest: 0.0101797\tbest: 0.0101797 (400)\ttotal: 2.72s\tremaining: 671ms\n",
      "499:\tlearn: 0.0010965\ttest: 0.0093726\tbest: 0.0093726 (499)\ttotal: 3.38s\tremaining: 0us\n",
      "\n",
      "bestTest = 0.009372627158\n",
      "bestIteration = 499\n",
      "\n"
     ]
    },
    {
     "name": "stderr",
     "output_type": "stream",
     "text": [
      "\r",
      " 55%|█████▍    | 23/42 [1:01:03<1:11:24, 225.51s/it]"
     ]
    },
    {
     "name": "stdout",
     "output_type": "stream",
     "text": [
      "0:\tlearn: 0.5981082\ttest: 0.5994607\tbest: 0.5994607 (0)\ttotal: 6.42ms\tremaining: 3.2s\n",
      "100:\tlearn: 0.0077638\ttest: 0.0169877\tbest: 0.0169877 (100)\ttotal: 518ms\tremaining: 2.05s\n",
      "200:\tlearn: 0.0030216\ttest: 0.0108067\tbest: 0.0108067 (200)\ttotal: 1.03s\tremaining: 1.54s\n",
      "300:\tlearn: 0.0016634\ttest: 0.0085559\tbest: 0.0085559 (300)\ttotal: 1.55s\tremaining: 1.02s\n",
      "400:\tlearn: 0.0011309\ttest: 0.0076527\tbest: 0.0076527 (400)\ttotal: 2.06s\tremaining: 508ms\n",
      "499:\tlearn: 0.0008582\ttest: 0.0070750\tbest: 0.0070750 (499)\ttotal: 2.56s\tremaining: 0us\n",
      "\n",
      "bestTest = 0.007074953058\n",
      "bestIteration = 499\n",
      "\n"
     ]
    },
    {
     "name": "stderr",
     "output_type": "stream",
     "text": [
      "\r",
      " 57%|█████▋    | 24/42 [1:04:36<1:06:32, 221.80s/it]"
     ]
    },
    {
     "name": "stdout",
     "output_type": "stream",
     "text": [
      "0:\tlearn: 0.6194802\ttest: 0.6116890\tbest: 0.6116890 (0)\ttotal: 9.06ms\tremaining: 4.52s\n",
      "100:\tlearn: 0.0086073\ttest: 0.0187306\tbest: 0.0187306 (100)\ttotal: 519ms\tremaining: 2.05s\n",
      "200:\tlearn: 0.0036493\ttest: 0.0126462\tbest: 0.0126462 (200)\ttotal: 1.02s\tremaining: 1.52s\n",
      "300:\tlearn: 0.0020184\ttest: 0.0098922\tbest: 0.0098922 (300)\ttotal: 1.53s\tremaining: 1.01s\n",
      "400:\tlearn: 0.0014315\ttest: 0.0086730\tbest: 0.0086730 (400)\ttotal: 2.03s\tremaining: 501ms\n",
      "499:\tlearn: 0.0010692\ttest: 0.0079957\tbest: 0.0079957 (499)\ttotal: 2.52s\tremaining: 0us\n",
      "\n",
      "bestTest = 0.007995713519\n",
      "bestIteration = 499\n",
      "\n"
     ]
    },
    {
     "name": "stderr",
     "output_type": "stream",
     "text": [
      "\r",
      " 60%|█████▉    | 25/42 [1:07:52<1:00:38, 214.06s/it]"
     ]
    },
    {
     "name": "stdout",
     "output_type": "stream",
     "text": [
      "0:\tlearn: 0.6550759\ttest: 0.6519424\tbest: 0.6519424 (0)\ttotal: 11.1ms\tremaining: 5.54s\n",
      "100:\tlearn: 0.0168197\ttest: 0.0297996\tbest: 0.0297996 (100)\ttotal: 299ms\tremaining: 1.18s\n",
      "200:\tlearn: 0.0063209\ttest: 0.0166447\tbest: 0.0166447 (200)\ttotal: 587ms\tremaining: 873ms\n",
      "300:\tlearn: 0.0036162\ttest: 0.0134640\tbest: 0.0134640 (300)\ttotal: 871ms\tremaining: 576ms\n",
      "400:\tlearn: 0.0022511\ttest: 0.0113195\tbest: 0.0113195 (400)\ttotal: 1.16s\tremaining: 285ms\n",
      "499:\tlearn: 0.0016350\ttest: 0.0100549\tbest: 0.0100549 (499)\ttotal: 1.43s\tremaining: 0us\n",
      "\n",
      "bestTest = 0.01005490833\n",
      "bestIteration = 499\n",
      "\n"
     ]
    },
    {
     "name": "stderr",
     "output_type": "stream",
     "text": [
      "\r",
      " 62%|██████▏   | 26/42 [1:10:55<54:33, 204.61s/it]  "
     ]
    },
    {
     "name": "stdout",
     "output_type": "stream",
     "text": [
      "0:\tlearn: 0.6284416\ttest: 0.6218017\tbest: 0.6218017 (0)\ttotal: 5.34ms\tremaining: 2.66s\n",
      "100:\tlearn: 0.0113496\ttest: 0.0231418\tbest: 0.0231418 (100)\ttotal: 496ms\tremaining: 1.96s\n",
      "200:\tlearn: 0.0041198\ttest: 0.0140691\tbest: 0.0140691 (200)\ttotal: 984ms\tremaining: 1.46s\n",
      "300:\tlearn: 0.0023473\ttest: 0.0114613\tbest: 0.0114613 (300)\ttotal: 1.47s\tremaining: 974ms\n",
      "400:\tlearn: 0.0015915\ttest: 0.0100957\tbest: 0.0100957 (400)\ttotal: 1.96s\tremaining: 485ms\n",
      "499:\tlearn: 0.0011756\ttest: 0.0092860\tbest: 0.0092860 (499)\ttotal: 2.55s\tremaining: 0us\n",
      "\n",
      "bestTest = 0.009285995972\n",
      "bestIteration = 499\n",
      "\n"
     ]
    },
    {
     "name": "stderr",
     "output_type": "stream",
     "text": [
      "\r",
      " 64%|██████▍   | 27/42 [1:14:11<50:29, 201.99s/it]"
     ]
    },
    {
     "name": "stdout",
     "output_type": "stream",
     "text": [
      "0:\tlearn: 0.5612698\ttest: 0.5537265\tbest: 0.5537265 (0)\ttotal: 8.34ms\tremaining: 4.16s\n",
      "100:\tlearn: 0.0077779\ttest: 0.0172734\tbest: 0.0172734 (100)\ttotal: 537ms\tremaining: 2.12s\n",
      "200:\tlearn: 0.0028367\ttest: 0.0113773\tbest: 0.0113773 (200)\ttotal: 1.06s\tremaining: 1.58s\n",
      "300:\tlearn: 0.0017102\ttest: 0.0095448\tbest: 0.0095448 (300)\ttotal: 1.6s\tremaining: 1.06s\n",
      "400:\tlearn: 0.0011452\ttest: 0.0087343\tbest: 0.0087343 (400)\ttotal: 2.19s\tremaining: 540ms\n",
      "499:\tlearn: 0.0008931\ttest: 0.0082563\tbest: 0.0082563 (499)\ttotal: 2.79s\tremaining: 0us\n",
      "\n",
      "bestTest = 0.00825632161\n",
      "bestIteration = 499\n",
      "\n"
     ]
    },
    {
     "name": "stderr",
     "output_type": "stream",
     "text": [
      "\r",
      " 67%|██████▋   | 28/42 [1:17:41<47:42, 204.50s/it]"
     ]
    },
    {
     "name": "stdout",
     "output_type": "stream",
     "text": [
      "0:\tlearn: 0.6114202\ttest: 0.6047667\tbest: 0.6047667 (0)\ttotal: 9ms\tremaining: 4.49s\n",
      "100:\tlearn: 0.0103351\ttest: 0.0215409\tbest: 0.0215409 (100)\ttotal: 712ms\tremaining: 2.81s\n",
      "200:\tlearn: 0.0041921\ttest: 0.0139096\tbest: 0.0139096 (200)\ttotal: 1.35s\tremaining: 2.01s\n",
      "300:\tlearn: 0.0024887\ttest: 0.0109938\tbest: 0.0109938 (300)\ttotal: 1.96s\tremaining: 1.3s\n",
      "400:\tlearn: 0.0016998\ttest: 0.0094559\tbest: 0.0094559 (400)\ttotal: 2.62s\tremaining: 647ms\n",
      "499:\tlearn: 0.0012402\ttest: 0.0086158\tbest: 0.0086158 (499)\ttotal: 3.19s\tremaining: 0us\n",
      "\n",
      "bestTest = 0.008615816615\n",
      "bestIteration = 499\n",
      "\n"
     ]
    },
    {
     "name": "stderr",
     "output_type": "stream",
     "text": [
      "\r",
      " 69%|██████▉   | 29/42 [1:21:28<45:44, 211.14s/it]"
     ]
    },
    {
     "name": "stdout",
     "output_type": "stream",
     "text": [
      "0:\tlearn: 0.5467932\ttest: 0.5480119\tbest: 0.5480119 (0)\ttotal: 3.68ms\tremaining: 1.83s\n",
      "100:\tlearn: 0.0130008\ttest: 0.0272035\tbest: 0.0272035 (100)\ttotal: 368ms\tremaining: 1.45s\n",
      "200:\tlearn: 0.0043410\ttest: 0.0168437\tbest: 0.0168437 (200)\ttotal: 828ms\tremaining: 1.23s\n",
      "300:\tlearn: 0.0023639\ttest: 0.0134189\tbest: 0.0134189 (300)\ttotal: 1.29s\tremaining: 855ms\n",
      "400:\tlearn: 0.0015712\ttest: 0.0121671\tbest: 0.0121671 (400)\ttotal: 1.7s\tremaining: 419ms\n",
      "499:\tlearn: 0.0011578\ttest: 0.0108748\tbest: 0.0108748 (499)\ttotal: 2.04s\tremaining: 0us\n",
      "\n",
      "bestTest = 0.01087480037\n",
      "bestIteration = 499\n",
      "\n"
     ]
    },
    {
     "name": "stderr",
     "output_type": "stream",
     "text": [
      "\r",
      " 71%|███████▏  | 30/42 [1:25:12<43:03, 215.27s/it]"
     ]
    },
    {
     "name": "stdout",
     "output_type": "stream",
     "text": [
      "0:\tlearn: 0.6240579\ttest: 0.6193321\tbest: 0.6193321 (0)\ttotal: 5.9ms\tremaining: 2.94s\n",
      "100:\tlearn: 0.0112326\ttest: 0.0220549\tbest: 0.0220549 (100)\ttotal: 684ms\tremaining: 2.7s\n",
      "200:\tlearn: 0.0042829\ttest: 0.0140579\tbest: 0.0140579 (200)\ttotal: 1.52s\tremaining: 2.26s\n",
      "300:\tlearn: 0.0023233\ttest: 0.0107590\tbest: 0.0107590 (300)\ttotal: 2.28s\tremaining: 1.51s\n",
      "400:\tlearn: 0.0016072\ttest: 0.0097055\tbest: 0.0097055 (400)\ttotal: 3.04s\tremaining: 752ms\n",
      "499:\tlearn: 0.0012346\ttest: 0.0088907\tbest: 0.0088907 (499)\ttotal: 3.76s\tremaining: 0us\n",
      "\n",
      "bestTest = 0.008890655289\n",
      "bestIteration = 499\n",
      "\n"
     ]
    },
    {
     "name": "stderr",
     "output_type": "stream",
     "text": [
      "\r",
      " 74%|███████▍  | 31/42 [1:29:23<41:23, 225.74s/it]"
     ]
    },
    {
     "name": "stdout",
     "output_type": "stream",
     "text": [
      "0:\tlearn: 0.7279284\ttest: 0.7250872\tbest: 0.7250872 (0)\ttotal: 7.24ms\tremaining: 3.61s\n",
      "100:\tlearn: 0.0171052\ttest: 0.0310856\tbest: 0.0310856 (100)\ttotal: 637ms\tremaining: 2.51s\n",
      "200:\tlearn: 0.0064931\ttest: 0.0188732\tbest: 0.0188732 (200)\ttotal: 1.3s\tremaining: 1.93s\n",
      "300:\tlearn: 0.0037958\ttest: 0.0152159\tbest: 0.0152159 (300)\ttotal: 1.97s\tremaining: 1.3s\n",
      "400:\tlearn: 0.0025137\ttest: 0.0128752\tbest: 0.0128752 (400)\ttotal: 2.86s\tremaining: 705ms\n",
      "499:\tlearn: 0.0018838\ttest: 0.0118653\tbest: 0.0118653 (499)\ttotal: 3.63s\tremaining: 0us\n",
      "\n",
      "bestTest = 0.0118652849\n",
      "bestIteration = 499\n",
      "\n"
     ]
    },
    {
     "name": "stderr",
     "output_type": "stream",
     "text": [
      "\r",
      " 76%|███████▌  | 32/42 [1:33:36<39:00, 234.01s/it]"
     ]
    },
    {
     "name": "stdout",
     "output_type": "stream",
     "text": [
      "0:\tlearn: 0.6941664\ttest: 0.6914337\tbest: 0.6914337 (0)\ttotal: 6.59ms\tremaining: 3.29s\n",
      "100:\tlearn: 0.0135558\ttest: 0.0276381\tbest: 0.0276381 (100)\ttotal: 637ms\tremaining: 2.51s\n",
      "200:\tlearn: 0.0057637\ttest: 0.0199691\tbest: 0.0199691 (200)\ttotal: 1.27s\tremaining: 1.88s\n",
      "300:\tlearn: 0.0031648\ttest: 0.0158159\tbest: 0.0158159 (300)\ttotal: 1.89s\tremaining: 1.25s\n",
      "400:\tlearn: 0.0021592\ttest: 0.0142294\tbest: 0.0142294 (400)\ttotal: 2.51s\tremaining: 620ms\n",
      "499:\tlearn: 0.0016088\ttest: 0.0133333\tbest: 0.0133333 (499)\ttotal: 3.13s\tremaining: 0us\n",
      "\n",
      "bestTest = 0.01333326503\n",
      "bestIteration = 499\n",
      "\n"
     ]
    },
    {
     "name": "stderr",
     "output_type": "stream",
     "text": [
      "\r",
      " 79%|███████▊  | 33/42 [1:37:36<35:22, 235.79s/it]"
     ]
    },
    {
     "name": "stdout",
     "output_type": "stream",
     "text": [
      "0:\tlearn: 0.5343146\ttest: 0.5291767\tbest: 0.5291767 (0)\ttotal: 6.29ms\tremaining: 3.14s\n",
      "100:\tlearn: 0.0075507\ttest: 0.0199253\tbest: 0.0199253 (100)\ttotal: 643ms\tremaining: 2.54s\n",
      "200:\tlearn: 0.0030334\ttest: 0.0141365\tbest: 0.0141365 (200)\ttotal: 1.28s\tremaining: 1.9s\n",
      "300:\tlearn: 0.0017017\ttest: 0.0121781\tbest: 0.0121781 (300)\ttotal: 1.91s\tremaining: 1.26s\n",
      "400:\tlearn: 0.0011403\ttest: 0.0112593\tbest: 0.0112593 (400)\ttotal: 2.56s\tremaining: 632ms\n",
      "499:\tlearn: 0.0008917\ttest: 0.0106983\tbest: 0.0106983 (499)\ttotal: 3.19s\tremaining: 0us\n",
      "\n",
      "bestTest = 0.01069827496\n",
      "bestIteration = 499\n",
      "\n"
     ]
    },
    {
     "name": "stderr",
     "output_type": "stream",
     "text": [
      "\r",
      " 81%|████████  | 34/42 [1:41:40<31:46, 238.34s/it]"
     ]
    },
    {
     "name": "stdout",
     "output_type": "stream",
     "text": [
      "0:\tlearn: 0.7354627\ttest: 0.7329570\tbest: 0.7329570 (0)\ttotal: 6.88ms\tremaining: 3.43s\n",
      "100:\tlearn: 0.0169332\ttest: 0.0292779\tbest: 0.0292779 (100)\ttotal: 727ms\tremaining: 2.87s\n",
      "200:\tlearn: 0.0068930\ttest: 0.0183516\tbest: 0.0183516 (200)\ttotal: 1.53s\tremaining: 2.28s\n",
      "300:\tlearn: 0.0038651\ttest: 0.0143332\tbest: 0.0143332 (300)\ttotal: 2.25s\tremaining: 1.49s\n",
      "400:\tlearn: 0.0025047\ttest: 0.0125726\tbest: 0.0125726 (400)\ttotal: 3.04s\tremaining: 752ms\n",
      "499:\tlearn: 0.0018689\ttest: 0.0118916\tbest: 0.0118916 (499)\ttotal: 3.74s\tremaining: 0us\n",
      "\n",
      "bestTest = 0.01189160511\n",
      "bestIteration = 499\n",
      "\n"
     ]
    },
    {
     "name": "stderr",
     "output_type": "stream",
     "text": [
      "\r",
      " 83%|████████▎ | 35/42 [1:45:44<27:58, 239.84s/it]"
     ]
    },
    {
     "name": "stdout",
     "output_type": "stream",
     "text": [
      "0:\tlearn: 0.6289889\ttest: 0.6250313\tbest: 0.6250313 (0)\ttotal: 18.8ms\tremaining: 9.37s\n",
      "100:\tlearn: 0.0120466\ttest: 0.0256293\tbest: 0.0256293 (100)\ttotal: 750ms\tremaining: 2.96s\n",
      "200:\tlearn: 0.0044749\ttest: 0.0163211\tbest: 0.0163211 (200)\ttotal: 1.5s\tremaining: 2.23s\n",
      "300:\tlearn: 0.0025511\ttest: 0.0130754\tbest: 0.0130754 (300)\ttotal: 2.22s\tremaining: 1.47s\n",
      "400:\tlearn: 0.0017244\ttest: 0.0116773\tbest: 0.0116773 (400)\ttotal: 2.95s\tremaining: 729ms\n",
      "499:\tlearn: 0.0012947\ttest: 0.0108349\tbest: 0.0108349 (499)\ttotal: 3.65s\tremaining: 0us\n",
      "\n",
      "bestTest = 0.01083494664\n",
      "bestIteration = 499\n",
      "\n"
     ]
    },
    {
     "name": "stderr",
     "output_type": "stream",
     "text": [
      "\r",
      " 86%|████████▌ | 36/42 [1:49:55<24:19, 243.23s/it]"
     ]
    },
    {
     "name": "stdout",
     "output_type": "stream",
     "text": [
      "0:\tlearn: 0.5945813\ttest: 0.5896981\tbest: 0.5896981 (0)\ttotal: 3.7ms\tremaining: 1.85s\n",
      "100:\tlearn: 0.0143111\ttest: 0.0281454\tbest: 0.0281454 (100)\ttotal: 362ms\tremaining: 1.43s\n",
      "200:\tlearn: 0.0057924\ttest: 0.0185506\tbest: 0.0185506 (200)\ttotal: 742ms\tremaining: 1.1s\n",
      "300:\tlearn: 0.0031567\ttest: 0.0148677\tbest: 0.0148677 (300)\ttotal: 1.14s\tremaining: 751ms\n",
      "400:\tlearn: 0.0020825\ttest: 0.0134626\tbest: 0.0134626 (400)\ttotal: 1.54s\tremaining: 379ms\n",
      "499:\tlearn: 0.0014976\ttest: 0.0124630\tbest: 0.0124630 (499)\ttotal: 1.91s\tremaining: 0us\n",
      "\n",
      "bestTest = 0.01246303503\n",
      "bestIteration = 499\n",
      "\n"
     ]
    },
    {
     "name": "stderr",
     "output_type": "stream",
     "text": [
      "\r",
      " 88%|████████▊ | 37/42 [1:53:47<19:59, 239.99s/it]"
     ]
    },
    {
     "name": "stdout",
     "output_type": "stream",
     "text": [
      "0:\tlearn: 0.5952156\ttest: 0.5906231\tbest: 0.5906231 (0)\ttotal: 7.04ms\tremaining: 3.51s\n",
      "100:\tlearn: 0.0100399\ttest: 0.0253563\tbest: 0.0253563 (100)\ttotal: 702ms\tremaining: 2.77s\n",
      "200:\tlearn: 0.0035701\ttest: 0.0169654\tbest: 0.0169654 (200)\ttotal: 1.43s\tremaining: 2.13s\n",
      "300:\tlearn: 0.0020866\ttest: 0.0149542\tbest: 0.0149542 (300)\ttotal: 2.12s\tremaining: 1.4s\n",
      "400:\tlearn: 0.0014562\ttest: 0.0131998\tbest: 0.0131998 (400)\ttotal: 2.87s\tremaining: 709ms\n",
      "499:\tlearn: 0.0011015\ttest: 0.0127396\tbest: 0.0127396 (499)\ttotal: 3.58s\tremaining: 0us\n",
      "\n",
      "bestTest = 0.0127396443\n",
      "bestIteration = 499\n",
      "\n"
     ]
    },
    {
     "name": "stderr",
     "output_type": "stream",
     "text": [
      "\r",
      " 90%|█████████ | 38/42 [1:57:50<16:03, 241.00s/it]"
     ]
    },
    {
     "name": "stdout",
     "output_type": "stream",
     "text": [
      "0:\tlearn: 0.6203808\ttest: 0.6179549\tbest: 0.6179549 (0)\ttotal: 6.73ms\tremaining: 3.36s\n",
      "100:\tlearn: 0.0126986\ttest: 0.0255085\tbest: 0.0255085 (100)\ttotal: 753ms\tremaining: 2.97s\n",
      "200:\tlearn: 0.0047440\ttest: 0.0164331\tbest: 0.0164331 (200)\ttotal: 1.46s\tremaining: 2.17s\n",
      "300:\tlearn: 0.0024946\ttest: 0.0123144\tbest: 0.0123144 (300)\ttotal: 2.21s\tremaining: 1.46s\n",
      "400:\tlearn: 0.0016719\ttest: 0.0110815\tbest: 0.0110815 (400)\ttotal: 2.93s\tremaining: 724ms\n",
      "499:\tlearn: 0.0012131\ttest: 0.0098747\tbest: 0.0098747 (499)\ttotal: 3.67s\tremaining: 0us\n",
      "\n",
      "bestTest = 0.009874676529\n",
      "bestIteration = 499\n",
      "\n"
     ]
    },
    {
     "name": "stderr",
     "output_type": "stream",
     "text": [
      "\r",
      " 93%|█████████▎| 39/42 [2:01:56<12:07, 242.48s/it]"
     ]
    },
    {
     "name": "stdout",
     "output_type": "stream",
     "text": [
      "0:\tlearn: 0.6240993\ttest: 0.6150071\tbest: 0.6150071 (0)\ttotal: 9.78ms\tremaining: 4.88s\n",
      "100:\tlearn: 0.0116828\ttest: 0.0259741\tbest: 0.0259741 (100)\ttotal: 707ms\tremaining: 2.79s\n",
      "200:\tlearn: 0.0042974\ttest: 0.0171257\tbest: 0.0171257 (200)\ttotal: 1.44s\tremaining: 2.14s\n",
      "300:\tlearn: 0.0024722\ttest: 0.0137267\tbest: 0.0137267 (300)\ttotal: 2.15s\tremaining: 1.42s\n",
      "400:\tlearn: 0.0016115\ttest: 0.0118426\tbest: 0.0118426 (400)\ttotal: 2.88s\tremaining: 710ms\n",
      "499:\tlearn: 0.0012186\ttest: 0.0112005\tbest: 0.0112005 (499)\ttotal: 3.56s\tremaining: 0us\n",
      "\n",
      "bestTest = 0.0112005214\n",
      "bestIteration = 499\n",
      "\n"
     ]
    },
    {
     "name": "stderr",
     "output_type": "stream",
     "text": [
      "\r",
      " 95%|█████████▌| 40/42 [2:06:09<08:11, 245.53s/it]"
     ]
    },
    {
     "name": "stdout",
     "output_type": "stream",
     "text": [
      "0:\tlearn: 0.6251736\ttest: 0.6213023\tbest: 0.6213023 (0)\ttotal: 6.77ms\tremaining: 3.38s\n",
      "100:\tlearn: 0.0112736\ttest: 0.0249448\tbest: 0.0249448 (100)\ttotal: 694ms\tremaining: 2.74s\n",
      "200:\tlearn: 0.0043483\ttest: 0.0179237\tbest: 0.0179237 (200)\ttotal: 1.41s\tremaining: 2.09s\n",
      "300:\tlearn: 0.0025344\ttest: 0.0152501\tbest: 0.0152501 (300)\ttotal: 2.09s\tremaining: 1.38s\n",
      "400:\tlearn: 0.0017219\ttest: 0.0136533\tbest: 0.0136533 (400)\ttotal: 2.77s\tremaining: 683ms\n",
      "499:\tlearn: 0.0012566\ttest: 0.0126857\tbest: 0.0126857 (499)\ttotal: 3.48s\tremaining: 0us\n",
      "\n",
      "bestTest = 0.01268574481\n",
      "bestIteration = 499\n",
      "\n"
     ]
    },
    {
     "name": "stderr",
     "output_type": "stream",
     "text": [
      "\r",
      " 98%|█████████▊| 41/42 [2:10:13<04:05, 245.01s/it]"
     ]
    },
    {
     "name": "stdout",
     "output_type": "stream",
     "text": [
      "0:\tlearn: 0.7468246\ttest: 0.7414803\tbest: 0.7414803 (0)\ttotal: 6.76ms\tremaining: 3.38s\n",
      "100:\tlearn: 0.0166241\ttest: 0.0285032\tbest: 0.0285032 (100)\ttotal: 683ms\tremaining: 2.7s\n",
      "200:\tlearn: 0.0065083\ttest: 0.0164515\tbest: 0.0164515 (200)\ttotal: 1.35s\tremaining: 2.01s\n",
      "300:\tlearn: 0.0037065\ttest: 0.0132514\tbest: 0.0132514 (300)\ttotal: 2.02s\tremaining: 1.34s\n",
      "400:\tlearn: 0.0025702\ttest: 0.0115680\tbest: 0.0115680 (400)\ttotal: 2.7s\tremaining: 668ms\n",
      "499:\tlearn: 0.0019239\ttest: 0.0106148\tbest: 0.0106148 (499)\ttotal: 3.38s\tremaining: 0us\n",
      "\n",
      "bestTest = 0.01061484218\n",
      "bestIteration = 499\n",
      "\n"
     ]
    },
    {
     "name": "stderr",
     "output_type": "stream",
     "text": [
      "100%|██████████| 42/42 [2:14:12<00:00, 191.72s/it]\n"
     ]
    }
   ],
   "source": [
    "for i in tqdm(range(5, len(sorted_metrics))):\n",
    "    metrics = sorted_metrics[:i]\n",
    "    \n",
    "    model = getBestModelCB(X_train[metrics], X_test[metrics], y_train, y_test,\n",
    "                        params_grid=params_grid,\n",
    "                        loss_function='MultiClass')\n",
    "    \n",
    "    time_predict = min(timeit.Timer('model.predict(X_test)', globals=globals()).repeat(repeat=10, number=100))\n",
    "    history['time_predict'].append(time_predict)\n",
    "    \n",
    "    y_pred = model.predict(X_test)\n",
    "    accuracy = accuracy_score(y_test, y_pred)\n",
    "    history['accuracy'].append(accuracy)"
   ]
  },
  {
   "cell_type": "code",
   "execution_count": 200,
   "id": "copyrighted-screw",
   "metadata": {},
   "outputs": [
    {
     "data": {
      "image/png": "[encoded data removed]",
      "text/plain": [
       "<Figure size 1152x720 with 1 Axes>"
      ]
     },
     "metadata": {},
     "output_type": "display_data"
    },
    {
     "data": {
      "image/png": "[encoded data removed]",
      "text/plain": [
       "<Figure size 1152x720 with 1 Axes>"
      ]
     },
     "metadata": {},
     "output_type": "display_data"
    }
   ],
   "source": [
    "plot_acc_and_time(history, sorted_metrics)"
   ]
  },
  {
   "cell_type": "code",
   "execution_count": 201,
   "id": "aggregate-table",
   "metadata": {},
   "outputs": [],
   "source": [
    "# сохранение истории\n",
    "with open('history_pos.json', 'w') as fp:\n",
    "    json.dump(history, fp)"
   ]
  },
  {
   "cell_type": "markdown",
   "id": "fancy-triple",
   "metadata": {},
   "source": [
    "### Определение осанки для сидячего положения"
   ]
  },
  {
   "cell_type": "code",
   "execution_count": 202,
   "id": "stuffed-notion",
   "metadata": {},
   "outputs": [
    {
     "data": {
      "text/html": [
       "<div>\n",
       "<style scoped>\n",
       "    .dataframe tbody tr th:only-of-type {\n",
       "        vertical-align: middle;\n",
       "    }\n",
       "\n",
       "    .dataframe tbody tr th {\n",
       "        vertical-align: top;\n",
       "    }\n",
       "\n",
       "    .dataframe thead th {\n",
       "        text-align: right;\n",
       "    }\n",
       "</style>\n",
       "<table border=\"1\" class=\"dataframe\">\n",
       "  <thead>\n",
       "    <tr style=\"text-align: right;\">\n",
       "      <th></th>\n",
       "      <th>x_mean</th>\n",
       "      <th>x_std</th>\n",
       "      <th>x_max</th>\n",
       "      <th>x_min</th>\n",
       "      <th>x_energy</th>\n",
       "      <th>x_iqr</th>\n",
       "      <th>y_mean</th>\n",
       "      <th>y_std</th>\n",
       "      <th>y_max</th>\n",
       "      <th>y_min</th>\n",
       "      <th>...</th>\n",
       "      <th>x_iqr_pos1</th>\n",
       "      <th>y_iqr_pos1</th>\n",
       "      <th>z_iqr_pos1</th>\n",
       "      <th>xy_corr_pos1</th>\n",
       "      <th>xz_corr_pos1</th>\n",
       "      <th>yz_corr_pos1</th>\n",
       "      <th>height</th>\n",
       "      <th>mass</th>\n",
       "      <th>is_valid</th>\n",
       "      <th>sex</th>\n",
       "    </tr>\n",
       "    <tr>\n",
       "      <th>level_1</th>\n",
       "      <th></th>\n",
       "      <th></th>\n",
       "      <th></th>\n",
       "      <th></th>\n",
       "      <th></th>\n",
       "      <th></th>\n",
       "      <th></th>\n",
       "      <th></th>\n",
       "      <th></th>\n",
       "      <th></th>\n",
       "      <th></th>\n",
       "      <th></th>\n",
       "      <th></th>\n",
       "      <th></th>\n",
       "      <th></th>\n",
       "      <th></th>\n",
       "      <th></th>\n",
       "      <th></th>\n",
       "      <th></th>\n",
       "      <th></th>\n",
       "      <th></th>\n",
       "    </tr>\n",
       "  </thead>\n",
       "  <tbody>\n",
       "    <tr>\n",
       "      <th>1673</th>\n",
       "      <td>11156.76</td>\n",
       "      <td>123.532772</td>\n",
       "      <td>11380.0</td>\n",
       "      <td>10836.0</td>\n",
       "      <td>1.244884e+08</td>\n",
       "      <td>177.0</td>\n",
       "      <td>1158.80</td>\n",
       "      <td>73.172275</td>\n",
       "      <td>1348.0</td>\n",
       "      <td>920.0</td>\n",
       "      <td>...</td>\n",
       "      <td>196.0</td>\n",
       "      <td>132.0</td>\n",
       "      <td>485.0</td>\n",
       "      <td>-0.203383</td>\n",
       "      <td>0.750925</td>\n",
       "      <td>-0.452449</td>\n",
       "      <td>185</td>\n",
       "      <td>75</td>\n",
       "      <td>0</td>\n",
       "      <td>1</td>\n",
       "    </tr>\n",
       "    <tr>\n",
       "      <th>1698</th>\n",
       "      <td>11156.88</td>\n",
       "      <td>128.858961</td>\n",
       "      <td>11380.0</td>\n",
       "      <td>10836.0</td>\n",
       "      <td>1.244924e+08</td>\n",
       "      <td>193.0</td>\n",
       "      <td>1137.96</td>\n",
       "      <td>69.416023</td>\n",
       "      <td>1300.0</td>\n",
       "      <td>920.0</td>\n",
       "      <td>...</td>\n",
       "      <td>196.0</td>\n",
       "      <td>132.0</td>\n",
       "      <td>485.0</td>\n",
       "      <td>-0.203383</td>\n",
       "      <td>0.750925</td>\n",
       "      <td>-0.452449</td>\n",
       "      <td>185</td>\n",
       "      <td>75</td>\n",
       "      <td>0</td>\n",
       "      <td>1</td>\n",
       "    </tr>\n",
       "    <tr>\n",
       "      <th>1723</th>\n",
       "      <td>11154.36</td>\n",
       "      <td>134.410311</td>\n",
       "      <td>11532.0</td>\n",
       "      <td>10836.0</td>\n",
       "      <td>1.244376e+08</td>\n",
       "      <td>190.0</td>\n",
       "      <td>1088.32</td>\n",
       "      <td>171.829072</td>\n",
       "      <td>1380.0</td>\n",
       "      <td>164.0</td>\n",
       "      <td>...</td>\n",
       "      <td>196.0</td>\n",
       "      <td>132.0</td>\n",
       "      <td>485.0</td>\n",
       "      <td>-0.203383</td>\n",
       "      <td>0.750925</td>\n",
       "      <td>-0.452449</td>\n",
       "      <td>185</td>\n",
       "      <td>75</td>\n",
       "      <td>0</td>\n",
       "      <td>1</td>\n",
       "    </tr>\n",
       "    <tr>\n",
       "      <th>1748</th>\n",
       "      <td>10998.28</td>\n",
       "      <td>415.506022</td>\n",
       "      <td>11532.0</td>\n",
       "      <td>9384.0</td>\n",
       "      <td>1.211331e+08</td>\n",
       "      <td>323.0</td>\n",
       "      <td>853.36</td>\n",
       "      <td>499.190851</td>\n",
       "      <td>1380.0</td>\n",
       "      <td>-1032.0</td>\n",
       "      <td>...</td>\n",
       "      <td>196.0</td>\n",
       "      <td>132.0</td>\n",
       "      <td>485.0</td>\n",
       "      <td>-0.203383</td>\n",
       "      <td>0.750925</td>\n",
       "      <td>-0.452449</td>\n",
       "      <td>185</td>\n",
       "      <td>75</td>\n",
       "      <td>0</td>\n",
       "      <td>1</td>\n",
       "    </tr>\n",
       "    <tr>\n",
       "      <th>1773</th>\n",
       "      <td>10883.04</td>\n",
       "      <td>409.575930</td>\n",
       "      <td>11532.0</td>\n",
       "      <td>9384.0</td>\n",
       "      <td>1.186066e+08</td>\n",
       "      <td>543.0</td>\n",
       "      <td>537.68</td>\n",
       "      <td>622.192456</td>\n",
       "      <td>1380.0</td>\n",
       "      <td>-1032.0</td>\n",
       "      <td>...</td>\n",
       "      <td>196.0</td>\n",
       "      <td>132.0</td>\n",
       "      <td>485.0</td>\n",
       "      <td>-0.203383</td>\n",
       "      <td>0.750925</td>\n",
       "      <td>-0.452449</td>\n",
       "      <td>185</td>\n",
       "      <td>75</td>\n",
       "      <td>0</td>\n",
       "      <td>1</td>\n",
       "    </tr>\n",
       "  </tbody>\n",
       "</table>\n",
       "<p>5 rows × 48 columns</p>\n",
       "</div>"
      ],
      "text/plain": [
       "           x_mean       x_std    x_max    x_min      x_energy  x_iqr   y_mean  \\\n",
       "level_1                                                                         \n",
       "1673     11156.76  123.532772  11380.0  10836.0  1.244884e+08  177.0  1158.80   \n",
       "1698     11156.88  128.858961  11380.0  10836.0  1.244924e+08  193.0  1137.96   \n",
       "1723     11154.36  134.410311  11532.0  10836.0  1.244376e+08  190.0  1088.32   \n",
       "1748     10998.28  415.506022  11532.0   9384.0  1.211331e+08  323.0   853.36   \n",
       "1773     10883.04  409.575930  11532.0   9384.0  1.186066e+08  543.0   537.68   \n",
       "\n",
       "              y_std   y_max   y_min  ...  x_iqr_pos1  y_iqr_pos1  z_iqr_pos1  \\\n",
       "level_1                              ...                                       \n",
       "1673      73.172275  1348.0   920.0  ...       196.0       132.0       485.0   \n",
       "1698      69.416023  1300.0   920.0  ...       196.0       132.0       485.0   \n",
       "1723     171.829072  1380.0   164.0  ...       196.0       132.0       485.0   \n",
       "1748     499.190851  1380.0 -1032.0  ...       196.0       132.0       485.0   \n",
       "1773     622.192456  1380.0 -1032.0  ...       196.0       132.0       485.0   \n",
       "\n",
       "         xy_corr_pos1  xz_corr_pos1  yz_corr_pos1  height  mass  is_valid  sex  \n",
       "level_1                                                                         \n",
       "1673        -0.203383      0.750925     -0.452449     185    75         0    1  \n",
       "1698        -0.203383      0.750925     -0.452449     185    75         0    1  \n",
       "1723        -0.203383      0.750925     -0.452449     185    75         0    1  \n",
       "1748        -0.203383      0.750925     -0.452449     185    75         0    1  \n",
       "1773        -0.203383      0.750925     -0.452449     185    75         0    1  \n",
       "\n",
       "[5 rows x 48 columns]"
      ]
     },
     "execution_count": 202,
     "metadata": {},
     "output_type": "execute_result"
    }
   ],
   "source": [
    "data = pd.read_csv('../datasets/added_pos1_metrics_windowed.csv', index_col=[0, 1])\n",
    "data = data.droplevel(0)\n",
    "data = data[data['position'] == 1].drop(['position', 'age'], axis=1)\n",
    "data.head()"
   ]
  },
  {
   "cell_type": "code",
   "execution_count": 203,
   "id": "tired-senate",
   "metadata": {},
   "outputs": [],
   "source": [
    "y = data['is_valid']\n",
    "X = data.drop('is_valid', axis=1)\n",
    "\n",
    "X_train, X_test, y_train, y_test = train_test_split(\n",
    "    X, y, train_size=0.7, random_state=1234\n",
    ")\n",
    "\n",
    "history = defaultdict(list)\n",
    "\n",
    "params_grid = {\n",
    "            'n_estimators': [100, 200, 300, 500],\n",
    "            'max_depth' : np.arange(3, 7),\n",
    "            'learning_rate': np.linspace(0.0125, 0.6, 10)\n",
    "        }"
   ]
  },
  {
   "cell_type": "code",
   "execution_count": 204,
   "id": "short-leave",
   "metadata": {},
   "outputs": [
    {
     "name": "stderr",
     "output_type": "stream",
     "text": [
      "\r",
      "  0%|          | 0/42 [00:00<?, ?it/s]"
     ]
    },
    {
     "name": "stdout",
     "output_type": "stream",
     "text": [
      "0:\tlearn: 0.3461437\ttest: 0.3585640\tbest: 0.3585640 (0)\ttotal: 1.42ms\tremaining: 706ms\n",
      "100:\tlearn: 0.0042225\ttest: 0.0380926\tbest: 0.0380926 (100)\ttotal: 117ms\tremaining: 463ms\n",
      "200:\tlearn: 0.0042225\ttest: 0.0380926\tbest: 0.0380926 (100)\ttotal: 239ms\tremaining: 355ms\n",
      "300:\tlearn: 0.0042214\ttest: 0.0381038\tbest: 0.0380926 (100)\ttotal: 354ms\tremaining: 234ms\n",
      "400:\tlearn: 0.0042214\ttest: 0.0381038\tbest: 0.0380926 (100)\ttotal: 456ms\tremaining: 113ms\n",
      "499:\tlearn: 0.0042214\ttest: 0.0381038\tbest: 0.0380926 (100)\ttotal: 556ms\tremaining: 0us\n",
      "\n",
      "bestTest = 0.03809260556\n",
      "bestIteration = 100\n",
      "\n",
      "Shrink model to first 101 iterations.\n"
     ]
    },
    {
     "name": "stderr",
     "output_type": "stream",
     "text": [
      "\r",
      "  2%|▏         | 1/42 [01:09<47:11, 69.05s/it]"
     ]
    },
    {
     "name": "stdout",
     "output_type": "stream",
     "text": [
      "0:\tlearn: 0.3156721\ttest: 0.3319137\tbest: 0.3319137 (0)\ttotal: 1.59ms\tremaining: 796ms\n",
      "100:\tlearn: 0.0037571\ttest: 0.0332323\tbest: 0.0332323 (100)\ttotal: 141ms\tremaining: 558ms\n",
      "200:\tlearn: 0.0037551\ttest: 0.0332557\tbest: 0.0332323 (100)\ttotal: 243ms\tremaining: 361ms\n",
      "300:\tlearn: 0.0027381\ttest: 0.0345266\tbest: 0.0332323 (100)\ttotal: 352ms\tremaining: 233ms\n",
      "400:\tlearn: 0.0027376\ttest: 0.0345284\tbest: 0.0332323 (100)\ttotal: 438ms\tremaining: 108ms\n",
      "499:\tlearn: 0.0026644\ttest: 0.0341810\tbest: 0.0332323 (100)\ttotal: 542ms\tremaining: 0us\n",
      "\n",
      "bestTest = 0.03323228621\n",
      "bestIteration = 100\n",
      "\n",
      "Shrink model to first 101 iterations.\n"
     ]
    },
    {
     "name": "stderr",
     "output_type": "stream",
     "text": [
      "\r",
      "  5%|▍         | 2/42 [02:19<46:37, 69.93s/it]"
     ]
    },
    {
     "name": "stdout",
     "output_type": "stream",
     "text": [
      "0:\tlearn: 0.3198710\ttest: 0.3308846\tbest: 0.3308846 (0)\ttotal: 5.66ms\tremaining: 2.83s\n",
      "100:\tlearn: 0.0030579\ttest: 0.0244845\tbest: 0.0244845 (100)\ttotal: 194ms\tremaining: 765ms\n",
      "200:\tlearn: 0.0025458\ttest: 0.0245665\tbest: 0.0244845 (100)\ttotal: 318ms\tremaining: 473ms\n",
      "300:\tlearn: 0.0021514\ttest: 0.0240814\tbest: 0.0240814 (300)\ttotal: 437ms\tremaining: 289ms\n",
      "400:\tlearn: 0.0021451\ttest: 0.0241060\tbest: 0.0240814 (300)\ttotal: 554ms\tremaining: 137ms\n",
      "499:\tlearn: 0.0021408\ttest: 0.0241196\tbest: 0.0240814 (300)\ttotal: 667ms\tremaining: 0us\n",
      "\n",
      "bestTest = 0.0240813859\n",
      "bestIteration = 300\n",
      "\n",
      "Shrink model to first 301 iterations.\n"
     ]
    },
    {
     "name": "stderr",
     "output_type": "stream",
     "text": [
      "\r",
      "  7%|▋         | 3/42 [03:32<46:14, 71.14s/it]"
     ]
    },
    {
     "name": "stdout",
     "output_type": "stream",
     "text": [
      "0:\tlearn: 0.2968918\ttest: 0.3084792\tbest: 0.3084792 (0)\ttotal: 1.43ms\tremaining: 427ms\n",
      "100:\tlearn: 0.0030838\ttest: 0.0225688\tbest: 0.0225688 (100)\ttotal: 113ms\tremaining: 223ms\n",
      "200:\tlearn: 0.0025589\ttest: 0.0218499\tbest: 0.0218499 (200)\ttotal: 240ms\tremaining: 118ms\n",
      "299:\tlearn: 0.0025589\ttest: 0.0218499\tbest: 0.0218499 (200)\ttotal: 473ms\tremaining: 0us\n",
      "\n",
      "bestTest = 0.02184986795\n",
      "bestIteration = 200\n",
      "\n",
      "Shrink model to first 201 iterations.\n"
     ]
    },
    {
     "name": "stderr",
     "output_type": "stream",
     "text": [
      "\r",
      " 10%|▉         | 4/42 [04:33<42:37, 67.30s/it]"
     ]
    },
    {
     "name": "stdout",
     "output_type": "stream",
     "text": [
      "0:\tlearn: 0.3122388\ttest: 0.3240708\tbest: 0.3240708 (0)\ttotal: 1.19ms\tremaining: 595ms\n",
      "100:\tlearn: 0.0036776\ttest: 0.0194066\tbest: 0.0194066 (100)\ttotal: 109ms\tremaining: 430ms\n",
      "200:\tlearn: 0.0036776\ttest: 0.0194066\tbest: 0.0194066 (100)\ttotal: 198ms\tremaining: 294ms\n",
      "300:\tlearn: 0.0036775\ttest: 0.0194066\tbest: 0.0194066 (300)\ttotal: 298ms\tremaining: 197ms\n",
      "400:\tlearn: 0.0030960\ttest: 0.0199321\tbest: 0.0194066 (300)\ttotal: 393ms\tremaining: 97ms\n",
      "499:\tlearn: 0.0023438\ttest: 0.0199505\tbest: 0.0194066 (300)\ttotal: 511ms\tremaining: 0us\n",
      "\n",
      "bestTest = 0.01940661593\n",
      "bestIteration = 300\n",
      "\n",
      "Shrink model to first 301 iterations.\n"
     ]
    },
    {
     "name": "stderr",
     "output_type": "stream",
     "text": [
      "\r",
      " 12%|█▏        | 5/42 [05:41<41:43, 67.67s/it]"
     ]
    },
    {
     "name": "stdout",
     "output_type": "stream",
     "text": [
      "0:\tlearn: 0.3655006\ttest: 0.3723473\tbest: 0.3723473 (0)\ttotal: 1.15ms\tremaining: 576ms\n",
      "100:\tlearn: 0.0028504\ttest: 0.0262734\tbest: 0.0262734 (100)\ttotal: 95.4ms\tremaining: 377ms\n",
      "200:\tlearn: 0.0028467\ttest: 0.0262675\tbest: 0.0262675 (200)\ttotal: 204ms\tremaining: 304ms\n",
      "300:\tlearn: 0.0028450\ttest: 0.0262650\tbest: 0.0262650 (300)\ttotal: 298ms\tremaining: 197ms\n",
      "400:\tlearn: 0.0028450\ttest: 0.0262651\tbest: 0.0262650 (300)\ttotal: 409ms\tremaining: 101ms\n",
      "499:\tlearn: 0.0028450\ttest: 0.0262652\tbest: 0.0262650 (300)\ttotal: 501ms\tremaining: 0us\n",
      "\n",
      "bestTest = 0.02626501651\n",
      "bestIteration = 300\n",
      "\n",
      "Shrink model to first 301 iterations.\n"
     ]
    },
    {
     "name": "stderr",
     "output_type": "stream",
     "text": [
      "\r",
      " 14%|█▍        | 6/42 [06:51<40:58, 68.30s/it]"
     ]
    },
    {
     "name": "stdout",
     "output_type": "stream",
     "text": [
      "0:\tlearn: 0.2210082\ttest: 0.2222856\tbest: 0.2222856 (0)\ttotal: 1.42ms\tremaining: 708ms\n",
      "100:\tlearn: 0.0014203\ttest: 0.0212077\tbest: 0.0212077 (100)\ttotal: 142ms\tremaining: 562ms\n",
      "200:\tlearn: 0.0013198\ttest: 0.0192391\tbest: 0.0192391 (200)\ttotal: 267ms\tremaining: 397ms\n",
      "300:\tlearn: 0.0013177\ttest: 0.0192471\tbest: 0.0192391 (200)\ttotal: 388ms\tremaining: 256ms\n",
      "400:\tlearn: 0.0013177\ttest: 0.0192473\tbest: 0.0192391 (200)\ttotal: 522ms\tremaining: 129ms\n",
      "499:\tlearn: 0.0013177\ttest: 0.0192473\tbest: 0.0192391 (200)\ttotal: 641ms\tremaining: 0us\n",
      "\n",
      "bestTest = 0.01923905941\n",
      "bestIteration = 200\n",
      "\n",
      "Shrink model to first 201 iterations.\n"
     ]
    },
    {
     "name": "stderr",
     "output_type": "stream",
     "text": [
      "\r",
      " 17%|█▋        | 7/42 [08:04<40:49, 69.99s/it]"
     ]
    },
    {
     "name": "stdout",
     "output_type": "stream",
     "text": [
      "0:\tlearn: 0.3760887\ttest: 0.3828419\tbest: 0.3828419 (0)\ttotal: 3.79ms\tremaining: 1.89s\n",
      "100:\tlearn: 0.0020779\ttest: 0.0169956\tbest: 0.0169956 (100)\ttotal: 267ms\tremaining: 1.06s\n",
      "200:\tlearn: 0.0020718\ttest: 0.0169759\tbest: 0.0169759 (200)\ttotal: 605ms\tremaining: 900ms\n",
      "300:\tlearn: 0.0020676\ttest: 0.0169614\tbest: 0.0169614 (300)\ttotal: 889ms\tremaining: 588ms\n",
      "400:\tlearn: 0.0020619\ttest: 0.0169450\tbest: 0.0169450 (400)\ttotal: 1.01s\tremaining: 250ms\n",
      "499:\tlearn: 0.0020573\ttest: 0.0169267\tbest: 0.0169267 (499)\ttotal: 1.16s\tremaining: 0us\n",
      "\n",
      "bestTest = 0.0169267322\n",
      "bestIteration = 499\n",
      "\n"
     ]
    },
    {
     "name": "stderr",
     "output_type": "stream",
     "text": [
      "\r",
      " 19%|█▉        | 8/42 [09:19<40:29, 71.44s/it]"
     ]
    },
    {
     "name": "stdout",
     "output_type": "stream",
     "text": [
      "0:\tlearn: 0.5685392\ttest: 0.5686598\tbest: 0.5686598 (0)\ttotal: 5.44ms\tremaining: 2.71s\n",
      "100:\tlearn: 0.0076881\ttest: 0.0220069\tbest: 0.0220069 (100)\ttotal: 170ms\tremaining: 670ms\n",
      "200:\tlearn: 0.0028643\ttest: 0.0177737\tbest: 0.0177737 (200)\ttotal: 288ms\tremaining: 429ms\n",
      "300:\tlearn: 0.0028637\ttest: 0.0177714\tbest: 0.0177714 (300)\ttotal: 414ms\tremaining: 274ms\n",
      "400:\tlearn: 0.0028158\ttest: 0.0177151\tbest: 0.0177151 (400)\ttotal: 537ms\tremaining: 133ms\n",
      "499:\tlearn: 0.0027557\ttest: 0.0177047\tbest: 0.0177047 (499)\ttotal: 658ms\tremaining: 0us\n",
      "\n",
      "bestTest = 0.01770469653\n",
      "bestIteration = 499\n",
      "\n"
     ]
    },
    {
     "name": "stderr",
     "output_type": "stream",
     "text": [
      "\r",
      " 21%|██▏       | 9/42 [10:34<39:51, 72.48s/it]"
     ]
    },
    {
     "name": "stdout",
     "output_type": "stream",
     "text": [
      "0:\tlearn: 0.2545453\ttest: 0.2617111\tbest: 0.2617111 (0)\ttotal: 5.97ms\tremaining: 2.98s\n",
      "100:\tlearn: 0.0021796\ttest: 0.0152679\tbest: 0.0152679 (100)\ttotal: 172ms\tremaining: 681ms\n",
      "200:\tlearn: 0.0021733\ttest: 0.0152392\tbest: 0.0152392 (200)\ttotal: 302ms\tremaining: 449ms\n",
      "300:\tlearn: 0.0021677\ttest: 0.0152175\tbest: 0.0152175 (300)\ttotal: 432ms\tremaining: 286ms\n",
      "400:\tlearn: 0.0016771\ttest: 0.0140819\tbest: 0.0140819 (400)\ttotal: 564ms\tremaining: 139ms\n",
      "499:\tlearn: 0.0016771\ttest: 0.0140819\tbest: 0.0140819 (400)\ttotal: 689ms\tremaining: 0us\n",
      "\n",
      "bestTest = 0.01408192488\n",
      "bestIteration = 400\n",
      "\n",
      "Shrink model to first 401 iterations.\n"
     ]
    },
    {
     "name": "stderr",
     "output_type": "stream",
     "text": [
      "\r",
      " 24%|██▍       | 10/42 [11:50<39:17, 73.66s/it]"
     ]
    },
    {
     "name": "stdout",
     "output_type": "stream",
     "text": [
      "0:\tlearn: 0.3405399\ttest: 0.3413004\tbest: 0.3413004 (0)\ttotal: 1.63ms\tremaining: 324ms\n",
      "100:\tlearn: 0.0020293\ttest: 0.0163598\tbest: 0.0163598 (100)\ttotal: 150ms\tremaining: 147ms\n",
      "199:\tlearn: 0.0020182\ttest: 0.0163613\tbest: 0.0163598 (100)\ttotal: 295ms\tremaining: 0us\n",
      "\n",
      "bestTest = 0.01635977531\n",
      "bestIteration = 100\n",
      "\n",
      "Shrink model to first 101 iterations.\n"
     ]
    },
    {
     "name": "stderr",
     "output_type": "stream",
     "text": [
      "\r",
      " 26%|██▌       | 11/42 [12:54<36:27, 70.56s/it]"
     ]
    },
    {
     "name": "stdout",
     "output_type": "stream",
     "text": [
      "0:\tlearn: 0.1790391\ttest: 0.1888391\tbest: 0.1888391 (0)\ttotal: 1.74ms\tremaining: 867ms\n",
      "100:\tlearn: 0.0012888\ttest: 0.0182460\tbest: 0.0182460 (100)\ttotal: 154ms\tremaining: 609ms\n",
      "200:\tlearn: 0.0010431\ttest: 0.0181355\tbest: 0.0181355 (200)\ttotal: 333ms\tremaining: 495ms\n",
      "300:\tlearn: 0.0010371\ttest: 0.0181083\tbest: 0.0181083 (300)\ttotal: 476ms\tremaining: 314ms\n",
      "400:\tlearn: 0.0010320\ttest: 0.0180873\tbest: 0.0180873 (400)\ttotal: 627ms\tremaining: 155ms\n",
      "499:\tlearn: 0.0010281\ttest: 0.0180980\tbest: 0.0180873 (400)\ttotal: 769ms\tremaining: 0us\n",
      "\n",
      "bestTest = 0.01808734277\n",
      "bestIteration = 400\n",
      "\n",
      "Shrink model to first 401 iterations.\n"
     ]
    },
    {
     "name": "stderr",
     "output_type": "stream",
     "text": [
      "\r",
      " 29%|██▊       | 12/42 [14:15<36:59, 73.98s/it]"
     ]
    },
    {
     "name": "stdout",
     "output_type": "stream",
     "text": [
      "0:\tlearn: 0.3055083\ttest: 0.3265231\tbest: 0.3265231 (0)\ttotal: 1.19ms\tremaining: 596ms\n",
      "100:\tlearn: 0.0018941\ttest: 0.0132627\tbest: 0.0132627 (100)\ttotal: 99.4ms\tremaining: 393ms\n",
      "200:\tlearn: 0.0017421\ttest: 0.0131949\tbest: 0.0131949 (200)\ttotal: 194ms\tremaining: 288ms\n",
      "300:\tlearn: 0.0017390\ttest: 0.0131859\tbest: 0.0131859 (300)\ttotal: 299ms\tremaining: 197ms\n",
      "400:\tlearn: 0.0016979\ttest: 0.0129633\tbest: 0.0129633 (400)\ttotal: 394ms\tremaining: 97.4ms\n",
      "499:\tlearn: 0.0015386\ttest: 0.0126299\tbest: 0.0126299 (499)\ttotal: 507ms\tremaining: 0us\n",
      "\n",
      "bestTest = 0.01262986195\n",
      "bestIteration = 499\n",
      "\n"
     ]
    },
    {
     "name": "stderr",
     "output_type": "stream",
     "text": [
      "\r",
      " 31%|███       | 13/42 [15:31<35:55, 74.34s/it]"
     ]
    },
    {
     "name": "stdout",
     "output_type": "stream",
     "text": [
      "0:\tlearn: 0.1669831\ttest: 0.1705052\tbest: 0.1705052 (0)\ttotal: 1.43ms\tremaining: 713ms\n",
      "100:\tlearn: 0.0023159\ttest: 0.0151209\tbest: 0.0151209 (100)\ttotal: 124ms\tremaining: 488ms\n",
      "200:\tlearn: 0.0023094\ttest: 0.0151192\tbest: 0.0151192 (200)\ttotal: 252ms\tremaining: 375ms\n",
      "300:\tlearn: 0.0022993\ttest: 0.0151099\tbest: 0.0151099 (300)\ttotal: 374ms\tremaining: 247ms\n",
      "400:\tlearn: 0.0022080\ttest: 0.0150539\tbest: 0.0150539 (400)\ttotal: 500ms\tremaining: 123ms\n",
      "499:\tlearn: 0.0017763\ttest: 0.0159137\tbest: 0.0150539 (400)\ttotal: 621ms\tremaining: 0us\n",
      "\n",
      "bestTest = 0.01505392889\n",
      "bestIteration = 400\n",
      "\n",
      "Shrink model to first 401 iterations.\n"
     ]
    },
    {
     "name": "stderr",
     "output_type": "stream",
     "text": [
      "\r",
      " 33%|███▎      | 14/42 [16:54<35:54, 76.96s/it]"
     ]
    },
    {
     "name": "stdout",
     "output_type": "stream",
     "text": [
      "0:\tlearn: 0.2555006\ttest: 0.2592636\tbest: 0.2592636 (0)\ttotal: 1.65ms\tremaining: 823ms\n",
      "100:\tlearn: 0.0011091\ttest: 0.0143780\tbest: 0.0143780 (100)\ttotal: 146ms\tremaining: 577ms\n",
      "200:\tlearn: 0.0011036\ttest: 0.0144056\tbest: 0.0143780 (100)\ttotal: 305ms\tremaining: 454ms\n",
      "300:\tlearn: 0.0010978\ttest: 0.0144296\tbest: 0.0143780 (100)\ttotal: 463ms\tremaining: 306ms\n",
      "400:\tlearn: 0.0010921\ttest: 0.0144565\tbest: 0.0143780 (100)\ttotal: 617ms\tremaining: 152ms\n",
      "499:\tlearn: 0.0010874\ttest: 0.0144737\tbest: 0.0143780 (100)\ttotal: 759ms\tremaining: 0us\n",
      "\n",
      "bestTest = 0.01437804567\n",
      "bestIteration = 100\n",
      "\n",
      "Shrink model to first 101 iterations.\n"
     ]
    },
    {
     "name": "stderr",
     "output_type": "stream",
     "text": [
      "\r",
      " 36%|███▌      | 15/42 [18:15<35:14, 78.33s/it]"
     ]
    },
    {
     "name": "stdout",
     "output_type": "stream",
     "text": [
      "0:\tlearn: 0.3977706\ttest: 0.4068698\tbest: 0.4068698 (0)\ttotal: 1.8ms\tremaining: 538ms\n",
      "100:\tlearn: 0.0015022\ttest: 0.0127939\tbest: 0.0127939 (100)\ttotal: 147ms\tremaining: 289ms\n",
      "200:\tlearn: 0.0014724\ttest: 0.0126125\tbest: 0.0126125 (200)\ttotal: 297ms\tremaining: 146ms\n",
      "299:\tlearn: 0.0014230\ttest: 0.0123211\tbest: 0.0123211 (299)\ttotal: 437ms\tremaining: 0us\n",
      "\n",
      "bestTest = 0.01232114255\n",
      "bestIteration = 299\n",
      "\n"
     ]
    },
    {
     "name": "stderr",
     "output_type": "stream",
     "text": [
      "\r",
      " 38%|███▊      | 16/42 [19:24<32:45, 75.58s/it]"
     ]
    },
    {
     "name": "stdout",
     "output_type": "stream",
     "text": [
      "0:\tlearn: 0.2014622\ttest: 0.2093750\tbest: 0.2093750 (0)\ttotal: 1.42ms\tremaining: 709ms\n",
      "100:\tlearn: 0.0019572\ttest: 0.0230161\tbest: 0.0230161 (100)\ttotal: 127ms\tremaining: 503ms\n",
      "200:\tlearn: 0.0014157\ttest: 0.0217982\tbest: 0.0217982 (200)\ttotal: 248ms\tremaining: 368ms\n",
      "300:\tlearn: 0.0014089\ttest: 0.0217647\tbest: 0.0217647 (300)\ttotal: 373ms\tremaining: 246ms\n",
      "400:\tlearn: 0.0013021\ttest: 0.0214333\tbest: 0.0214333 (400)\ttotal: 493ms\tremaining: 122ms\n",
      "499:\tlearn: 0.0012651\ttest: 0.0213882\tbest: 0.0213882 (499)\ttotal: 601ms\tremaining: 0us\n",
      "\n",
      "bestTest = 0.02138820422\n",
      "bestIteration = 499\n",
      "\n"
     ]
    },
    {
     "name": "stderr",
     "output_type": "stream",
     "text": [
      "\r",
      " 40%|████      | 17/42 [20:43<31:53, 76.55s/it]"
     ]
    },
    {
     "name": "stdout",
     "output_type": "stream",
     "text": [
      "0:\tlearn: 0.3153286\ttest: 0.3377795\tbest: 0.3377795 (0)\ttotal: 1.81ms\tremaining: 905ms\n",
      "100:\tlearn: 0.0012183\ttest: 0.0185651\tbest: 0.0185651 (100)\ttotal: 159ms\tremaining: 627ms\n",
      "200:\tlearn: 0.0012170\ttest: 0.0185601\tbest: 0.0185601 (200)\ttotal: 322ms\tremaining: 478ms\n",
      "300:\tlearn: 0.0012125\ttest: 0.0185419\tbest: 0.0185419 (300)\ttotal: 477ms\tremaining: 315ms\n",
      "400:\tlearn: 0.0012069\ttest: 0.0185231\tbest: 0.0185231 (400)\ttotal: 641ms\tremaining: 158ms\n",
      "499:\tlearn: 0.0010170\ttest: 0.0185269\tbest: 0.0185231 (400)\ttotal: 793ms\tremaining: 0us\n",
      "\n",
      "bestTest = 0.01852305123\n",
      "bestIteration = 400\n",
      "\n",
      "Shrink model to first 401 iterations.\n"
     ]
    },
    {
     "name": "stderr",
     "output_type": "stream",
     "text": [
      "\r",
      " 43%|████▎     | 18/42 [22:03<30:59, 77.46s/it]"
     ]
    },
    {
     "name": "stdout",
     "output_type": "stream",
     "text": [
      "0:\tlearn: 0.3371210\ttest: 0.3439386\tbest: 0.3439386 (0)\ttotal: 1.7ms\tremaining: 846ms\n",
      "100:\tlearn: 0.0015817\ttest: 0.0125509\tbest: 0.0125509 (100)\ttotal: 147ms\tremaining: 582ms\n",
      "200:\tlearn: 0.0015798\ttest: 0.0125569\tbest: 0.0125509 (100)\ttotal: 303ms\tremaining: 451ms\n",
      "300:\tlearn: 0.0015762\ttest: 0.0125684\tbest: 0.0125509 (100)\ttotal: 447ms\tremaining: 296ms\n",
      "400:\tlearn: 0.0015740\ttest: 0.0125752\tbest: 0.0125509 (100)\ttotal: 603ms\tremaining: 149ms\n",
      "499:\tlearn: 0.0015712\ttest: 0.0125818\tbest: 0.0125509 (100)\ttotal: 753ms\tremaining: 0us\n",
      "\n",
      "bestTest = 0.01255085038\n",
      "bestIteration = 100\n",
      "\n",
      "Shrink model to first 101 iterations.\n"
     ]
    },
    {
     "name": "stderr",
     "output_type": "stream",
     "text": [
      "\r",
      " 45%|████▌     | 19/42 [23:25<30:13, 78.85s/it]"
     ]
    },
    {
     "name": "stdout",
     "output_type": "stream",
     "text": [
      "0:\tlearn: 0.2436383\ttest: 0.2493703\tbest: 0.2493703 (0)\ttotal: 1.42ms\tremaining: 709ms\n",
      "100:\tlearn: 0.0013053\ttest: 0.0246704\tbest: 0.0246704 (100)\ttotal: 123ms\tremaining: 485ms\n",
      "200:\tlearn: 0.0012573\ttest: 0.0244969\tbest: 0.0244969 (200)\ttotal: 246ms\tremaining: 367ms\n",
      "300:\tlearn: 0.0012400\ttest: 0.0244786\tbest: 0.0244786 (300)\ttotal: 360ms\tremaining: 238ms\n",
      "400:\tlearn: 0.0011390\ttest: 0.0248122\tbest: 0.0244786 (300)\ttotal: 479ms\tremaining: 118ms\n",
      "499:\tlearn: 0.0011338\ttest: 0.0247873\tbest: 0.0244786 (300)\ttotal: 592ms\tremaining: 0us\n",
      "\n",
      "bestTest = 0.02447863234\n",
      "bestIteration = 300\n",
      "\n",
      "Shrink model to first 301 iterations.\n"
     ]
    },
    {
     "name": "stderr",
     "output_type": "stream",
     "text": [
      "\r",
      " 48%|████▊     | 20/42 [24:44<28:57, 78.99s/it]"
     ]
    },
    {
     "name": "stdout",
     "output_type": "stream",
     "text": [
      "0:\tlearn: 0.1863741\ttest: 0.2009342\tbest: 0.2009342 (0)\ttotal: 4.28ms\tremaining: 2.13s\n",
      "100:\tlearn: 0.0018039\ttest: 0.0174868\tbest: 0.0174868 (100)\ttotal: 272ms\tremaining: 1.07s\n",
      "200:\tlearn: 0.0017987\ttest: 0.0174944\tbest: 0.0174868 (100)\ttotal: 501ms\tremaining: 745ms\n",
      "300:\tlearn: 0.0014244\ttest: 0.0171037\tbest: 0.0171037 (300)\ttotal: 661ms\tremaining: 437ms\n",
      "400:\tlearn: 0.0014060\ttest: 0.0170933\tbest: 0.0170933 (400)\ttotal: 826ms\tremaining: 204ms\n",
      "499:\tlearn: 0.0013090\ttest: 0.0169685\tbest: 0.0169685 (499)\ttotal: 984ms\tremaining: 0us\n",
      "\n",
      "bestTest = 0.01696851459\n",
      "bestIteration = 499\n",
      "\n"
     ]
    },
    {
     "name": "stderr",
     "output_type": "stream",
     "text": [
      "\r",
      " 50%|█████     | 21/42 [26:06<28:00, 80.02s/it]"
     ]
    },
    {
     "name": "stdout",
     "output_type": "stream",
     "text": [
      "0:\tlearn: 0.3237598\ttest: 0.3298677\tbest: 0.3298677 (0)\ttotal: 1.73ms\tremaining: 864ms\n",
      "100:\tlearn: 0.0016229\ttest: 0.0121371\tbest: 0.0121371 (100)\ttotal: 169ms\tremaining: 668ms\n",
      "200:\tlearn: 0.0016215\ttest: 0.0121363\tbest: 0.0121363 (200)\ttotal: 341ms\tremaining: 508ms\n",
      "300:\tlearn: 0.0016202\ttest: 0.0121355\tbest: 0.0121355 (300)\ttotal: 506ms\tremaining: 335ms\n",
      "400:\tlearn: 0.0016193\ttest: 0.0121352\tbest: 0.0121352 (400)\ttotal: 676ms\tremaining: 167ms\n",
      "499:\tlearn: 0.0013539\ttest: 0.0119657\tbest: 0.0119657 (499)\ttotal: 837ms\tremaining: 0us\n",
      "\n",
      "bestTest = 0.01196569027\n",
      "bestIteration = 499\n",
      "\n"
     ]
    },
    {
     "name": "stderr",
     "output_type": "stream",
     "text": [
      "\r",
      " 52%|█████▏    | 22/42 [27:29<26:52, 80.65s/it]"
     ]
    },
    {
     "name": "stdout",
     "output_type": "stream",
     "text": [
      "0:\tlearn: 0.2402316\ttest: 0.2601549\tbest: 0.2601549 (0)\ttotal: 3.44ms\tremaining: 1.72s\n",
      "100:\tlearn: 0.0018431\ttest: 0.0149913\tbest: 0.0149913 (100)\ttotal: 175ms\tremaining: 693ms\n",
      "200:\tlearn: 0.0014664\ttest: 0.0160331\tbest: 0.0149913 (100)\ttotal: 298ms\tremaining: 444ms\n",
      "300:\tlearn: 0.0014557\ttest: 0.0160125\tbest: 0.0149913 (100)\ttotal: 416ms\tremaining: 275ms\n",
      "400:\tlearn: 0.0014441\ttest: 0.0159890\tbest: 0.0149913 (100)\ttotal: 546ms\tremaining: 135ms\n",
      "499:\tlearn: 0.0014307\ttest: 0.0159587\tbest: 0.0149913 (100)\ttotal: 672ms\tremaining: 0us\n",
      "\n",
      "bestTest = 0.0149913264\n",
      "bestIteration = 100\n",
      "\n",
      "Shrink model to first 101 iterations.\n"
     ]
    },
    {
     "name": "stderr",
     "output_type": "stream",
     "text": [
      "\r",
      " 55%|█████▍    | 23/42 [28:50<25:37, 80.92s/it]"
     ]
    },
    {
     "name": "stdout",
     "output_type": "stream",
     "text": [
      "0:\tlearn: 0.3096698\ttest: 0.3183907\tbest: 0.3183907 (0)\ttotal: 1.77ms\tremaining: 883ms\n",
      "100:\tlearn: 0.0014627\ttest: 0.0150956\tbest: 0.0150956 (100)\ttotal: 170ms\tremaining: 670ms\n",
      "200:\tlearn: 0.0012842\ttest: 0.0150176\tbest: 0.0150176 (200)\ttotal: 342ms\tremaining: 509ms\n",
      "300:\tlearn: 0.0012813\ttest: 0.0150141\tbest: 0.0150141 (300)\ttotal: 510ms\tremaining: 337ms\n",
      "400:\tlearn: 0.0012790\ttest: 0.0150107\tbest: 0.0150107 (400)\ttotal: 681ms\tremaining: 168ms\n",
      "499:\tlearn: 0.0012773\ttest: 0.0150086\tbest: 0.0150086 (499)\ttotal: 845ms\tremaining: 0us\n",
      "\n",
      "bestTest = 0.01500864346\n",
      "bestIteration = 499\n",
      "\n"
     ]
    },
    {
     "name": "stderr",
     "output_type": "stream",
     "text": [
      "\r",
      " 57%|█████▋    | 24/42 [30:13<24:27, 81.51s/it]"
     ]
    },
    {
     "name": "stdout",
     "output_type": "stream",
     "text": [
      "0:\tlearn: 0.3291059\ttest: 0.3353527\tbest: 0.3353527 (0)\ttotal: 3.68ms\tremaining: 1.83s\n",
      "100:\tlearn: 0.0016355\ttest: 0.0143521\tbest: 0.0143521 (100)\ttotal: 318ms\tremaining: 1.25s\n",
      "200:\tlearn: 0.0016305\ttest: 0.0143614\tbest: 0.0143521 (100)\ttotal: 618ms\tremaining: 920ms\n",
      "300:\tlearn: 0.0014754\ttest: 0.0141929\tbest: 0.0141929 (300)\ttotal: 912ms\tremaining: 603ms\n",
      "400:\tlearn: 0.0014661\ttest: 0.0142323\tbest: 0.0141929 (300)\ttotal: 1.21s\tremaining: 298ms\n",
      "499:\tlearn: 0.0014538\ttest: 0.0142650\tbest: 0.0141929 (300)\ttotal: 1.51s\tremaining: 0us\n",
      "\n",
      "bestTest = 0.01419291149\n",
      "bestIteration = 300\n",
      "\n",
      "Shrink model to first 301 iterations.\n"
     ]
    },
    {
     "name": "stderr",
     "output_type": "stream",
     "text": [
      "\r",
      " 60%|█████▉    | 25/42 [31:37<23:20, 82.37s/it]"
     ]
    },
    {
     "name": "stdout",
     "output_type": "stream",
     "text": [
      "0:\tlearn: 0.2029817\ttest: 0.2206502\tbest: 0.2206502 (0)\ttotal: 1.83ms\tremaining: 912ms\n",
      "100:\tlearn: 0.0012822\ttest: 0.0226607\tbest: 0.0226607 (100)\ttotal: 152ms\tremaining: 600ms\n",
      "200:\tlearn: 0.0011471\ttest: 0.0223234\tbest: 0.0223234 (200)\ttotal: 307ms\tremaining: 456ms\n",
      "300:\tlearn: 0.0010596\ttest: 0.0218565\tbest: 0.0218565 (300)\ttotal: 452ms\tremaining: 299ms\n",
      "400:\tlearn: 0.0009176\ttest: 0.0220495\tbest: 0.0218565 (300)\ttotal: 605ms\tremaining: 149ms\n",
      "499:\tlearn: 0.0009125\ttest: 0.0220069\tbest: 0.0218565 (300)\ttotal: 750ms\tremaining: 0us\n",
      "\n",
      "bestTest = 0.02185653052\n",
      "bestIteration = 300\n",
      "\n",
      "Shrink model to first 301 iterations.\n"
     ]
    },
    {
     "name": "stderr",
     "output_type": "stream",
     "text": [
      "\r",
      " 62%|██████▏   | 26/42 [34:00<26:46, 100.41s/it]"
     ]
    },
    {
     "name": "stdout",
     "output_type": "stream",
     "text": [
      "0:\tlearn: 0.2663695\ttest: 0.2603241\tbest: 0.2603241 (0)\ttotal: 5.53ms\tremaining: 2.76s\n",
      "100:\tlearn: 0.0015825\ttest: 0.0242957\tbest: 0.0242957 (100)\ttotal: 179ms\tremaining: 709ms\n",
      "200:\tlearn: 0.0015087\ttest: 0.0242798\tbest: 0.0242798 (200)\ttotal: 287ms\tremaining: 427ms\n",
      "300:\tlearn: 0.0013085\ttest: 0.0235979\tbest: 0.0235979 (300)\ttotal: 389ms\tremaining: 257ms\n",
      "400:\tlearn: 0.0013016\ttest: 0.0236503\tbest: 0.0235979 (300)\ttotal: 489ms\tremaining: 121ms\n",
      "499:\tlearn: 0.0012945\ttest: 0.0236863\tbest: 0.0235979 (300)\ttotal: 591ms\tremaining: 0us\n",
      "\n",
      "bestTest = 0.02359791329\n",
      "bestIteration = 300\n",
      "\n",
      "Shrink model to first 301 iterations.\n"
     ]
    },
    {
     "name": "stderr",
     "output_type": "stream",
     "text": [
      "\r",
      " 64%|██████▍   | 27/42 [35:23<23:47, 95.17s/it] "
     ]
    },
    {
     "name": "stdout",
     "output_type": "stream",
     "text": [
      "0:\tlearn: 0.2214345\ttest: 0.2347857\tbest: 0.2347857 (0)\ttotal: 6.93ms\tremaining: 3.46s\n",
      "100:\tlearn: 0.0014098\ttest: 0.0136646\tbest: 0.0136646 (100)\ttotal: 199ms\tremaining: 788ms\n",
      "200:\tlearn: 0.0012497\ttest: 0.0129416\tbest: 0.0129416 (200)\ttotal: 369ms\tremaining: 549ms\n",
      "300:\tlearn: 0.0012029\ttest: 0.0127160\tbest: 0.0127160 (300)\ttotal: 530ms\tremaining: 350ms\n",
      "400:\tlearn: 0.0011949\ttest: 0.0126934\tbest: 0.0126934 (400)\ttotal: 699ms\tremaining: 173ms\n",
      "499:\tlearn: 0.0011910\ttest: 0.0126856\tbest: 0.0126856 (499)\ttotal: 859ms\tremaining: 0us\n",
      "\n",
      "bestTest = 0.01268555155\n",
      "bestIteration = 499\n",
      "\n"
     ]
    },
    {
     "name": "stderr",
     "output_type": "stream",
     "text": [
      "\r",
      " 67%|██████▋   | 28/42 [36:51<21:40, 92.92s/it]"
     ]
    },
    {
     "name": "stdout",
     "output_type": "stream",
     "text": [
      "0:\tlearn: 0.2088596\ttest: 0.2185333\tbest: 0.2185333 (0)\ttotal: 2.18ms\tremaining: 1.08s\n",
      "100:\tlearn: 0.0011555\ttest: 0.0207622\tbest: 0.0207622 (100)\ttotal: 185ms\tremaining: 729ms\n",
      "200:\tlearn: 0.0010600\ttest: 0.0210928\tbest: 0.0207622 (100)\ttotal: 376ms\tremaining: 559ms\n",
      "300:\tlearn: 0.0009392\ttest: 0.0199812\tbest: 0.0199812 (300)\ttotal: 555ms\tremaining: 367ms\n",
      "400:\tlearn: 0.0009354\ttest: 0.0199897\tbest: 0.0199812 (300)\ttotal: 732ms\tremaining: 181ms\n",
      "499:\tlearn: 0.0009316\ttest: 0.0200036\tbest: 0.0199812 (300)\ttotal: 900ms\tremaining: 0us\n",
      "\n",
      "bestTest = 0.01998124798\n",
      "bestIteration = 300\n",
      "\n",
      "Shrink model to first 301 iterations.\n"
     ]
    },
    {
     "name": "stderr",
     "output_type": "stream",
     "text": [
      "\r",
      " 69%|██████▉   | 29/42 [38:19<19:49, 91.51s/it]"
     ]
    },
    {
     "name": "stdout",
     "output_type": "stream",
     "text": [
      "0:\tlearn: 0.4316425\ttest: 0.4408124\tbest: 0.4408124 (0)\ttotal: 1.98ms\tremaining: 988ms\n",
      "100:\tlearn: 0.0020935\ttest: 0.0190437\tbest: 0.0190437 (100)\ttotal: 186ms\tremaining: 735ms\n",
      "200:\tlearn: 0.0017040\ttest: 0.0188078\tbest: 0.0188078 (200)\ttotal: 374ms\tremaining: 556ms\n",
      "300:\tlearn: 0.0017026\ttest: 0.0188136\tbest: 0.0188078 (200)\ttotal: 557ms\tremaining: 368ms\n",
      "400:\tlearn: 0.0016557\ttest: 0.0187385\tbest: 0.0187385 (400)\ttotal: 735ms\tremaining: 181ms\n",
      "499:\tlearn: 0.0016539\ttest: 0.0187403\tbest: 0.0187385 (400)\ttotal: 903ms\tremaining: 0us\n",
      "\n",
      "bestTest = 0.01873846034\n",
      "bestIteration = 400\n",
      "\n",
      "Shrink model to first 401 iterations.\n"
     ]
    },
    {
     "name": "stderr",
     "output_type": "stream",
     "text": [
      "\r",
      " 71%|███████▏  | 30/42 [39:51<18:20, 91.69s/it]"
     ]
    },
    {
     "name": "stdout",
     "output_type": "stream",
     "text": [
      "0:\tlearn: 0.3077525\ttest: 0.3103329\tbest: 0.3103329 (0)\ttotal: 1.62ms\tremaining: 810ms\n",
      "100:\tlearn: 0.0019321\ttest: 0.0258306\tbest: 0.0258306 (100)\ttotal: 138ms\tremaining: 546ms\n",
      "200:\tlearn: 0.0015721\ttest: 0.0243967\tbest: 0.0243967 (200)\ttotal: 281ms\tremaining: 418ms\n",
      "300:\tlearn: 0.0015642\ttest: 0.0243527\tbest: 0.0243527 (300)\ttotal: 416ms\tremaining: 275ms\n",
      "400:\tlearn: 0.0014404\ttest: 0.0247370\tbest: 0.0243527 (300)\ttotal: 555ms\tremaining: 137ms\n",
      "499:\tlearn: 0.0014328\ttest: 0.0246577\tbest: 0.0243527 (300)\ttotal: 689ms\tremaining: 0us\n",
      "\n",
      "bestTest = 0.02435272337\n",
      "bestIteration = 300\n",
      "\n",
      "Shrink model to first 301 iterations.\n"
     ]
    },
    {
     "name": "stderr",
     "output_type": "stream",
     "text": [
      "\r",
      " 74%|███████▍  | 31/42 [41:18<16:34, 90.45s/it]"
     ]
    },
    {
     "name": "stdout",
     "output_type": "stream",
     "text": [
      "0:\tlearn: 0.3125221\ttest: 0.3276493\tbest: 0.3276493 (0)\ttotal: 2.2ms\tremaining: 1.1s\n",
      "100:\tlearn: 0.0014196\ttest: 0.0099280\tbest: 0.0099280 (100)\ttotal: 190ms\tremaining: 752ms\n",
      "200:\tlearn: 0.0014161\ttest: 0.0099165\tbest: 0.0099165 (200)\ttotal: 387ms\tremaining: 576ms\n",
      "300:\tlearn: 0.0014127\ttest: 0.0099066\tbest: 0.0099066 (300)\ttotal: 566ms\tremaining: 374ms\n",
      "400:\tlearn: 0.0014091\ttest: 0.0098991\tbest: 0.0098991 (400)\ttotal: 751ms\tremaining: 185ms\n",
      "499:\tlearn: 0.0014036\ttest: 0.0098872\tbest: 0.0098872 (499)\ttotal: 935ms\tremaining: 0us\n",
      "\n",
      "bestTest = 0.009887156005\n",
      "bestIteration = 499\n",
      "\n"
     ]
    },
    {
     "name": "stderr",
     "output_type": "stream",
     "text": [
      "\r",
      " 76%|███████▌  | 32/42 [42:52<15:13, 91.38s/it]"
     ]
    },
    {
     "name": "stdout",
     "output_type": "stream",
     "text": [
      "0:\tlearn: 0.4173944\ttest: 0.4256015\tbest: 0.4256015 (0)\ttotal: 1.33ms\tremaining: 663ms\n",
      "100:\tlearn: 0.0026382\ttest: 0.0258095\tbest: 0.0258095 (100)\ttotal: 120ms\tremaining: 476ms\n",
      "200:\tlearn: 0.0017325\ttest: 0.0242453\tbest: 0.0242453 (200)\ttotal: 241ms\tremaining: 359ms\n",
      "300:\tlearn: 0.0015297\ttest: 0.0245602\tbest: 0.0242453 (200)\ttotal: 354ms\tremaining: 234ms\n",
      "400:\tlearn: 0.0014956\ttest: 0.0245677\tbest: 0.0242453 (200)\ttotal: 475ms\tremaining: 117ms\n",
      "499:\tlearn: 0.0014719\ttest: 0.0245797\tbest: 0.0242453 (200)\ttotal: 578ms\tremaining: 0us\n",
      "\n",
      "bestTest = 0.02424532459\n",
      "bestIteration = 200\n",
      "\n",
      "Shrink model to first 201 iterations.\n"
     ]
    },
    {
     "name": "stderr",
     "output_type": "stream",
     "text": [
      "\r",
      " 79%|███████▊  | 33/42 [44:20<13:33, 90.43s/it]"
     ]
    },
    {
     "name": "stdout",
     "output_type": "stream",
     "text": [
      "0:\tlearn: 0.1892310\ttest: 0.1951290\tbest: 0.1951290 (0)\ttotal: 5.11ms\tremaining: 2.55s\n",
      "100:\tlearn: 0.0009984\ttest: 0.0248891\tbest: 0.0248891 (100)\ttotal: 246ms\tremaining: 972ms\n",
      "200:\tlearn: 0.0009934\ttest: 0.0249023\tbest: 0.0248891 (100)\ttotal: 429ms\tremaining: 639ms\n",
      "300:\tlearn: 0.0009892\ttest: 0.0249446\tbest: 0.0248891 (100)\ttotal: 621ms\tremaining: 411ms\n",
      "400:\tlearn: 0.0009365\ttest: 0.0262360\tbest: 0.0248891 (100)\ttotal: 802ms\tremaining: 198ms\n",
      "499:\tlearn: 0.0009333\ttest: 0.0262843\tbest: 0.0248891 (100)\ttotal: 998ms\tremaining: 0us\n",
      "\n",
      "bestTest = 0.02488913433\n",
      "bestIteration = 100\n",
      "\n",
      "Shrink model to first 101 iterations.\n"
     ]
    },
    {
     "name": "stderr",
     "output_type": "stream",
     "text": [
      "\r",
      " 81%|████████  | 34/42 [45:55<12:12, 91.62s/it]"
     ]
    },
    {
     "name": "stdout",
     "output_type": "stream",
     "text": [
      "0:\tlearn: 0.2405523\ttest: 0.2440792\tbest: 0.2440792 (0)\ttotal: 4.09ms\tremaining: 2.04s\n",
      "100:\tlearn: 0.0013659\ttest: 0.0226414\tbest: 0.0226414 (100)\ttotal: 195ms\tremaining: 772ms\n",
      "200:\tlearn: 0.0013033\ttest: 0.0225998\tbest: 0.0225998 (200)\ttotal: 339ms\tremaining: 505ms\n",
      "300:\tlearn: 0.0012819\ttest: 0.0227601\tbest: 0.0225998 (200)\ttotal: 481ms\tremaining: 318ms\n",
      "400:\tlearn: 0.0012587\ttest: 0.0228639\tbest: 0.0225998 (200)\ttotal: 627ms\tremaining: 155ms\n",
      "499:\tlearn: 0.0012511\ttest: 0.0228523\tbest: 0.0225998 (200)\ttotal: 768ms\tremaining: 0us\n",
      "\n",
      "bestTest = 0.0225997663\n",
      "bestIteration = 200\n",
      "\n",
      "Shrink model to first 201 iterations.\n"
     ]
    },
    {
     "name": "stderr",
     "output_type": "stream",
     "text": [
      "\r",
      " 83%|████████▎ | 35/42 [47:26<10:40, 91.50s/it]"
     ]
    },
    {
     "name": "stdout",
     "output_type": "stream",
     "text": [
      "0:\tlearn: 0.4242574\ttest: 0.4275177\tbest: 0.4275177 (0)\ttotal: 2.82ms\tremaining: 1.41s\n",
      "100:\tlearn: 0.0020614\ttest: 0.0156608\tbest: 0.0156608 (100)\ttotal: 111ms\tremaining: 440ms\n",
      "200:\tlearn: 0.0016905\ttest: 0.0159507\tbest: 0.0156608 (100)\ttotal: 199ms\tremaining: 297ms\n",
      "300:\tlearn: 0.0016636\ttest: 0.0158877\tbest: 0.0156608 (100)\ttotal: 293ms\tremaining: 194ms\n",
      "400:\tlearn: 0.0016603\ttest: 0.0159021\tbest: 0.0156608 (100)\ttotal: 381ms\tremaining: 94ms\n",
      "499:\tlearn: 0.0016472\ttest: 0.0157173\tbest: 0.0156608 (100)\ttotal: 469ms\tremaining: 0us\n",
      "\n",
      "bestTest = 0.01566077668\n",
      "bestIteration = 100\n",
      "\n",
      "Shrink model to first 101 iterations.\n"
     ]
    },
    {
     "name": "stderr",
     "output_type": "stream",
     "text": [
      "\r",
      " 86%|████████▌ | 36/42 [48:55<09:04, 90.76s/it]"
     ]
    },
    {
     "name": "stdout",
     "output_type": "stream",
     "text": [
      "0:\tlearn: 0.3497466\ttest: 0.3587394\tbest: 0.3587394 (0)\ttotal: 6.49ms\tremaining: 3.24s\n",
      "100:\tlearn: 0.0021231\ttest: 0.0117179\tbest: 0.0117179 (100)\ttotal: 220ms\tremaining: 869ms\n",
      "200:\tlearn: 0.0020883\ttest: 0.0116778\tbest: 0.0116778 (200)\ttotal: 353ms\tremaining: 526ms\n",
      "300:\tlearn: 0.0020843\ttest: 0.0116624\tbest: 0.0116624 (300)\ttotal: 501ms\tremaining: 331ms\n",
      "400:\tlearn: 0.0020804\ttest: 0.0116453\tbest: 0.0116453 (400)\ttotal: 647ms\tremaining: 160ms\n",
      "499:\tlearn: 0.0020709\ttest: 0.0115829\tbest: 0.0115829 (499)\ttotal: 797ms\tremaining: 0us\n",
      "\n",
      "bestTest = 0.01158286729\n",
      "bestIteration = 499\n",
      "\n"
     ]
    },
    {
     "name": "stderr",
     "output_type": "stream",
     "text": [
      "\r",
      " 88%|████████▊ | 37/42 [50:27<07:35, 91.10s/it]"
     ]
    },
    {
     "name": "stdout",
     "output_type": "stream",
     "text": [
      "0:\tlearn: 0.2846527\ttest: 0.2861528\tbest: 0.2861528 (0)\ttotal: 1.37ms\tremaining: 684ms\n",
      "100:\tlearn: 0.0019928\ttest: 0.0205286\tbest: 0.0205286 (100)\ttotal: 122ms\tremaining: 480ms\n",
      "200:\tlearn: 0.0019846\ttest: 0.0204922\tbest: 0.0204922 (200)\ttotal: 246ms\tremaining: 366ms\n",
      "300:\tlearn: 0.0019784\ttest: 0.0204636\tbest: 0.0204636 (300)\ttotal: 362ms\tremaining: 239ms\n",
      "400:\tlearn: 0.0019696\ttest: 0.0204253\tbest: 0.0204253 (400)\ttotal: 484ms\tremaining: 119ms\n",
      "499:\tlearn: 0.0015988\ttest: 0.0194551\tbest: 0.0194551 (499)\ttotal: 599ms\tremaining: 0us\n",
      "\n",
      "bestTest = 0.01945511419\n",
      "bestIteration = 499\n",
      "\n"
     ]
    },
    {
     "name": "stderr",
     "output_type": "stream",
     "text": [
      "\r",
      " 90%|█████████ | 38/42 [51:57<06:03, 90.76s/it]"
     ]
    },
    {
     "name": "stdout",
     "output_type": "stream",
     "text": [
      "0:\tlearn: 0.3034517\ttest: 0.3077438\tbest: 0.3077438 (0)\ttotal: 4.67ms\tremaining: 1.4s\n",
      "100:\tlearn: 0.0019007\ttest: 0.0219007\tbest: 0.0219007 (100)\ttotal: 175ms\tremaining: 346ms\n",
      "200:\tlearn: 0.0018873\ttest: 0.0217882\tbest: 0.0217882 (200)\ttotal: 292ms\tremaining: 144ms\n",
      "299:\tlearn: 0.0015803\ttest: 0.0223259\tbest: 0.0217882 (200)\ttotal: 400ms\tremaining: 0us\n",
      "\n",
      "bestTest = 0.02178818336\n",
      "bestIteration = 200\n",
      "\n",
      "Shrink model to first 201 iterations.\n"
     ]
    },
    {
     "name": "stderr",
     "output_type": "stream",
     "text": [
      "\r",
      " 93%|█████████▎| 39/42 [53:18<04:23, 87.98s/it]"
     ]
    },
    {
     "name": "stdout",
     "output_type": "stream",
     "text": [
      "0:\tlearn: 0.3092984\ttest: 0.3144759\tbest: 0.3144759 (0)\ttotal: 2.11ms\tremaining: 1.05s\n",
      "100:\tlearn: 0.0013767\ttest: 0.0110483\tbest: 0.0110483 (100)\ttotal: 205ms\tremaining: 811ms\n",
      "200:\tlearn: 0.0012615\ttest: 0.0116520\tbest: 0.0110483 (100)\ttotal: 413ms\tremaining: 614ms\n",
      "300:\tlearn: 0.0012374\ttest: 0.0116102\tbest: 0.0110483 (100)\ttotal: 612ms\tremaining: 405ms\n",
      "400:\tlearn: 0.0011555\ttest: 0.0116019\tbest: 0.0110483 (100)\ttotal: 813ms\tremaining: 201ms\n",
      "499:\tlearn: 0.0010643\ttest: 0.0118543\tbest: 0.0110483 (100)\ttotal: 1.01s\tremaining: 0us\n",
      "\n",
      "bestTest = 0.01104832822\n",
      "bestIteration = 100\n",
      "\n",
      "Shrink model to first 101 iterations.\n"
     ]
    },
    {
     "name": "stderr",
     "output_type": "stream",
     "text": [
      "\r",
      " 95%|█████████▌| 40/42 [54:54<03:00, 90.34s/it]"
     ]
    },
    {
     "name": "stdout",
     "output_type": "stream",
     "text": [
      "0:\tlearn: 0.2611920\ttest: 0.2686078\tbest: 0.2686078 (0)\ttotal: 2.33ms\tremaining: 1.16s\n",
      "100:\tlearn: 0.0011059\ttest: 0.0181884\tbest: 0.0181884 (100)\ttotal: 194ms\tremaining: 765ms\n",
      "200:\tlearn: 0.0010536\ttest: 0.0180787\tbest: 0.0180787 (200)\ttotal: 391ms\tremaining: 582ms\n",
      "300:\tlearn: 0.0010500\ttest: 0.0180778\tbest: 0.0180778 (300)\ttotal: 582ms\tremaining: 385ms\n",
      "400:\tlearn: 0.0010390\ttest: 0.0180857\tbest: 0.0180778 (300)\ttotal: 779ms\tremaining: 192ms\n",
      "499:\tlearn: 0.0010359\ttest: 0.0180908\tbest: 0.0180778 (300)\ttotal: 967ms\tremaining: 0us\n",
      "\n",
      "bestTest = 0.01807775599\n",
      "bestIteration = 300\n",
      "\n",
      "Shrink model to first 301 iterations.\n"
     ]
    },
    {
     "name": "stderr",
     "output_type": "stream",
     "text": [
      "\r",
      " 98%|█████████▊| 41/42 [56:29<01:31, 91.80s/it]"
     ]
    },
    {
     "name": "stdout",
     "output_type": "stream",
     "text": [
      "0:\tlearn: 0.2051471\ttest: 0.2252357\tbest: 0.2252357 (0)\ttotal: 2.11ms\tremaining: 1.05s\n",
      "100:\tlearn: 0.0017787\ttest: 0.0243065\tbest: 0.0243065 (100)\ttotal: 197ms\tremaining: 776ms\n",
      "200:\tlearn: 0.0012434\ttest: 0.0235207\tbest: 0.0235207 (200)\ttotal: 397ms\tremaining: 590ms\n",
      "300:\tlearn: 0.0012357\ttest: 0.0235029\tbest: 0.0235029 (300)\ttotal: 586ms\tremaining: 387ms\n",
      "400:\tlearn: 0.0011598\ttest: 0.0226727\tbest: 0.0226727 (400)\ttotal: 893ms\tremaining: 220ms\n",
      "499:\tlearn: 0.0011179\ttest: 0.0221591\tbest: 0.0221591 (499)\ttotal: 1.11s\tremaining: 0us\n",
      "\n",
      "bestTest = 0.0221591339\n",
      "bestIteration = 499\n",
      "\n"
     ]
    },
    {
     "name": "stderr",
     "output_type": "stream",
     "text": [
      "100%|██████████| 42/42 [58:06<00:00, 83.01s/it]\n"
     ]
    }
   ],
   "source": [
    "for i in tqdm(range(5, len(sorted_metrics))):\n",
    "    metrics = sorted_metrics[:i]\n",
    "    \n",
    "    model = getBestModelCB(X_train[metrics], X_test[metrics], y_train, y_test,\n",
    "                        params_grid=params_grid)\n",
    "    \n",
    "    time_predict = min(timeit.Timer('model.predict(X_test)', globals=globals()).repeat(repeat=10, number=100))\n",
    "    history['time_predict'].append(time_predict)\n",
    "    \n",
    "    y_pred = model.predict(X_test)\n",
    "    accuracy = accuracy_score(y_test, y_pred)\n",
    "    history['accuracy'].append(accuracy)"
   ]
  },
  {
   "cell_type": "code",
   "execution_count": 205,
   "id": "naval-bearing",
   "metadata": {},
   "outputs": [
    {
     "data": {
      "image/png": "[encoded data removed]",
      "text/plain": [
       "<Figure size 1152x720 with 1 Axes>"
      ]
     },
     "metadata": {},
     "output_type": "display_data"
    },
    {
     "data": {
      "image/png": "[encoded data removed]",
      "text/plain": [
       "<Figure size 1152x720 with 1 Axes>"
      ]
     },
     "metadata": {},
     "output_type": "display_data"
    }
   ],
   "source": [
    "plot_acc_and_time(history, sorted_metrics)"
   ]
  },
  {
   "cell_type": "code",
   "execution_count": 206,
   "id": "guided-narrative",
   "metadata": {},
   "outputs": [],
   "source": [
    "# сохранение истории\n",
    "with open('history_valid_1.json', 'w') as fp:\n",
    "    json.dump(history, fp)"
   ]
  },
  {
   "cell_type": "markdown",
   "id": "modern-newfoundland",
   "metadata": {},
   "source": [
    "### Определение осанки для стоячего положения"
   ]
  },
  {
   "cell_type": "code",
   "execution_count": 207,
   "id": "legislative-eleven",
   "metadata": {},
   "outputs": [
    {
     "data": {
      "text/html": [
       "<div>\n",
       "<style scoped>\n",
       "    .dataframe tbody tr th:only-of-type {\n",
       "        vertical-align: middle;\n",
       "    }\n",
       "\n",
       "    .dataframe tbody tr th {\n",
       "        vertical-align: top;\n",
       "    }\n",
       "\n",
       "    .dataframe thead th {\n",
       "        text-align: right;\n",
       "    }\n",
       "</style>\n",
       "<table border=\"1\" class=\"dataframe\">\n",
       "  <thead>\n",
       "    <tr style=\"text-align: right;\">\n",
       "      <th></th>\n",
       "      <th>x_mean</th>\n",
       "      <th>x_std</th>\n",
       "      <th>x_max</th>\n",
       "      <th>x_min</th>\n",
       "      <th>x_energy</th>\n",
       "      <th>x_iqr</th>\n",
       "      <th>y_mean</th>\n",
       "      <th>y_std</th>\n",
       "      <th>y_max</th>\n",
       "      <th>y_min</th>\n",
       "      <th>...</th>\n",
       "      <th>x_iqr_pos1</th>\n",
       "      <th>y_iqr_pos1</th>\n",
       "      <th>z_iqr_pos1</th>\n",
       "      <th>xy_corr_pos1</th>\n",
       "      <th>xz_corr_pos1</th>\n",
       "      <th>yz_corr_pos1</th>\n",
       "      <th>height</th>\n",
       "      <th>mass</th>\n",
       "      <th>is_valid</th>\n",
       "      <th>sex</th>\n",
       "    </tr>\n",
       "    <tr>\n",
       "      <th>level_1</th>\n",
       "      <th></th>\n",
       "      <th></th>\n",
       "      <th></th>\n",
       "      <th></th>\n",
       "      <th></th>\n",
       "      <th></th>\n",
       "      <th></th>\n",
       "      <th></th>\n",
       "      <th></th>\n",
       "      <th></th>\n",
       "      <th></th>\n",
       "      <th></th>\n",
       "      <th></th>\n",
       "      <th></th>\n",
       "      <th></th>\n",
       "      <th></th>\n",
       "      <th></th>\n",
       "      <th></th>\n",
       "      <th></th>\n",
       "      <th></th>\n",
       "      <th></th>\n",
       "    </tr>\n",
       "  </thead>\n",
       "  <tbody>\n",
       "    <tr>\n",
       "      <th>2872</th>\n",
       "      <td>12316.28</td>\n",
       "      <td>235.528208</td>\n",
       "      <td>12820.0</td>\n",
       "      <td>11556.0</td>\n",
       "      <td>1.517457e+08</td>\n",
       "      <td>315.0</td>\n",
       "      <td>-61.16</td>\n",
       "      <td>327.249348</td>\n",
       "      <td>960.0</td>\n",
       "      <td>-792.0</td>\n",
       "      <td>...</td>\n",
       "      <td>196.0</td>\n",
       "      <td>132.0</td>\n",
       "      <td>485.0</td>\n",
       "      <td>-0.203383</td>\n",
       "      <td>0.750925</td>\n",
       "      <td>-0.452449</td>\n",
       "      <td>185</td>\n",
       "      <td>75</td>\n",
       "      <td>0</td>\n",
       "      <td>1</td>\n",
       "    </tr>\n",
       "    <tr>\n",
       "      <th>2897</th>\n",
       "      <td>12299.04</td>\n",
       "      <td>235.876441</td>\n",
       "      <td>12820.0</td>\n",
       "      <td>11556.0</td>\n",
       "      <td>1.513215e+08</td>\n",
       "      <td>302.0</td>\n",
       "      <td>51.00</td>\n",
       "      <td>352.250772</td>\n",
       "      <td>960.0</td>\n",
       "      <td>-792.0</td>\n",
       "      <td>...</td>\n",
       "      <td>196.0</td>\n",
       "      <td>132.0</td>\n",
       "      <td>485.0</td>\n",
       "      <td>-0.203383</td>\n",
       "      <td>0.750925</td>\n",
       "      <td>-0.452449</td>\n",
       "      <td>185</td>\n",
       "      <td>75</td>\n",
       "      <td>0</td>\n",
       "      <td>1</td>\n",
       "    </tr>\n",
       "    <tr>\n",
       "      <th>2922</th>\n",
       "      <td>12331.88</td>\n",
       "      <td>277.328936</td>\n",
       "      <td>13052.0</td>\n",
       "      <td>11556.0</td>\n",
       "      <td>1.521514e+08</td>\n",
       "      <td>343.0</td>\n",
       "      <td>105.52</td>\n",
       "      <td>321.585858</td>\n",
       "      <td>960.0</td>\n",
       "      <td>-744.0</td>\n",
       "      <td>...</td>\n",
       "      <td>196.0</td>\n",
       "      <td>132.0</td>\n",
       "      <td>485.0</td>\n",
       "      <td>-0.203383</td>\n",
       "      <td>0.750925</td>\n",
       "      <td>-0.452449</td>\n",
       "      <td>185</td>\n",
       "      <td>75</td>\n",
       "      <td>0</td>\n",
       "      <td>1</td>\n",
       "    </tr>\n",
       "    <tr>\n",
       "      <th>2947</th>\n",
       "      <td>12427.68</td>\n",
       "      <td>283.239945</td>\n",
       "      <td>13052.0</td>\n",
       "      <td>11556.0</td>\n",
       "      <td>1.545267e+08</td>\n",
       "      <td>399.0</td>\n",
       "      <td>46.28</td>\n",
       "      <td>361.610876</td>\n",
       "      <td>960.0</td>\n",
       "      <td>-892.0</td>\n",
       "      <td>...</td>\n",
       "      <td>196.0</td>\n",
       "      <td>132.0</td>\n",
       "      <td>485.0</td>\n",
       "      <td>-0.203383</td>\n",
       "      <td>0.750925</td>\n",
       "      <td>-0.452449</td>\n",
       "      <td>185</td>\n",
       "      <td>75</td>\n",
       "      <td>0</td>\n",
       "      <td>1</td>\n",
       "    </tr>\n",
       "    <tr>\n",
       "      <th>2972</th>\n",
       "      <td>12539.80</td>\n",
       "      <td>257.864031</td>\n",
       "      <td>13052.0</td>\n",
       "      <td>11988.0</td>\n",
       "      <td>1.573124e+08</td>\n",
       "      <td>384.0</td>\n",
       "      <td>-1.24</td>\n",
       "      <td>361.704023</td>\n",
       "      <td>696.0</td>\n",
       "      <td>-892.0</td>\n",
       "      <td>...</td>\n",
       "      <td>196.0</td>\n",
       "      <td>132.0</td>\n",
       "      <td>485.0</td>\n",
       "      <td>-0.203383</td>\n",
       "      <td>0.750925</td>\n",
       "      <td>-0.452449</td>\n",
       "      <td>185</td>\n",
       "      <td>75</td>\n",
       "      <td>0</td>\n",
       "      <td>1</td>\n",
       "    </tr>\n",
       "  </tbody>\n",
       "</table>\n",
       "<p>5 rows × 48 columns</p>\n",
       "</div>"
      ],
      "text/plain": [
       "           x_mean       x_std    x_max    x_min      x_energy  x_iqr  y_mean  \\\n",
       "level_1                                                                        \n",
       "2872     12316.28  235.528208  12820.0  11556.0  1.517457e+08  315.0  -61.16   \n",
       "2897     12299.04  235.876441  12820.0  11556.0  1.513215e+08  302.0   51.00   \n",
       "2922     12331.88  277.328936  13052.0  11556.0  1.521514e+08  343.0  105.52   \n",
       "2947     12427.68  283.239945  13052.0  11556.0  1.545267e+08  399.0   46.28   \n",
       "2972     12539.80  257.864031  13052.0  11988.0  1.573124e+08  384.0   -1.24   \n",
       "\n",
       "              y_std  y_max  y_min  ...  x_iqr_pos1  y_iqr_pos1  z_iqr_pos1  \\\n",
       "level_1                            ...                                       \n",
       "2872     327.249348  960.0 -792.0  ...       196.0       132.0       485.0   \n",
       "2897     352.250772  960.0 -792.0  ...       196.0       132.0       485.0   \n",
       "2922     321.585858  960.0 -744.0  ...       196.0       132.0       485.0   \n",
       "2947     361.610876  960.0 -892.0  ...       196.0       132.0       485.0   \n",
       "2972     361.704023  696.0 -892.0  ...       196.0       132.0       485.0   \n",
       "\n",
       "         xy_corr_pos1  xz_corr_pos1  yz_corr_pos1  height  mass  is_valid  sex  \n",
       "level_1                                                                         \n",
       "2872        -0.203383      0.750925     -0.452449     185    75         0    1  \n",
       "2897        -0.203383      0.750925     -0.452449     185    75         0    1  \n",
       "2922        -0.203383      0.750925     -0.452449     185    75         0    1  \n",
       "2947        -0.203383      0.750925     -0.452449     185    75         0    1  \n",
       "2972        -0.203383      0.750925     -0.452449     185    75         0    1  \n",
       "\n",
       "[5 rows x 48 columns]"
      ]
     },
     "execution_count": 207,
     "metadata": {},
     "output_type": "execute_result"
    }
   ],
   "source": [
    "data = pd.read_csv('../datasets/added_pos1_metrics_windowed.csv', index_col=[0, 1])\n",
    "data = data.droplevel(0)\n",
    "data = data[data['position'] == 2].drop(['position', 'age'], axis=1)\n",
    "data.head()"
   ]
  },
  {
   "cell_type": "code",
   "execution_count": 208,
   "id": "selected-raising",
   "metadata": {},
   "outputs": [],
   "source": [
    "y = data['is_valid']\n",
    "X = data.drop('is_valid', axis=1)\n",
    "\n",
    "X_train, X_test, y_train, y_test = train_test_split(\n",
    "    X, y, train_size=0.7, random_state=1234\n",
    ")\n",
    "\n",
    "history = defaultdict(list)\n",
    "\n",
    "params_grid = {\n",
    "            'n_estimators': [100, 200, 300, 500],\n",
    "            'max_depth' : np.arange(3, 7),\n",
    "            'learning_rate': np.linspace(0.0125, 0.6, 10)\n",
    "        }"
   ]
  },
  {
   "cell_type": "code",
   "execution_count": 209,
   "id": "excited-intermediate",
   "metadata": {},
   "outputs": [
    {
     "name": "stderr",
     "output_type": "stream",
     "text": [
      "\r",
      "  0%|          | 0/42 [00:00<?, ?it/s]"
     ]
    },
    {
     "name": "stdout",
     "output_type": "stream",
     "text": [
      "0:\tlearn: 0.5796885\ttest: 0.5841210\tbest: 0.5841210 (0)\ttotal: 765us\tremaining: 75.8ms\n",
      "99:\tlearn: 0.0331121\ttest: 0.0480787\tbest: 0.0480787 (99)\ttotal: 57.2ms\tremaining: 0us\n",
      "\n",
      "bestTest = 0.04807873976\n",
      "bestIteration = 99\n",
      "\n"
     ]
    },
    {
     "name": "stderr",
     "output_type": "stream",
     "text": [
      "\r",
      "  2%|▏         | 1/42 [00:44<30:26, 44.54s/it]"
     ]
    },
    {
     "name": "stdout",
     "output_type": "stream",
     "text": [
      "0:\tlearn: 0.5414397\ttest: 0.5366251\tbest: 0.5366251 (0)\ttotal: 2.59ms\tremaining: 516ms\n",
      "100:\tlearn: 0.0130494\ttest: 0.0323160\tbest: 0.0323160 (100)\ttotal: 140ms\tremaining: 137ms\n",
      "199:\tlearn: 0.0067142\ttest: 0.0306193\tbest: 0.0306193 (199)\ttotal: 266ms\tremaining: 0us\n",
      "\n",
      "bestTest = 0.03061929532\n",
      "bestIteration = 199\n",
      "\n"
     ]
    },
    {
     "name": "stderr",
     "output_type": "stream",
     "text": [
      "\r",
      "  5%|▍         | 2/42 [01:35<32:01, 48.05s/it]"
     ]
    },
    {
     "name": "stdout",
     "output_type": "stream",
     "text": [
      "0:\tlearn: 0.5014483\ttest: 0.5008593\tbest: 0.5008593 (0)\ttotal: 1ms\tremaining: 99.4ms\n",
      "99:\tlearn: 0.0172953\ttest: 0.0296858\tbest: 0.0296858 (99)\ttotal: 79.3ms\tremaining: 0us\n",
      "\n",
      "bestTest = 0.0296858241\n",
      "bestIteration = 99\n",
      "\n"
     ]
    },
    {
     "name": "stderr",
     "output_type": "stream",
     "text": [
      "\r",
      "  7%|▋         | 3/42 [02:20<30:30, 46.93s/it]"
     ]
    },
    {
     "name": "stdout",
     "output_type": "stream",
     "text": [
      "0:\tlearn: 0.5599664\ttest: 0.5623729\tbest: 0.5623729 (0)\ttotal: 811us\tremaining: 80.3ms\n",
      "99:\tlearn: 0.0256673\ttest: 0.0351243\tbest: 0.0351243 (99)\ttotal: 60.3ms\tremaining: 0us\n",
      "\n",
      "bestTest = 0.03512425156\n",
      "bestIteration = 99\n",
      "\n"
     ]
    },
    {
     "name": "stderr",
     "output_type": "stream",
     "text": [
      "\r",
      " 10%|▉         | 4/42 [03:07<29:35, 46.72s/it]"
     ]
    },
    {
     "name": "stdout",
     "output_type": "stream",
     "text": [
      "0:\tlearn: 0.4962456\ttest: 0.5028723\tbest: 0.5028723 (0)\ttotal: 776us\tremaining: 76.9ms\n",
      "99:\tlearn: 0.0176808\ttest: 0.0301973\tbest: 0.0301973 (99)\ttotal: 59.2ms\tremaining: 0us\n",
      "\n",
      "bestTest = 0.03019726369\n",
      "bestIteration = 99\n",
      "\n"
     ]
    },
    {
     "name": "stderr",
     "output_type": "stream",
     "text": [
      "\r",
      " 12%|█▏        | 5/42 [03:55<29:12, 47.37s/it]"
     ]
    },
    {
     "name": "stdout",
     "output_type": "stream",
     "text": [
      "0:\tlearn: 0.5442257\ttest: 0.5428686\tbest: 0.5428686 (0)\ttotal: 1.03ms\tremaining: 102ms\n",
      "99:\tlearn: 0.0207642\ttest: 0.0291610\tbest: 0.0291610 (99)\ttotal: 80.1ms\tremaining: 0us\n",
      "\n",
      "bestTest = 0.02916096239\n",
      "bestIteration = 99\n",
      "\n"
     ]
    },
    {
     "name": "stderr",
     "output_type": "stream",
     "text": [
      "\r",
      " 14%|█▍        | 6/42 [04:42<28:22, 47.30s/it]"
     ]
    },
    {
     "name": "stdout",
     "output_type": "stream",
     "text": [
      "0:\tlearn: 0.5542035\ttest: 0.5591891\tbest: 0.5591891 (0)\ttotal: 1.05ms\tremaining: 104ms\n",
      "99:\tlearn: 0.0192965\ttest: 0.0277277\tbest: 0.0277277 (99)\ttotal: 80.7ms\tremaining: 0us\n",
      "\n",
      "bestTest = 0.02772767558\n",
      "bestIteration = 99\n",
      "\n"
     ]
    },
    {
     "name": "stderr",
     "output_type": "stream",
     "text": [
      "\r",
      " 17%|█▋        | 7/42 [05:31<27:52, 47.78s/it]"
     ]
    },
    {
     "name": "stdout",
     "output_type": "stream",
     "text": [
      "0:\tlearn: 0.6129716\ttest: 0.6160060\tbest: 0.6160060 (0)\ttotal: 1.04ms\tremaining: 104ms\n",
      "99:\tlearn: 0.0339924\ttest: 0.0422541\tbest: 0.0422541 (99)\ttotal: 81.1ms\tremaining: 0us\n",
      "\n",
      "bestTest = 0.04225412071\n",
      "bestIteration = 99\n",
      "\n"
     ]
    },
    {
     "name": "stderr",
     "output_type": "stream",
     "text": [
      "\r",
      " 19%|█▉        | 8/42 [06:19<27:11, 47.99s/it]"
     ]
    },
    {
     "name": "stdout",
     "output_type": "stream",
     "text": [
      "0:\tlearn: 0.5701615\ttest: 0.5730421\tbest: 0.5730421 (0)\ttotal: 1.02ms\tremaining: 101ms\n",
      "99:\tlearn: 0.0203409\ttest: 0.0280642\tbest: 0.0280642 (99)\ttotal: 85ms\tremaining: 0us\n",
      "\n",
      "bestTest = 0.02806418726\n",
      "bestIteration = 99\n",
      "\n"
     ]
    },
    {
     "name": "stderr",
     "output_type": "stream",
     "text": [
      "\r",
      " 21%|██▏       | 9/42 [07:09<26:35, 48.35s/it]"
     ]
    },
    {
     "name": "stdout",
     "output_type": "stream",
     "text": [
      "0:\tlearn: 0.4553687\ttest: 0.4549853\tbest: 0.4549853 (0)\ttotal: 941us\tremaining: 93.3ms\n",
      "99:\tlearn: 0.0089510\ttest: 0.0162874\tbest: 0.0162874 (99)\ttotal: 73.3ms\tremaining: 0us\n",
      "\n",
      "bestTest = 0.01628737064\n",
      "bestIteration = 99\n",
      "\n"
     ]
    },
    {
     "name": "stderr",
     "output_type": "stream",
     "text": [
      "\r",
      " 24%|██▍       | 10/42 [08:02<26:38, 49.94s/it]"
     ]
    },
    {
     "name": "stdout",
     "output_type": "stream",
     "text": [
      "0:\tlearn: 0.3384691\ttest: 0.3435772\tbest: 0.3435772 (0)\ttotal: 1.35ms\tremaining: 270ms\n",
      "100:\tlearn: 0.0021287\ttest: 0.0093669\tbest: 0.0093669 (100)\ttotal: 106ms\tremaining: 104ms\n",
      "199:\tlearn: 0.0019102\ttest: 0.0088859\tbest: 0.0088859 (199)\ttotal: 219ms\tremaining: 0us\n",
      "\n",
      "bestTest = 0.008885924879\n",
      "bestIteration = 199\n",
      "\n"
     ]
    },
    {
     "name": "stderr",
     "output_type": "stream",
     "text": [
      "\r",
      " 26%|██▌       | 11/42 [09:02<27:27, 53.14s/it]"
     ]
    },
    {
     "name": "stdout",
     "output_type": "stream",
     "text": [
      "0:\tlearn: 0.4831631\ttest: 0.4849980\tbest: 0.4849980 (0)\ttotal: 1.37ms\tremaining: 135ms\n",
      "99:\tlearn: 0.0089712\ttest: 0.0189864\tbest: 0.0189864 (99)\ttotal: 141ms\tremaining: 0us\n",
      "\n",
      "bestTest = 0.01898635408\n",
      "bestIteration = 99\n",
      "\n"
     ]
    },
    {
     "name": "stderr",
     "output_type": "stream",
     "text": [
      "\r",
      " 29%|██▊       | 12/42 [09:58<26:56, 53.89s/it]"
     ]
    },
    {
     "name": "stdout",
     "output_type": "stream",
     "text": [
      "0:\tlearn: 0.5303013\ttest: 0.5230782\tbest: 0.5230782 (0)\ttotal: 4.17ms\tremaining: 2.08s\n",
      "100:\tlearn: 0.0032635\ttest: 0.0130681\tbest: 0.0130681 (100)\ttotal: 137ms\tremaining: 542ms\n",
      "200:\tlearn: 0.0031024\ttest: 0.0129786\tbest: 0.0129786 (200)\ttotal: 271ms\tremaining: 403ms\n",
      "300:\tlearn: 0.0031024\ttest: 0.0129786\tbest: 0.0129786 (200)\ttotal: 378ms\tremaining: 250ms\n",
      "400:\tlearn: 0.0024452\ttest: 0.0119431\tbest: 0.0119431 (400)\ttotal: 520ms\tremaining: 128ms\n",
      "499:\tlearn: 0.0024150\ttest: 0.0119065\tbest: 0.0119065 (499)\ttotal: 643ms\tremaining: 0us\n",
      "\n",
      "bestTest = 0.01190650664\n",
      "bestIteration = 499\n",
      "\n"
     ]
    },
    {
     "name": "stderr",
     "output_type": "stream",
     "text": [
      "\r",
      " 31%|███       | 13/42 [11:11<28:51, 59.69s/it]"
     ]
    },
    {
     "name": "stdout",
     "output_type": "stream",
     "text": [
      "0:\tlearn: 0.4407644\ttest: 0.4366390\tbest: 0.4366390 (0)\ttotal: 1.58ms\tremaining: 315ms\n",
      "100:\tlearn: 0.0040650\ttest: 0.0105822\tbest: 0.0105822 (100)\ttotal: 137ms\tremaining: 134ms\n",
      "199:\tlearn: 0.0036482\ttest: 0.0104537\tbest: 0.0104537 (199)\ttotal: 271ms\tremaining: 0us\n",
      "\n",
      "bestTest = 0.01045369997\n",
      "bestIteration = 199\n",
      "\n"
     ]
    },
    {
     "name": "stderr",
     "output_type": "stream",
     "text": [
      "\r",
      " 33%|███▎      | 14/42 [12:12<27:57, 59.92s/it]"
     ]
    },
    {
     "name": "stdout",
     "output_type": "stream",
     "text": [
      "0:\tlearn: 0.5177089\ttest: 0.5190693\tbest: 0.5190693 (0)\ttotal: 1.33ms\tremaining: 132ms\n",
      "99:\tlearn: 0.0113412\ttest: 0.0211153\tbest: 0.0211153 (99)\ttotal: 118ms\tremaining: 0us\n",
      "\n",
      "bestTest = 0.02111527599\n",
      "bestIteration = 99\n",
      "\n"
     ]
    },
    {
     "name": "stderr",
     "output_type": "stream",
     "text": [
      "\r",
      " 36%|███▌      | 15/42 [13:09<26:33, 59.02s/it]"
     ]
    },
    {
     "name": "stdout",
     "output_type": "stream",
     "text": [
      "0:\tlearn: 0.3122385\ttest: 0.3211733\tbest: 0.3211733 (0)\ttotal: 1.12ms\tremaining: 561ms\n",
      "100:\tlearn: 0.0027194\ttest: 0.0093237\tbest: 0.0093237 (100)\ttotal: 95.7ms\tremaining: 378ms\n",
      "200:\tlearn: 0.0027129\ttest: 0.0093209\tbest: 0.0093209 (200)\ttotal: 188ms\tremaining: 279ms\n",
      "300:\tlearn: 0.0025718\ttest: 0.0089675\tbest: 0.0089675 (300)\ttotal: 287ms\tremaining: 190ms\n",
      "400:\tlearn: 0.0021368\ttest: 0.0085973\tbest: 0.0085973 (400)\ttotal: 381ms\tremaining: 94.1ms\n",
      "499:\tlearn: 0.0020134\ttest: 0.0089130\tbest: 0.0085973 (400)\ttotal: 473ms\tremaining: 0us\n",
      "\n",
      "bestTest = 0.008597344289\n",
      "bestIteration = 400\n",
      "\n",
      "Shrink model to first 401 iterations.\n"
     ]
    },
    {
     "name": "stderr",
     "output_type": "stream",
     "text": [
      "\r",
      " 38%|███▊      | 16/42 [14:23<27:37, 63.73s/it]"
     ]
    },
    {
     "name": "stdout",
     "output_type": "stream",
     "text": [
      "0:\tlearn: 0.4016961\ttest: 0.4030022\tbest: 0.4030022 (0)\ttotal: 1.12ms\tremaining: 223ms\n",
      "100:\tlearn: 0.0023162\ttest: 0.0171610\tbest: 0.0171610 (100)\ttotal: 89.7ms\tremaining: 87.9ms\n",
      "199:\tlearn: 0.0018296\ttest: 0.0170999\tbest: 0.0170999 (199)\ttotal: 174ms\tremaining: 0us\n",
      "\n",
      "bestTest = 0.0170999119\n",
      "bestIteration = 199\n",
      "\n"
     ]
    },
    {
     "name": "stderr",
     "output_type": "stream",
     "text": [
      "\r",
      " 40%|████      | 17/42 [15:22<25:57, 62.29s/it]"
     ]
    },
    {
     "name": "stdout",
     "output_type": "stream",
     "text": [
      "0:\tlearn: 0.4141891\ttest: 0.4153173\tbest: 0.4153173 (0)\ttotal: 2.63ms\tremaining: 260ms\n",
      "99:\tlearn: 0.0036622\ttest: 0.0135370\tbest: 0.0135370 (99)\ttotal: 128ms\tremaining: 0us\n",
      "\n",
      "bestTest = 0.01353703339\n",
      "bestIteration = 99\n",
      "\n"
     ]
    },
    {
     "name": "stderr",
     "output_type": "stream",
     "text": [
      "\r",
      " 43%|████▎     | 18/42 [16:21<24:31, 61.29s/it]"
     ]
    },
    {
     "name": "stdout",
     "output_type": "stream",
     "text": [
      "0:\tlearn: 0.2751537\ttest: 0.2694217\tbest: 0.2694217 (0)\ttotal: 1.33ms\tremaining: 664ms\n",
      "100:\tlearn: 0.0021469\ttest: 0.0166942\tbest: 0.0166942 (100)\ttotal: 118ms\tremaining: 466ms\n",
      "200:\tlearn: 0.0018117\ttest: 0.0163804\tbest: 0.0163804 (200)\ttotal: 239ms\tremaining: 355ms\n",
      "300:\tlearn: 0.0018117\ttest: 0.0163804\tbest: 0.0163804 (200)\ttotal: 352ms\tremaining: 232ms\n",
      "400:\tlearn: 0.0018117\ttest: 0.0163804\tbest: 0.0163804 (200)\ttotal: 469ms\tremaining: 116ms\n",
      "499:\tlearn: 0.0018117\ttest: 0.0163804\tbest: 0.0163804 (200)\ttotal: 571ms\tremaining: 0us\n",
      "\n",
      "bestTest = 0.01638044317\n",
      "bestIteration = 200\n",
      "\n",
      "Shrink model to first 201 iterations.\n"
     ]
    },
    {
     "name": "stderr",
     "output_type": "stream",
     "text": [
      "\r",
      " 45%|████▌     | 19/42 [17:38<25:14, 65.86s/it]"
     ]
    },
    {
     "name": "stdout",
     "output_type": "stream",
     "text": [
      "0:\tlearn: 0.4788110\ttest: 0.4714927\tbest: 0.4714927 (0)\ttotal: 1.15ms\tremaining: 575ms\n",
      "100:\tlearn: 0.0057434\ttest: 0.0107861\tbest: 0.0107861 (100)\ttotal: 101ms\tremaining: 397ms\n",
      "200:\tlearn: 0.0037121\ttest: 0.0086775\tbest: 0.0086775 (200)\ttotal: 195ms\tremaining: 290ms\n",
      "300:\tlearn: 0.0037121\ttest: 0.0086775\tbest: 0.0086775 (200)\ttotal: 293ms\tremaining: 194ms\n",
      "400:\tlearn: 0.0037121\ttest: 0.0086775\tbest: 0.0086775 (200)\ttotal: 384ms\tremaining: 94.9ms\n",
      "499:\tlearn: 0.0037121\ttest: 0.0086775\tbest: 0.0086775 (200)\ttotal: 474ms\tremaining: 0us\n",
      "\n",
      "bestTest = 0.008677513492\n",
      "bestIteration = 200\n",
      "\n",
      "Shrink model to first 201 iterations.\n"
     ]
    },
    {
     "name": "stderr",
     "output_type": "stream",
     "text": [
      "\r",
      " 48%|████▊     | 20/42 [18:52<25:04, 68.39s/it]"
     ]
    },
    {
     "name": "stdout",
     "output_type": "stream",
     "text": [
      "0:\tlearn: 0.4830498\ttest: 0.4854694\tbest: 0.4854694 (0)\ttotal: 1.62ms\tremaining: 484ms\n",
      "100:\tlearn: 0.0054704\ttest: 0.0128289\tbest: 0.0128289 (100)\ttotal: 168ms\tremaining: 332ms\n",
      "200:\tlearn: 0.0026809\ttest: 0.0103815\tbest: 0.0103815 (200)\ttotal: 290ms\tremaining: 143ms\n",
      "299:\tlearn: 0.0026018\ttest: 0.0103077\tbest: 0.0103077 (299)\ttotal: 405ms\tremaining: 0us\n",
      "\n",
      "bestTest = 0.01030773045\n",
      "bestIteration = 299\n",
      "\n"
     ]
    },
    {
     "name": "stderr",
     "output_type": "stream",
     "text": [
      "\r",
      " 50%|█████     | 21/42 [19:58<23:45, 67.86s/it]"
     ]
    },
    {
     "name": "stdout",
     "output_type": "stream",
     "text": [
      "0:\tlearn: 0.3107875\ttest: 0.3136526\tbest: 0.3136526 (0)\ttotal: 1.16ms\tremaining: 115ms\n",
      "99:\tlearn: 0.0032655\ttest: 0.0178370\tbest: 0.0178370 (99)\ttotal: 92.7ms\tremaining: 0us\n",
      "\n",
      "bestTest = 0.0178370344\n",
      "bestIteration = 99\n",
      "\n"
     ]
    },
    {
     "name": "stderr",
     "output_type": "stream",
     "text": [
      "\r",
      " 52%|█████▏    | 22/42 [20:58<21:44, 65.20s/it]"
     ]
    },
    {
     "name": "stdout",
     "output_type": "stream",
     "text": [
      "0:\tlearn: 0.4571744\ttest: 0.4570669\tbest: 0.4570669 (0)\ttotal: 1.17ms\tremaining: 351ms\n",
      "100:\tlearn: 0.0040666\ttest: 0.0106846\tbest: 0.0106846 (100)\ttotal: 105ms\tremaining: 208ms\n",
      "200:\tlearn: 0.0040383\ttest: 0.0105976\tbest: 0.0105976 (200)\ttotal: 212ms\tremaining: 104ms\n",
      "299:\tlearn: 0.0039716\ttest: 0.0105224\tbest: 0.0105224 (299)\ttotal: 311ms\tremaining: 0us\n",
      "\n",
      "bestTest = 0.01052237036\n",
      "bestIteration = 299\n",
      "\n"
     ]
    },
    {
     "name": "stderr",
     "output_type": "stream",
     "text": [
      "\r",
      " 55%|█████▍    | 23/42 [22:05<20:53, 65.97s/it]"
     ]
    },
    {
     "name": "stdout",
     "output_type": "stream",
     "text": [
      "0:\tlearn: 0.3482396\ttest: 0.3499053\tbest: 0.3499053 (0)\ttotal: 1.4ms\tremaining: 138ms\n",
      "99:\tlearn: 0.0021001\ttest: 0.0099174\tbest: 0.0099174 (99)\ttotal: 115ms\tremaining: 0us\n",
      "\n",
      "bestTest = 0.009917368195\n",
      "bestIteration = 99\n",
      "\n"
     ]
    },
    {
     "name": "stderr",
     "output_type": "stream",
     "text": [
      "\r",
      " 57%|█████▋    | 24/42 [23:05<19:15, 64.19s/it]"
     ]
    },
    {
     "name": "stdout",
     "output_type": "stream",
     "text": [
      "0:\tlearn: 0.4034418\ttest: 0.3969250\tbest: 0.3969250 (0)\ttotal: 1.42ms\tremaining: 708ms\n",
      "100:\tlearn: 0.0017435\ttest: 0.0090355\tbest: 0.0090355 (100)\ttotal: 119ms\tremaining: 471ms\n",
      "200:\tlearn: 0.0016865\ttest: 0.0090468\tbest: 0.0090355 (100)\ttotal: 240ms\tremaining: 357ms\n",
      "300:\tlearn: 0.0016643\ttest: 0.0090134\tbest: 0.0090134 (300)\ttotal: 354ms\tremaining: 234ms\n",
      "400:\tlearn: 0.0015927\ttest: 0.0091443\tbest: 0.0090134 (300)\ttotal: 474ms\tremaining: 117ms\n",
      "499:\tlearn: 0.0015872\ttest: 0.0091438\tbest: 0.0090134 (300)\ttotal: 587ms\tremaining: 0us\n",
      "\n",
      "bestTest = 0.009013378858\n",
      "bestIteration = 300\n",
      "\n",
      "Shrink model to first 301 iterations.\n"
     ]
    },
    {
     "name": "stderr",
     "output_type": "stream",
     "text": [
      "\r",
      " 60%|█████▉    | 25/42 [24:26<19:34, 69.12s/it]"
     ]
    },
    {
     "name": "stdout",
     "output_type": "stream",
     "text": [
      "0:\tlearn: 0.3661691\ttest: 0.3622398\tbest: 0.3622398 (0)\ttotal: 1.38ms\tremaining: 690ms\n",
      "100:\tlearn: 0.0023794\ttest: 0.0097162\tbest: 0.0097162 (100)\ttotal: 117ms\tremaining: 464ms\n",
      "200:\tlearn: 0.0023771\ttest: 0.0097168\tbest: 0.0097162 (100)\ttotal: 234ms\tremaining: 348ms\n",
      "300:\tlearn: 0.0023771\ttest: 0.0097168\tbest: 0.0097162 (100)\ttotal: 346ms\tremaining: 228ms\n",
      "400:\tlearn: 0.0023771\ttest: 0.0097168\tbest: 0.0097162 (100)\ttotal: 462ms\tremaining: 114ms\n",
      "499:\tlearn: 0.0023771\ttest: 0.0097168\tbest: 0.0097162 (100)\ttotal: 576ms\tremaining: 0us\n",
      "\n",
      "bestTest = 0.009716230488\n",
      "bestIteration = 100\n",
      "\n",
      "Shrink model to first 101 iterations.\n"
     ]
    },
    {
     "name": "stderr",
     "output_type": "stream",
     "text": [
      "\r",
      " 62%|██████▏   | 26/42 [25:45<19:14, 72.15s/it]"
     ]
    },
    {
     "name": "stdout",
     "output_type": "stream",
     "text": [
      "0:\tlearn: 0.3996606\ttest: 0.4022253\tbest: 0.4022253 (0)\ttotal: 1.25ms\tremaining: 373ms\n",
      "100:\tlearn: 0.0026916\ttest: 0.0120931\tbest: 0.0120931 (100)\ttotal: 113ms\tremaining: 222ms\n",
      "200:\tlearn: 0.0020564\ttest: 0.0111285\tbest: 0.0111285 (200)\ttotal: 225ms\tremaining: 111ms\n",
      "299:\tlearn: 0.0019994\ttest: 0.0111555\tbest: 0.0111285 (200)\ttotal: 320ms\tremaining: 0us\n",
      "\n",
      "bestTest = 0.01112851295\n",
      "bestIteration = 200\n",
      "\n",
      "Shrink model to first 201 iterations.\n"
     ]
    },
    {
     "name": "stderr",
     "output_type": "stream",
     "text": [
      "\r",
      " 64%|██████▍   | 27/42 [26:56<17:55, 71.70s/it]"
     ]
    },
    {
     "name": "stdout",
     "output_type": "stream",
     "text": [
      "0:\tlearn: 0.3474379\ttest: 0.3600984\tbest: 0.3600984 (0)\ttotal: 1.51ms\tremaining: 452ms\n",
      "100:\tlearn: 0.0016388\ttest: 0.0125388\tbest: 0.0125388 (100)\ttotal: 128ms\tremaining: 253ms\n",
      "200:\tlearn: 0.0016282\ttest: 0.0125557\tbest: 0.0125388 (100)\ttotal: 258ms\tremaining: 127ms\n",
      "299:\tlearn: 0.0016229\ttest: 0.0125630\tbest: 0.0125388 (100)\ttotal: 383ms\tremaining: 0us\n",
      "\n",
      "bestTest = 0.01253879448\n",
      "bestIteration = 100\n",
      "\n",
      "Shrink model to first 101 iterations.\n"
     ]
    },
    {
     "name": "stderr",
     "output_type": "stream",
     "text": [
      "\r",
      " 67%|██████▋   | 28/42 [28:11<17:00, 72.89s/it]"
     ]
    },
    {
     "name": "stdout",
     "output_type": "stream",
     "text": [
      "0:\tlearn: 0.3737628\ttest: 0.3831472\tbest: 0.3831472 (0)\ttotal: 2.97ms\tremaining: 294ms\n",
      "99:\tlearn: 0.0020169\ttest: 0.0124468\tbest: 0.0124468 (99)\ttotal: 139ms\tremaining: 0us\n",
      "\n",
      "bestTest = 0.01244680724\n",
      "bestIteration = 99\n",
      "\n"
     ]
    },
    {
     "name": "stderr",
     "output_type": "stream",
     "text": [
      "\r",
      " 69%|██████▉   | 29/42 [29:18<15:22, 70.95s/it]"
     ]
    },
    {
     "name": "stdout",
     "output_type": "stream",
     "text": [
      "0:\tlearn: 0.4790079\ttest: 0.4913063\tbest: 0.4913063 (0)\ttotal: 1.44ms\tremaining: 716ms\n",
      "100:\tlearn: 0.0035655\ttest: 0.0121777\tbest: 0.0121777 (100)\ttotal: 89.8ms\tremaining: 355ms\n",
      "200:\tlearn: 0.0025246\ttest: 0.0117894\tbest: 0.0117894 (200)\ttotal: 171ms\tremaining: 254ms\n",
      "300:\tlearn: 0.0024483\ttest: 0.0116509\tbest: 0.0116509 (300)\ttotal: 260ms\tremaining: 172ms\n",
      "400:\tlearn: 0.0023082\ttest: 0.0115115\tbest: 0.0115115 (400)\ttotal: 341ms\tremaining: 84.2ms\n",
      "499:\tlearn: 0.0023017\ttest: 0.0114826\tbest: 0.0114826 (499)\ttotal: 423ms\tremaining: 0us\n",
      "\n",
      "bestTest = 0.01148260162\n",
      "bestIteration = 499\n",
      "\n"
     ]
    },
    {
     "name": "stderr",
     "output_type": "stream",
     "text": [
      "\r",
      " 71%|███████▏  | 30/42 [30:42<14:58, 74.91s/it]"
     ]
    },
    {
     "name": "stdout",
     "output_type": "stream",
     "text": [
      "0:\tlearn: 0.3969889\ttest: 0.4061666\tbest: 0.4061666 (0)\ttotal: 1.44ms\tremaining: 142ms\n",
      "99:\tlearn: 0.0019455\ttest: 0.0083737\tbest: 0.0083737 (99)\ttotal: 106ms\tremaining: 0us\n",
      "\n",
      "bestTest = 0.008373689553\n",
      "bestIteration = 99\n",
      "\n"
     ]
    },
    {
     "name": "stderr",
     "output_type": "stream",
     "text": [
      "\r",
      " 74%|███████▍  | 31/42 [31:48<13:15, 72.34s/it]"
     ]
    },
    {
     "name": "stdout",
     "output_type": "stream",
     "text": [
      "0:\tlearn: 0.4285675\ttest: 0.4353667\tbest: 0.4353667 (0)\ttotal: 1.11ms\tremaining: 110ms\n",
      "99:\tlearn: 0.0043239\ttest: 0.0135527\tbest: 0.0135527 (99)\ttotal: 96.1ms\tremaining: 0us\n",
      "\n",
      "bestTest = 0.01355268961\n",
      "bestIteration = 99\n",
      "\n"
     ]
    },
    {
     "name": "stderr",
     "output_type": "stream",
     "text": [
      "\r",
      " 76%|███████▌  | 32/42 [32:58<11:56, 71.60s/it]"
     ]
    },
    {
     "name": "stdout",
     "output_type": "stream",
     "text": [
      "0:\tlearn: 0.4734865\ttest: 0.4735629\tbest: 0.4735629 (0)\ttotal: 1.31ms\tremaining: 655ms\n",
      "100:\tlearn: 0.0043532\ttest: 0.0094458\tbest: 0.0094458 (100)\ttotal: 111ms\tremaining: 438ms\n",
      "200:\tlearn: 0.0043511\ttest: 0.0094461\tbest: 0.0094458 (100)\ttotal: 222ms\tremaining: 330ms\n",
      "300:\tlearn: 0.0043511\ttest: 0.0094461\tbest: 0.0094458 (100)\ttotal: 323ms\tremaining: 214ms\n",
      "400:\tlearn: 0.0043511\ttest: 0.0094461\tbest: 0.0094458 (100)\ttotal: 427ms\tremaining: 105ms\n",
      "499:\tlearn: 0.0043511\ttest: 0.0094461\tbest: 0.0094458 (100)\ttotal: 530ms\tremaining: 0us\n",
      "\n",
      "bestTest = 0.00944582661\n",
      "bestIteration = 100\n",
      "\n",
      "Shrink model to first 101 iterations.\n"
     ]
    },
    {
     "name": "stderr",
     "output_type": "stream",
     "text": [
      "\r",
      " 79%|███████▊  | 33/42 [34:26<11:28, 76.50s/it]"
     ]
    },
    {
     "name": "stdout",
     "output_type": "stream",
     "text": [
      "0:\tlearn: 0.3339768\ttest: 0.3291839\tbest: 0.3291839 (0)\ttotal: 1.57ms\tremaining: 156ms\n",
      "99:\tlearn: 0.0021272\ttest: 0.0079287\tbest: 0.0079287 (99)\ttotal: 137ms\tremaining: 0us\n",
      "\n",
      "bestTest = 0.007928658565\n",
      "bestIteration = 99\n",
      "\n"
     ]
    },
    {
     "name": "stderr",
     "output_type": "stream",
     "text": [
      "\r",
      " 81%|████████  | 34/42 [35:36<09:56, 74.60s/it]"
     ]
    },
    {
     "name": "stdout",
     "output_type": "stream",
     "text": [
      "0:\tlearn: 0.3259574\ttest: 0.3339996\tbest: 0.3339996 (0)\ttotal: 1.62ms\tremaining: 808ms\n",
      "100:\tlearn: 0.0018857\ttest: 0.0118388\tbest: 0.0118388 (100)\ttotal: 139ms\tremaining: 549ms\n",
      "200:\tlearn: 0.0018448\ttest: 0.0118930\tbest: 0.0118388 (100)\ttotal: 287ms\tremaining: 427ms\n",
      "300:\tlearn: 0.0018371\ttest: 0.0118905\tbest: 0.0118388 (100)\ttotal: 430ms\tremaining: 284ms\n",
      "400:\tlearn: 0.0018301\ttest: 0.0118983\tbest: 0.0118388 (100)\ttotal: 581ms\tremaining: 143ms\n",
      "499:\tlearn: 0.0016792\ttest: 0.0111203\tbest: 0.0111203 (499)\ttotal: 722ms\tremaining: 0us\n",
      "\n",
      "bestTest = 0.01112030441\n",
      "bestIteration = 499\n",
      "\n"
     ]
    },
    {
     "name": "stderr",
     "output_type": "stream",
     "text": [
      "\r",
      " 83%|████████▎ | 35/42 [37:09<09:20, 80.02s/it]"
     ]
    },
    {
     "name": "stdout",
     "output_type": "stream",
     "text": [
      "0:\tlearn: 0.3515454\ttest: 0.3464868\tbest: 0.3464868 (0)\ttotal: 3.89ms\tremaining: 1.94s\n",
      "100:\tlearn: 0.0021957\ttest: 0.0152804\tbest: 0.0152804 (100)\ttotal: 189ms\tremaining: 745ms\n",
      "200:\tlearn: 0.0021136\ttest: 0.0154410\tbest: 0.0152804 (100)\ttotal: 330ms\tremaining: 491ms\n",
      "300:\tlearn: 0.0021068\ttest: 0.0154493\tbest: 0.0152804 (100)\ttotal: 468ms\tremaining: 309ms\n",
      "400:\tlearn: 0.0020897\ttest: 0.0154345\tbest: 0.0152804 (100)\ttotal: 616ms\tremaining: 152ms\n",
      "499:\tlearn: 0.0019412\ttest: 0.0160548\tbest: 0.0152804 (100)\ttotal: 765ms\tremaining: 0us\n",
      "\n",
      "bestTest = 0.01528040584\n",
      "bestIteration = 100\n",
      "\n",
      "Shrink model to first 101 iterations.\n"
     ]
    },
    {
     "name": "stderr",
     "output_type": "stream",
     "text": [
      "\r",
      " 86%|████████▌ | 36/42 [38:41<08:20, 83.47s/it]"
     ]
    },
    {
     "name": "stdout",
     "output_type": "stream",
     "text": [
      "0:\tlearn: 0.3504847\ttest: 0.3599844\tbest: 0.3599844 (0)\ttotal: 1.59ms\tremaining: 158ms\n",
      "99:\tlearn: 0.0018816\ttest: 0.0106488\tbest: 0.0106488 (99)\ttotal: 144ms\tremaining: 0us\n",
      "\n",
      "bestTest = 0.0106487797\n",
      "bestIteration = 99\n",
      "\n"
     ]
    },
    {
     "name": "stderr",
     "output_type": "stream",
     "text": [
      "\r",
      " 88%|████████▊ | 37/42 [39:52<06:39, 79.86s/it]"
     ]
    },
    {
     "name": "stdout",
     "output_type": "stream",
     "text": [
      "0:\tlearn: 0.4672999\ttest: 0.4689524\tbest: 0.4689524 (0)\ttotal: 4.57ms\tremaining: 909ms\n",
      "100:\tlearn: 0.0035072\ttest: 0.0127036\tbest: 0.0127036 (100)\ttotal: 173ms\tremaining: 169ms\n",
      "199:\tlearn: 0.0028543\ttest: 0.0117809\tbest: 0.0117809 (199)\ttotal: 287ms\tremaining: 0us\n",
      "\n",
      "bestTest = 0.01178087755\n",
      "bestIteration = 199\n",
      "\n"
     ]
    },
    {
     "name": "stderr",
     "output_type": "stream",
     "text": [
      "\r",
      " 90%|█████████ | 38/42 [41:07<05:14, 78.56s/it]"
     ]
    },
    {
     "name": "stdout",
     "output_type": "stream",
     "text": [
      "0:\tlearn: 0.3463608\ttest: 0.3482738\tbest: 0.3482738 (0)\ttotal: 1.32ms\tremaining: 130ms\n",
      "99:\tlearn: 0.0020632\ttest: 0.0152130\tbest: 0.0152130 (99)\ttotal: 112ms\tremaining: 0us\n",
      "\n",
      "bestTest = 0.01521296451\n",
      "bestIteration = 99\n",
      "\n"
     ]
    },
    {
     "name": "stderr",
     "output_type": "stream",
     "text": [
      "\r",
      " 93%|█████████▎| 39/42 [42:21<03:50, 76.96s/it]"
     ]
    },
    {
     "name": "stdout",
     "output_type": "stream",
     "text": [
      "0:\tlearn: 0.3207794\ttest: 0.3314152\tbest: 0.3314152 (0)\ttotal: 3.18ms\tremaining: 314ms\n",
      "99:\tlearn: 0.0025169\ttest: 0.0132661\tbest: 0.0132661 (99)\ttotal: 177ms\tremaining: 0us\n",
      "\n",
      "bestTest = 0.01326607661\n",
      "bestIteration = 99\n",
      "\n"
     ]
    },
    {
     "name": "stderr",
     "output_type": "stream",
     "text": [
      "\r",
      " 95%|█████████▌| 40/42 [43:33<02:31, 75.53s/it]"
     ]
    },
    {
     "name": "stdout",
     "output_type": "stream",
     "text": [
      "0:\tlearn: 0.4915977\ttest: 0.4927673\tbest: 0.4927673 (0)\ttotal: 1.33ms\tremaining: 132ms\n",
      "99:\tlearn: 0.0037150\ttest: 0.0117714\tbest: 0.0117714 (99)\ttotal: 115ms\tremaining: 0us\n",
      "\n",
      "bestTest = 0.01177138066\n",
      "bestIteration = 99\n",
      "\n"
     ]
    },
    {
     "name": "stderr",
     "output_type": "stream",
     "text": [
      "\r",
      " 98%|█████████▊| 41/42 [44:46<01:14, 74.86s/it]"
     ]
    },
    {
     "name": "stdout",
     "output_type": "stream",
     "text": [
      "0:\tlearn: 0.4287816\ttest: 0.4314448\tbest: 0.4314448 (0)\ttotal: 1.22ms\tremaining: 120ms\n",
      "99:\tlearn: 0.0026602\ttest: 0.0161819\tbest: 0.0161819 (99)\ttotal: 91.2ms\tremaining: 0us\n",
      "\n",
      "bestTest = 0.01618188317\n",
      "bestIteration = 99\n",
      "\n"
     ]
    },
    {
     "name": "stderr",
     "output_type": "stream",
     "text": [
      "100%|██████████| 42/42 [46:00<00:00, 65.71s/it]\n"
     ]
    }
   ],
   "source": [
    "for i in tqdm(range(5, len(sorted_metrics))):\n",
    "    metrics = sorted_metrics[:i]\n",
    "    \n",
    "    model = getBestModelCB(X_train[metrics], X_test[metrics], y_train, y_test,\n",
    "                        params_grid=params_grid)\n",
    "    \n",
    "    time_predict = min(timeit.Timer('model.predict(X_test)', globals=globals()).repeat(repeat=10, number=100))\n",
    "    history['time_predict'].append(time_predict)\n",
    "    \n",
    "    y_pred = model.predict(X_test)\n",
    "    accuracy = accuracy_score(y_test, y_pred)\n",
    "    history['accuracy'].append(accuracy)"
   ]
  },
  {
   "cell_type": "code",
   "execution_count": 210,
   "id": "medieval-pitch",
   "metadata": {},
   "outputs": [
    {
     "data": {
      "image/png": "[encoded data removed]",
      "text/plain": [
       "<Figure size 1152x720 with 1 Axes>"
      ]
     },
     "metadata": {},
     "output_type": "display_data"
    },
    {
     "data": {
      "image/png": "[encoded data removed]",
      "text/plain": [
       "<Figure size 1152x720 with 1 Axes>"
      ]
     },
     "metadata": {},
     "output_type": "display_data"
    }
   ],
   "source": [
    "plot_acc_and_time(history, sorted_metrics)"
   ]
  },
  {
   "cell_type": "code",
   "execution_count": 211,
   "id": "continuous-gauge",
   "metadata": {},
   "outputs": [],
   "source": [
    "# сохранение истории\n",
    "with open('history_valid_2.json', 'w') as fp:\n",
    "    json.dump(history, fp)"
   ]
  },
  {
   "cell_type": "markdown",
   "id": "careful-height",
   "metadata": {},
   "source": [
    "### Исследование влияние размера окна\n",
    "Взьмем минимальное число метрик  - 5, чтобы не было везде лучшей точности"
   ]
  },
  {
   "cell_type": "code",
   "execution_count": 212,
   "id": "framed-disaster",
   "metadata": {},
   "outputs": [],
   "source": [
    "window_sizes = [50, 100, 150, 200]"
   ]
  },
  {
   "cell_type": "code",
   "execution_count": 213,
   "id": "prospective-district",
   "metadata": {},
   "outputs": [],
   "source": [
    "history = defaultdict(list)"
   ]
  },
  {
   "cell_type": "code",
   "execution_count": 215,
   "id": "exceptional-hawaii",
   "metadata": {
    "scrolled": false
   },
   "outputs": [
    {
     "name": "stderr",
     "output_type": "stream",
     "text": [
      "\r",
      "  0%|          | 0/4 [00:00<?, ?it/s]"
     ]
    },
    {
     "name": "stdout",
     "output_type": "stream",
     "text": [
      "0:\tlearn: 0.5796885\ttest: 0.5841210\tbest: 0.5841210 (0)\ttotal: 1.99ms\tremaining: 197ms\n",
      "99:\tlearn: 0.0331121\ttest: 0.0480787\tbest: 0.0480787 (99)\ttotal: 85.9ms\tremaining: 0us\n",
      "\n",
      "bestTest = 0.04807873976\n",
      "bestIteration = 99\n",
      "\n"
     ]
    },
    {
     "name": "stderr",
     "output_type": "stream",
     "text": [
      "\r",
      " 25%|██▌       | 1/4 [01:02<03:08, 62.73s/it]"
     ]
    },
    {
     "name": "stdout",
     "output_type": "stream",
     "text": [
      "0:\tlearn: 0.5796885\ttest: 0.5841210\tbest: 0.5841210 (0)\ttotal: 866us\tremaining: 85.8ms\n",
      "99:\tlearn: 0.0331121\ttest: 0.0480787\tbest: 0.0480787 (99)\ttotal: 165ms\tremaining: 0us\n",
      "\n",
      "bestTest = 0.04807873976\n",
      "bestIteration = 99\n",
      "\n"
     ]
    },
    {
     "name": "stderr",
     "output_type": "stream",
     "text": [
      "\r",
      " 50%|█████     | 2/4 [02:25<02:28, 74.41s/it]"
     ]
    },
    {
     "name": "stdout",
     "output_type": "stream",
     "text": [
      "0:\tlearn: 0.5796885\ttest: 0.5841210\tbest: 0.5841210 (0)\ttotal: 1.47ms\tremaining: 145ms\n",
      "99:\tlearn: 0.0331121\ttest: 0.0480787\tbest: 0.0480787 (99)\ttotal: 154ms\tremaining: 0us\n",
      "\n",
      "bestTest = 0.04807873976\n",
      "bestIteration = 99\n",
      "\n"
     ]
    },
    {
     "name": "stderr",
     "output_type": "stream",
     "text": [
      "\r",
      " 75%|███████▌  | 3/4 [03:51<01:19, 79.75s/it]"
     ]
    },
    {
     "name": "stdout",
     "output_type": "stream",
     "text": [
      "0:\tlearn: 0.5796885\ttest: 0.5841210\tbest: 0.5841210 (0)\ttotal: 815us\tremaining: 80.7ms\n",
      "99:\tlearn: 0.0331121\ttest: 0.0480787\tbest: 0.0480787 (99)\ttotal: 160ms\tremaining: 0us\n",
      "\n",
      "bestTest = 0.04807873976\n",
      "bestIteration = 99\n",
      "\n"
     ]
    },
    {
     "name": "stderr",
     "output_type": "stream",
     "text": [
      "100%|██████████| 4/4 [05:19<00:00, 79.76s/it]\n"
     ]
    }
   ],
   "source": [
    "for window_size in tqdm(window_sizes):\n",
    "    load_path = '../datasets/added_pos1_metrics_windowed_' + str(window_size) + '.csv'\n",
    "    data = pd.read_csv(load_path, index_col=[0, 1])\n",
    "    data = data.droplevel(0)\n",
    "    data = data[data['position'] == 3].drop(['position', 'age'], axis=1)\n",
    "    \n",
    "    y = data['is_valid']\n",
    "    X = data.drop('is_valid', axis=1)\n",
    "    \n",
    "    metrics = sorted_metrics[:5]\n",
    "    \n",
    "    model = getBestModelCB(X_train[metrics], X_test[metrics], y_train, y_test,\n",
    "                        params_grid=params_grid)\n",
    "    \n",
    "    time_predict = min(timeit.Timer('model.predict(X_test)', globals=globals()).repeat(repeat=10, number=100))\n",
    "    history['time_predict'].append(time_predict)\n",
    "    y_pred = model.predict(X_test)\n",
    "    accuracy = accuracy_score(y_test, y_pred)\n",
    "    history['accuracy'].append(accuracy)"
   ]
  },
  {
   "cell_type": "code",
   "execution_count": null,
   "id": "enormous-picking",
   "metadata": {},
   "outputs": [],
   "source": [
    "# сохранение истории\n",
    "with open('history_window.json', 'w') as fp:\n",
    "    json.dump(history, fp)"
   ]
  }
 ],
 "metadata": {
  "kernelspec": {
   "display_name": "Python 3",
   "language": "python",
   "name": "python3"
  },
  "language_info": {
   "codemirror_mode": {
    "name": "ipython",
    "version": 3
   },
   "file_extension": ".py",
   "mimetype": "text/x-python",
   "name": "python",
   "nbconvert_exporter": "python",
   "pygments_lexer": "ipython3",
   "version": "3.7.4"
  },
  "widgets": {
   "application/vnd.jupyter.widget-state+json": {
    "state": {},
    "version_major": 2,
    "version_minor": 0
   }
  }
 },
 "nbformat": 4,
 "nbformat_minor": 5
}
