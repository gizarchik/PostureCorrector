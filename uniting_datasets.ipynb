{
 "cells": [
  {
   "cell_type": "code",
   "execution_count": 1,
   "id": "circular-influence",
   "metadata": {},
   "outputs": [],
   "source": [
    "import sys\n",
    "sys.path.append('../')\n",
    "sys.path.append('./')"
   ]
  },
  {
   "cell_type": "code",
   "execution_count": 3,
   "id": "ranging-conflict",
   "metadata": {},
   "outputs": [],
   "source": [
    "import pandas as pd\n",
    "import numpy as np\n",
    "import seaborn as sns\n",
    "import matplotlib.pyplot as plt\n",
    "\n",
    "from src.data.uniting import unite_datasets\n",
    "\n",
    "from src.config import ROW_DATA_PATH, ROW_PERSON_PATH\n",
    "\n",
    "%matplotlib inline\n",
    "sns.set(style='darkgrid', font_scale=1.5)"
   ]
  },
  {
   "cell_type": "code",
   "execution_count": 5,
   "id": "consistent-maintenance",
   "metadata": {},
   "outputs": [],
   "source": [
    "data_path = ROW_DATA_PATH\n",
    "person_path = ROW_PERSON_PATH"
   ]
  },
  {
   "cell_type": "markdown",
   "id": "japanese-header",
   "metadata": {},
   "source": [
    "### 05.10.21"
   ]
  },
  {
   "cell_type": "code",
   "execution_count": 38,
   "id": "frank-sport",
   "metadata": {},
   "outputs": [],
   "source": [
    "new_data_path = 'datasets/data_05_10_21_data_table.csv'\n",
    "new_person_path = 'datasets/data_05_10_21_person_table - data_05_10_21_person_table.csv'"
   ]
  },
  {
   "cell_type": "code",
   "execution_count": 12,
   "id": "subjective-sensitivity",
   "metadata": {},
   "outputs": [],
   "source": [
    "new_data = pd.read_csv(new_data_path, index_col=0)\n",
    "new_person = pd.read_csv(new_person_path, index_col='_id')"
   ]
  },
  {
   "cell_type": "code",
   "execution_count": 3,
   "id": "retired-optics",
   "metadata": {},
   "outputs": [],
   "source": [
    "data_path = 'data.csv'\n",
    "person_path = 'person.csv'"
   ]
  },
  {
   "cell_type": "code",
   "execution_count": 5,
   "id": "quick-subject",
   "metadata": {},
   "outputs": [],
   "source": [
    "data = pd.read_csv(data_path, index_col=0)\n",
    "person = pd.read_csv(person_path, index_col='_id')"
   ]
  },
  {
   "cell_type": "code",
   "execution_count": 123,
   "id": "imperial-jonathan",
   "metadata": {},
   "outputs": [],
   "source": [
    "last_index = data.iloc[-1].name\n",
    "last_id = person.iloc[-1].name"
   ]
  },
  {
   "cell_type": "code",
   "execution_count": 132,
   "id": "legendary-tobacco",
   "metadata": {},
   "outputs": [],
   "source": [
    "new_data.index += last_index\n",
    "new_data['_id'] += last_id\n",
    "new_person.index += last_id"
   ]
  },
  {
   "cell_type": "code",
   "execution_count": 135,
   "id": "determined-honolulu",
   "metadata": {},
   "outputs": [],
   "source": [
    "data = pd.concat([data, new_data])\n",
    "person = pd.concat([person, new_person])"
   ]
  },
  {
   "cell_type": "code",
   "execution_count": 46,
   "id": "descending-watch",
   "metadata": {},
   "outputs": [],
   "source": [
    "data.to_csv(data_path)\n",
    "person.to_csv(person_path)"
   ]
  },
  {
   "cell_type": "markdown",
   "id": "proper-escape",
   "metadata": {},
   "source": [
    "### 15.11.21"
   ]
  },
  {
   "cell_type": "code",
   "execution_count": 10,
   "id": "south-pursuit",
   "metadata": {},
   "outputs": [],
   "source": [
    "new_data_path = 'datasets/data_15_11_21_data_table.csv'\n",
    "new_person_path = 'datasets/data_15_11_21_person_table.csv'"
   ]
  },
  {
   "cell_type": "code",
   "execution_count": 14,
   "id": "behind-magnet",
   "metadata": {},
   "outputs": [],
   "source": [
    "unite_datasets(data_path, person_path, new_data_path, new_person_path)"
   ]
  },
  {
   "cell_type": "markdown",
   "id": "defensive-mirror",
   "metadata": {},
   "source": [
    "### 23.11.21"
   ]
  },
  {
   "cell_type": "code",
   "execution_count": 19,
   "id": "subject-patrol",
   "metadata": {},
   "outputs": [],
   "source": [
    "new_data_path = 'datasets/data_23_11_21_data_table.csv'\n",
    "new_person_path = 'datasets/data_23_11_21_person_table.csv'"
   ]
  },
  {
   "cell_type": "code",
   "execution_count": 20,
   "id": "racial-asian",
   "metadata": {},
   "outputs": [],
   "source": [
    "unite_datasets(data_path, person_path, new_data_path, new_person_path)"
   ]
  },
  {
   "cell_type": "markdown",
   "id": "relevant-certificate",
   "metadata": {},
   "source": [
    "### 28.11.21"
   ]
  },
  {
   "cell_type": "code",
   "execution_count": 21,
   "id": "sound-storm",
   "metadata": {},
   "outputs": [],
   "source": [
    "new_data_path = 'datasets/data_28_11_21_data_table.csv'\n",
    "new_person_path = 'datasets/data_28_11_21_person_table.csv'"
   ]
  },
  {
   "cell_type": "code",
   "execution_count": 22,
   "id": "canadian-command",
   "metadata": {},
   "outputs": [],
   "source": [
    "unite_datasets(data_path, person_path, new_data_path, new_person_path)"
   ]
  },
  {
   "cell_type": "markdown",
   "id": "ordinary-reality",
   "metadata": {},
   "source": [
    "### Исправление бага с излишними повторными записями в data"
   ]
  },
  {
   "cell_type": "code",
   "execution_count": 43,
   "id": "champion-charlotte",
   "metadata": {},
   "outputs": [],
   "source": [
    "data = pd.read_csv(data_path, index_col=0)\n",
    "person = pd.read_csv(person_path, index_col='_id')"
   ]
  },
  {
   "cell_type": "code",
   "execution_count": 44,
   "id": "enormous-modification",
   "metadata": {},
   "outputs": [],
   "source": [
    "data = data[np.in1d(data['_id'], person.index)].reset_index(drop=True)"
   ]
  },
  {
   "cell_type": "code",
   "execution_count": 45,
   "id": "continuous-processing",
   "metadata": {},
   "outputs": [
    {
     "data": {
      "text/html": [
       "<div>\n",
       "<style scoped>\n",
       "    .dataframe tbody tr th:only-of-type {\n",
       "        vertical-align: middle;\n",
       "    }\n",
       "\n",
       "    .dataframe tbody tr th {\n",
       "        vertical-align: top;\n",
       "    }\n",
       "\n",
       "    .dataframe thead th {\n",
       "        text-align: right;\n",
       "    }\n",
       "</style>\n",
       "<table border=\"1\" class=\"dataframe\">\n",
       "  <thead>\n",
       "    <tr style=\"text-align: right;\">\n",
       "      <th></th>\n",
       "      <th>_id</th>\n",
       "      <th>x</th>\n",
       "      <th>y</th>\n",
       "      <th>z</th>\n",
       "    </tr>\n",
       "  </thead>\n",
       "  <tbody>\n",
       "    <tr>\n",
       "      <th>0</th>\n",
       "      <td>1</td>\n",
       "      <td>13916</td>\n",
       "      <td>-1172</td>\n",
       "      <td>-8424</td>\n",
       "    </tr>\n",
       "    <tr>\n",
       "      <th>1</th>\n",
       "      <td>1</td>\n",
       "      <td>13816</td>\n",
       "      <td>-1156</td>\n",
       "      <td>-8304</td>\n",
       "    </tr>\n",
       "    <tr>\n",
       "      <th>2</th>\n",
       "      <td>1</td>\n",
       "      <td>14188</td>\n",
       "      <td>-1256</td>\n",
       "      <td>-8012</td>\n",
       "    </tr>\n",
       "    <tr>\n",
       "      <th>3</th>\n",
       "      <td>1</td>\n",
       "      <td>14128</td>\n",
       "      <td>-1360</td>\n",
       "      <td>-8100</td>\n",
       "    </tr>\n",
       "    <tr>\n",
       "      <th>4</th>\n",
       "      <td>1</td>\n",
       "      <td>14228</td>\n",
       "      <td>-832</td>\n",
       "      <td>-7976</td>\n",
       "    </tr>\n",
       "    <tr>\n",
       "      <th>...</th>\n",
       "      <td>...</td>\n",
       "      <td>...</td>\n",
       "      <td>...</td>\n",
       "      <td>...</td>\n",
       "    </tr>\n",
       "    <tr>\n",
       "      <th>248660</th>\n",
       "      <td>311</td>\n",
       "      <td>12104</td>\n",
       "      <td>-660</td>\n",
       "      <td>-5384</td>\n",
       "    </tr>\n",
       "    <tr>\n",
       "      <th>248661</th>\n",
       "      <td>311</td>\n",
       "      <td>12612</td>\n",
       "      <td>-400</td>\n",
       "      <td>-4408</td>\n",
       "    </tr>\n",
       "    <tr>\n",
       "      <th>248662</th>\n",
       "      <td>311</td>\n",
       "      <td>12368</td>\n",
       "      <td>-384</td>\n",
       "      <td>-3992</td>\n",
       "    </tr>\n",
       "    <tr>\n",
       "      <th>248663</th>\n",
       "      <td>311</td>\n",
       "      <td>16172</td>\n",
       "      <td>-156</td>\n",
       "      <td>-6656</td>\n",
       "    </tr>\n",
       "    <tr>\n",
       "      <th>248664</th>\n",
       "      <td>311</td>\n",
       "      <td>19608</td>\n",
       "      <td>408</td>\n",
       "      <td>-5484</td>\n",
       "    </tr>\n",
       "  </tbody>\n",
       "</table>\n",
       "<p>248665 rows × 4 columns</p>\n",
       "</div>"
      ],
      "text/plain": [
       "        _id      x     y     z\n",
       "0         1  13916 -1172 -8424\n",
       "1         1  13816 -1156 -8304\n",
       "2         1  14188 -1256 -8012\n",
       "3         1  14128 -1360 -8100\n",
       "4         1  14228  -832 -7976\n",
       "...     ...    ...   ...   ...\n",
       "248660  311  12104  -660 -5384\n",
       "248661  311  12612  -400 -4408\n",
       "248662  311  12368  -384 -3992\n",
       "248663  311  16172  -156 -6656\n",
       "248664  311  19608   408 -5484\n",
       "\n",
       "[248665 rows x 4 columns]"
      ]
     },
     "execution_count": 45,
     "metadata": {},
     "output_type": "execute_result"
    }
   ],
   "source": [
    "data"
   ]
  },
  {
   "cell_type": "code",
   "execution_count": 7,
   "id": "loved-pointer",
   "metadata": {
    "scrolled": false
   },
   "outputs": [
    {
     "data": {
      "text/html": [
       "<div>\n",
       "<style scoped>\n",
       "    .dataframe tbody tr th:only-of-type {\n",
       "        vertical-align: middle;\n",
       "    }\n",
       "\n",
       "    .dataframe tbody tr th {\n",
       "        vertical-align: top;\n",
       "    }\n",
       "\n",
       "    .dataframe thead th {\n",
       "        text-align: right;\n",
       "    }\n",
       "</style>\n",
       "<table border=\"1\" class=\"dataframe\">\n",
       "  <thead>\n",
       "    <tr style=\"text-align: right;\">\n",
       "      <th></th>\n",
       "      <th>height</th>\n",
       "      <th>mass</th>\n",
       "      <th>position</th>\n",
       "      <th>is_valid</th>\n",
       "      <th>age</th>\n",
       "      <th>sex</th>\n",
       "    </tr>\n",
       "    <tr>\n",
       "      <th>_id</th>\n",
       "      <th></th>\n",
       "      <th></th>\n",
       "      <th></th>\n",
       "      <th></th>\n",
       "      <th></th>\n",
       "      <th></th>\n",
       "    </tr>\n",
       "  </thead>\n",
       "  <tbody>\n",
       "    <tr>\n",
       "      <th>1</th>\n",
       "      <td>180</td>\n",
       "      <td>85</td>\n",
       "      <td>2</td>\n",
       "      <td>0</td>\n",
       "      <td>18</td>\n",
       "      <td>1</td>\n",
       "    </tr>\n",
       "    <tr>\n",
       "      <th>2</th>\n",
       "      <td>185</td>\n",
       "      <td>75</td>\n",
       "      <td>1</td>\n",
       "      <td>0</td>\n",
       "      <td>18</td>\n",
       "      <td>1</td>\n",
       "    </tr>\n",
       "    <tr>\n",
       "      <th>3</th>\n",
       "      <td>185</td>\n",
       "      <td>75</td>\n",
       "      <td>2</td>\n",
       "      <td>0</td>\n",
       "      <td>18</td>\n",
       "      <td>1</td>\n",
       "    </tr>\n",
       "    <tr>\n",
       "      <th>6</th>\n",
       "      <td>185</td>\n",
       "      <td>75</td>\n",
       "      <td>3</td>\n",
       "      <td>0</td>\n",
       "      <td>18</td>\n",
       "      <td>1</td>\n",
       "    </tr>\n",
       "    <tr>\n",
       "      <th>7</th>\n",
       "      <td>185</td>\n",
       "      <td>75</td>\n",
       "      <td>1</td>\n",
       "      <td>1</td>\n",
       "      <td>18</td>\n",
       "      <td>1</td>\n",
       "    </tr>\n",
       "    <tr>\n",
       "      <th>...</th>\n",
       "      <td>...</td>\n",
       "      <td>...</td>\n",
       "      <td>...</td>\n",
       "      <td>...</td>\n",
       "      <td>...</td>\n",
       "      <td>...</td>\n",
       "    </tr>\n",
       "    <tr>\n",
       "      <th>307</th>\n",
       "      <td>170</td>\n",
       "      <td>61</td>\n",
       "      <td>2</td>\n",
       "      <td>0</td>\n",
       "      <td>20</td>\n",
       "      <td>0</td>\n",
       "    </tr>\n",
       "    <tr>\n",
       "      <th>308</th>\n",
       "      <td>170</td>\n",
       "      <td>61</td>\n",
       "      <td>3</td>\n",
       "      <td>0</td>\n",
       "      <td>20</td>\n",
       "      <td>0</td>\n",
       "    </tr>\n",
       "    <tr>\n",
       "      <th>309</th>\n",
       "      <td>170</td>\n",
       "      <td>61</td>\n",
       "      <td>1</td>\n",
       "      <td>1</td>\n",
       "      <td>20</td>\n",
       "      <td>0</td>\n",
       "    </tr>\n",
       "    <tr>\n",
       "      <th>310</th>\n",
       "      <td>170</td>\n",
       "      <td>61</td>\n",
       "      <td>2</td>\n",
       "      <td>1</td>\n",
       "      <td>20</td>\n",
       "      <td>0</td>\n",
       "    </tr>\n",
       "    <tr>\n",
       "      <th>311</th>\n",
       "      <td>170</td>\n",
       "      <td>61</td>\n",
       "      <td>3</td>\n",
       "      <td>1</td>\n",
       "      <td>20</td>\n",
       "      <td>0</td>\n",
       "    </tr>\n",
       "  </tbody>\n",
       "</table>\n",
       "<p>128 rows × 6 columns</p>\n",
       "</div>"
      ],
      "text/plain": [
       "     height  mass  position  is_valid  age  sex\n",
       "_id                                            \n",
       "1       180    85         2         0   18    1\n",
       "2       185    75         1         0   18    1\n",
       "3       185    75         2         0   18    1\n",
       "6       185    75         3         0   18    1\n",
       "7       185    75         1         1   18    1\n",
       "..      ...   ...       ...       ...  ...  ...\n",
       "307     170    61         2         0   20    0\n",
       "308     170    61         3         0   20    0\n",
       "309     170    61         1         1   20    0\n",
       "310     170    61         2         1   20    0\n",
       "311     170    61         3         1   20    0\n",
       "\n",
       "[128 rows x 6 columns]"
      ]
     },
     "execution_count": 7,
     "metadata": {},
     "output_type": "execute_result"
    }
   ],
   "source": [
    "person"
   ]
  },
  {
   "cell_type": "code",
   "execution_count": 47,
   "id": "matched-catch",
   "metadata": {},
   "outputs": [],
   "source": [
    "data.to_csv(data_path)\n",
    "person.to_csv(person_path)"
   ]
  }
 ],
 "metadata": {
  "kernelspec": {
   "display_name": "Python 3",
   "language": "python",
   "name": "python3"
  },
  "language_info": {
   "codemirror_mode": {
    "name": "ipython",
    "version": 3
   },
   "file_extension": ".py",
   "mimetype": "text/x-python",
   "name": "python",
   "nbconvert_exporter": "python",
   "pygments_lexer": "ipython3",
   "version": "3.7.4"
  }
 },
 "nbformat": 4,
 "nbformat_minor": 5
}
