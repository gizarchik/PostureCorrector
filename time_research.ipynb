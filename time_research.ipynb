{
 "cells": [
  {
   "cell_type": "code",
   "execution_count": 10,
   "id": "registered-commercial",
   "metadata": {},
   "outputs": [],
   "source": [
    "import pandas as pd\n",
    "import numpy as np\n",
    "import seaborn as sns\n",
    "import matplotlib.pyplot as plt\n",
    "\n",
    "from collections import defaultdict\n",
    "\n",
    "import time\n",
    "from tqdm import tqdm\n",
    "\n",
    "%matplotlib inline\n",
    "sns.set(style='darkgrid', font_scale=1.5)"
   ]
  },
  {
   "cell_type": "code",
   "execution_count": 2,
   "id": "noble-constitutional",
   "metadata": {},
   "outputs": [],
   "source": [
    "data_df = pd.read_csv('./data.csv', index_col=0)\n",
    "person_df = pd.read_csv('./person.csv', index_col='_id')"
   ]
  },
  {
   "cell_type": "code",
   "execution_count": 36,
   "id": "understanding-compromise",
   "metadata": {},
   "outputs": [],
   "source": [
    "window_sizes = [50, 100, 150, 200]\n",
    "steps = [13, 25, 38, 50]"
   ]
  },
  {
   "cell_type": "code",
   "execution_count": 37,
   "id": "allied-banks",
   "metadata": {},
   "outputs": [],
   "source": [
    "def mean_ser(series):\n",
    "    return np.mean(series)\n",
    "\n",
    "def std_ser(series):\n",
    "    return np.std(series)\n",
    "\n",
    "def max_ser(series):\n",
    "    return np.max(series)\n",
    "\n",
    "def min_ser(series):\n",
    "    return np.min(series)\n",
    "\n",
    "def energy_ser(series):\n",
    "    return np.mean(series**2)\n",
    "    \n",
    "def iqr_ser(series):\n",
    "    return np.quantile(series, 0.75) - np.quantile(series, 0.25)"
   ]
  },
  {
   "cell_type": "code",
   "execution_count": 53,
   "id": "golden-conspiracy",
   "metadata": {},
   "outputs": [],
   "source": [
    "time_measurements = defaultdict(list)\n",
    "extracted_df_list = []"
   ]
  },
  {
   "cell_type": "code",
   "execution_count": 54,
   "id": "protective-humanitarian",
   "metadata": {},
   "outputs": [
    {
     "name": "stderr",
     "output_type": "stream",
     "text": [
      "0it [00:00, ?it/s]\n",
      "0it [00:00, ?it/s]\u001b[A\n",
      "1it [01:36, 96.35s/it]\u001b[A\n",
      "2it [02:55, 86.06s/it]\u001b[A\n",
      "3it [04:12, 82.17s/it]\u001b[A\n",
      "4it [05:33, 81.58s/it]\u001b[A\n",
      "5it [09:53, 146.07s/it]\u001b[A\n",
      "6it [14:38, 146.46s/it]\u001b[A\n",
      "1it [15:57, 957.58s/it]\n",
      "0it [00:00, ?it/s]\u001b[A\n",
      "1it [00:56, 56.14s/it]\u001b[A\n",
      "2it [01:46, 52.84s/it]\u001b[A\n",
      "3it [02:36, 51.69s/it]\u001b[A\n",
      "4it [03:28, 51.53s/it]\u001b[A\n",
      "5it [06:11, 91.68s/it]\u001b[A\n",
      "6it [09:32, 95.38s/it] \u001b[A\n",
      "2it [26:45, 775.41s/it]\n",
      "0it [00:00, ?it/s]\u001b[A\n",
      "1it [00:54, 54.11s/it]\u001b[A\n",
      "2it [01:43, 51.25s/it]\u001b[A\n",
      "3it [02:32, 50.50s/it]\u001b[A\n",
      "4it [03:22, 50.05s/it]\u001b[A\n",
      "5it [06:02, 89.74s/it]\u001b[A\n",
      "6it [09:22, 93.69s/it] \u001b[A\n",
      "3it [37:22, 712.00s/it]\n",
      "0it [00:00, ?it/s]\u001b[A\n",
      "1it [00:53, 53.57s/it]\u001b[A\n",
      "2it [01:40, 49.79s/it]\u001b[A\n",
      "3it [02:28, 48.72s/it]\u001b[A\n",
      "4it [03:16, 48.46s/it]\u001b[A\n",
      "5it [05:52, 87.33s/it]\u001b[A\n",
      "6it [09:07, 91.25s/it] \u001b[A\n",
      "4it [47:41, 715.40s/it]\n"
     ]
    }
   ],
   "source": [
    "for step, window_size in tqdm(zip(steps, window_sizes)):\n",
    "    extracted_df = pd.DataFrame()\n",
    "    \n",
    "    #standart metrics\n",
    "    standart_metrics = [mean_ser, std_ser, max_ser, min_ser, energy_ser, iqr_ser]\n",
    "    standart_metrics_name = ['mean', 'std', 'max', 'min', 'energy', 'iqr']\n",
    "    \n",
    "    for metric_name, metric_func in tqdm(zip(standart_metrics_name, standart_metrics)):\n",
    "        start_time = time.process_time()\n",
    "\n",
    "        extracted = data_df.groupby(by='_id', sort=False)\\\n",
    "            .rolling(window=window_size, min_periods=window_size)\\\n",
    "            .agg(metric_func)\\\n",
    "            .dropna(axis=0, how='any')[::step]\\\n",
    "            .drop('_id', axis=1)\n",
    "        extracted.columns = extracted.columns + '_' + metric_name\n",
    "        \n",
    "        time_measurements[metric_name].append(time.process_time() - start_time)\n",
    "        extracted_df[extracted.columns] = extracted\n",
    "    \n",
    "    # correlation\n",
    "    pairs = [['x', 'y'], ['x', 'z'], ['y', 'z']]\n",
    "\n",
    "    for pair in pairs:\n",
    "        start_time = time.process_time()\n",
    "\n",
    "        corr_ser = data_df.groupby(by='_id', sort=False)[pair]\\\n",
    "        .rolling(window=window_size)\\\n",
    "        .corr().iloc[0::2,-1]\\\n",
    "        .dropna(axis=0, how='any')[::step]\n",
    "\n",
    "        corr_ser.index = corr_ser.index.droplevel(2)\n",
    "\n",
    "        col_name = ''.join(pair) + '_corr'\n",
    "\n",
    "        time_measurements[col_name].append(time.process_time() - start_time)\n",
    "        extracted_df[col_name] = corr_ser\n",
    "        \n",
    "    # SMA\n",
    "    data = data_df.copy()\n",
    "\n",
    "    start_time = time.process_time()\n",
    "\n",
    "    data['magnitude'] = np.sqrt(data['x']**2 + data['y']**2 + data['z']**2)\n",
    "    SMA = data.groupby(by='_id', sort=False)\\\n",
    "        .rolling(window=window_size, min_periods=window_size)\\\n",
    "        .agg([mean_ser])\\\n",
    "        .dropna(axis=0, how='any')[::step]\\\n",
    "        .drop('_id', axis=1)['magnitude']\n",
    "    SMA = SMA.rename(columns={'mean':'sma'})\n",
    "\n",
    "    time_measurements['sma'].append(time.process_time() - start_time)\n",
    "    extracted_df['sma'] = SMA\n",
    "    \n",
    "    extracted_df_list.append(extracted_df)"
   ]
  },
  {
   "cell_type": "code",
   "execution_count": 57,
   "id": "congressional-hierarchy",
   "metadata": {
    "scrolled": true
   },
   "outputs": [
    {
     "data": {
      "text/plain": [
       "defaultdict(list,\n",
       "            {'mean': [95.92640327499976,\n",
       "              57.56708646600009,\n",
       "              55.652058427000156,\n",
       "              54.97909100299967],\n",
       "             'std': [78.93823732999999,\n",
       "              51.46836115999986,\n",
       "              49.92602739100039,\n",
       "              47.231076016999396],\n",
       "             'max': [77.67433541799983,\n",
       "              51.514375437000126,\n",
       "              50.75487862600039,\n",
       "              48.239064551999945],\n",
       "             'min': [80.82940106099977,\n",
       "              52.763987130999794,\n",
       "              50.480267036999976,\n",
       "              49.18580470100005],\n",
       "             'energy': [260.9317656889998,\n",
       "              167.38690551199943,\n",
       "              167.91885368800013,\n",
       "              162.44145394799943],\n",
       "             'iqr': [284.8460654790001,\n",
       "              201.1751206609997,\n",
       "              199.72938628799966,\n",
       "              195.03122535900002],\n",
       "             'xy_corr': [1.907734125999923,\n",
       "              1.9553242120000505,\n",
       "              1.9337899799993465,\n",
       "              1.9255999150000207],\n",
       "             'xz_corr': [1.9112498499998765,\n",
       "              1.913766721999309,\n",
       "              1.9214716260003115,\n",
       "              1.9375613030006207],\n",
       "             'yz_corr': [1.9150042829996892,\n",
       "              1.912391180000668,\n",
       "              1.932681350999701,\n",
       "              1.9425952350002262],\n",
       "             'sma': [74.65189834400007,\n",
       "              71.5789140070001,\n",
       "              70.31732484799977,\n",
       "              67.66494693599998]})"
      ]
     },
     "execution_count": 57,
     "metadata": {},
     "output_type": "execute_result"
    }
   ],
   "source": [
    "time_measurements"
   ]
  },
  {
   "cell_type": "markdown",
   "id": "decimal-jackson",
   "metadata": {},
   "source": [
    "Сохраняем датасеты с разными `window_size`"
   ]
  },
  {
   "cell_type": "code",
   "execution_count": 63,
   "id": "exterior-prefix",
   "metadata": {},
   "outputs": [],
   "source": [
    "for window_size, df in zip(window_sizes, extracted_df_list):\n",
    "    save_path = 'data_windowed_' + str(window_size)+'.csv'\n",
    "    df.to_csv(save_path)"
   ]
  }
 ],
 "metadata": {
  "kernelspec": {
   "display_name": "Python 3",
   "language": "python",
   "name": "python3"
  },
  "language_info": {
   "codemirror_mode": {
    "name": "ipython",
    "version": 3
   },
   "file_extension": ".py",
   "mimetype": "text/x-python",
   "name": "python",
   "nbconvert_exporter": "python",
   "pygments_lexer": "ipython3",
   "version": "3.7.4"
  }
 },
 "nbformat": 4,
 "nbformat_minor": 5
}
