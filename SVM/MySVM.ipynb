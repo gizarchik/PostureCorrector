{
 "cells": [
  {
   "cell_type": "markdown",
   "id": "massive-local",
   "metadata": {},
   "source": [
    "### Собственная реализация"
   ]
  },
  {
   "cell_type": "code",
   "execution_count": 50,
   "id": "exact-seating",
   "metadata": {},
   "outputs": [],
   "source": [
    "import sys\n",
    "sys.path.append('../')\n",
    "sys.path.append('./')"
   ]
  },
  {
   "cell_type": "code",
   "execution_count": 51,
   "id": "spare-voltage",
   "metadata": {},
   "outputs": [],
   "source": [
    "import pandas as pd\n",
    "import numpy as np\n",
    "import seaborn as sns\n",
    "import matplotlib.pyplot as plt\n",
    "\n",
    "import sklearn.metrics\n",
    "\n",
    "from sklearn.model_selection import GridSearchCV\n",
    "from sklearn.model_selection import RandomizedSearchCV\n",
    "\n",
    "from sklearn.multiclass import OneVsOneClassifier\n",
    "from sklearn.svm import SVC\n",
    "\n",
    "from sklearn.preprocessing import StandardScaler\n",
    "\n",
    "from sklearn.metrics import accuracy_score\n",
    "from sklearn.metrics import precision_score\n",
    "from sklearn.metrics import classification_report\n",
    "\n",
    "from tqdm import tqdm\n",
    "\n",
    "from collections import defaultdict\n",
    "from collections import OrderedDict\n",
    "\n",
    "import time\n",
    "import timeit\n",
    "\n",
    "import json\n",
    "\n",
    "from src.utils.plot import plot_acc_and_time\n",
    "from src.config import DATASET_PATH\n",
    "\n",
    "from src.models.SVM import CustomSVM\n",
    "from src.data.split import train_test_split\n",
    "from src.config import sorted_metrics\n",
    "from src.config import max_iter, C\n",
    "\n",
    "%matplotlib inline\n",
    "sns.set(style='darkgrid', font_scale=1.5)"
   ]
  },
  {
   "cell_type": "code",
   "execution_count": 52,
   "id": "hispanic-contributor",
   "metadata": {},
   "outputs": [
    {
     "data": {
      "text/html": [
       "<div>\n",
       "<style scoped>\n",
       "    .dataframe tbody tr th:only-of-type {\n",
       "        vertical-align: middle;\n",
       "    }\n",
       "\n",
       "    .dataframe tbody tr th {\n",
       "        vertical-align: top;\n",
       "    }\n",
       "\n",
       "    .dataframe thead th {\n",
       "        text-align: right;\n",
       "    }\n",
       "</style>\n",
       "<table border=\"1\" class=\"dataframe\">\n",
       "  <thead>\n",
       "    <tr style=\"text-align: right;\">\n",
       "      <th></th>\n",
       "      <th>x_mean</th>\n",
       "      <th>x_std</th>\n",
       "      <th>x_max</th>\n",
       "      <th>x_min</th>\n",
       "      <th>x_energy</th>\n",
       "      <th>x_iqr</th>\n",
       "      <th>y_mean</th>\n",
       "      <th>y_std</th>\n",
       "      <th>y_max</th>\n",
       "      <th>y_min</th>\n",
       "      <th>...</th>\n",
       "      <th>x_iqr_pos1</th>\n",
       "      <th>y_iqr_pos1</th>\n",
       "      <th>z_iqr_pos1</th>\n",
       "      <th>xy_corr_pos1</th>\n",
       "      <th>xz_corr_pos1</th>\n",
       "      <th>yz_corr_pos1</th>\n",
       "      <th>height</th>\n",
       "      <th>mass</th>\n",
       "      <th>is_valid</th>\n",
       "      <th>sex</th>\n",
       "    </tr>\n",
       "    <tr>\n",
       "      <th>_id</th>\n",
       "      <th></th>\n",
       "      <th></th>\n",
       "      <th></th>\n",
       "      <th></th>\n",
       "      <th></th>\n",
       "      <th></th>\n",
       "      <th></th>\n",
       "      <th></th>\n",
       "      <th></th>\n",
       "      <th></th>\n",
       "      <th></th>\n",
       "      <th></th>\n",
       "      <th></th>\n",
       "      <th></th>\n",
       "      <th></th>\n",
       "      <th></th>\n",
       "      <th></th>\n",
       "      <th></th>\n",
       "      <th></th>\n",
       "      <th></th>\n",
       "      <th></th>\n",
       "    </tr>\n",
       "  </thead>\n",
       "  <tbody>\n",
       "    <tr>\n",
       "      <th>2</th>\n",
       "      <td>11156.76</td>\n",
       "      <td>123.532772</td>\n",
       "      <td>11380.0</td>\n",
       "      <td>10836.0</td>\n",
       "      <td>1.244884e+08</td>\n",
       "      <td>177.0</td>\n",
       "      <td>1158.80</td>\n",
       "      <td>73.172275</td>\n",
       "      <td>1348.0</td>\n",
       "      <td>920.0</td>\n",
       "      <td>...</td>\n",
       "      <td>196.0</td>\n",
       "      <td>132.0</td>\n",
       "      <td>485.0</td>\n",
       "      <td>-0.203383</td>\n",
       "      <td>0.750925</td>\n",
       "      <td>-0.452449</td>\n",
       "      <td>185</td>\n",
       "      <td>75</td>\n",
       "      <td>0</td>\n",
       "      <td>1</td>\n",
       "    </tr>\n",
       "    <tr>\n",
       "      <th>2</th>\n",
       "      <td>11156.88</td>\n",
       "      <td>128.858961</td>\n",
       "      <td>11380.0</td>\n",
       "      <td>10836.0</td>\n",
       "      <td>1.244924e+08</td>\n",
       "      <td>193.0</td>\n",
       "      <td>1137.96</td>\n",
       "      <td>69.416023</td>\n",
       "      <td>1300.0</td>\n",
       "      <td>920.0</td>\n",
       "      <td>...</td>\n",
       "      <td>196.0</td>\n",
       "      <td>132.0</td>\n",
       "      <td>485.0</td>\n",
       "      <td>-0.203383</td>\n",
       "      <td>0.750925</td>\n",
       "      <td>-0.452449</td>\n",
       "      <td>185</td>\n",
       "      <td>75</td>\n",
       "      <td>0</td>\n",
       "      <td>1</td>\n",
       "    </tr>\n",
       "    <tr>\n",
       "      <th>2</th>\n",
       "      <td>11154.36</td>\n",
       "      <td>134.410311</td>\n",
       "      <td>11532.0</td>\n",
       "      <td>10836.0</td>\n",
       "      <td>1.244376e+08</td>\n",
       "      <td>190.0</td>\n",
       "      <td>1088.32</td>\n",
       "      <td>171.829072</td>\n",
       "      <td>1380.0</td>\n",
       "      <td>164.0</td>\n",
       "      <td>...</td>\n",
       "      <td>196.0</td>\n",
       "      <td>132.0</td>\n",
       "      <td>485.0</td>\n",
       "      <td>-0.203383</td>\n",
       "      <td>0.750925</td>\n",
       "      <td>-0.452449</td>\n",
       "      <td>185</td>\n",
       "      <td>75</td>\n",
       "      <td>0</td>\n",
       "      <td>1</td>\n",
       "    </tr>\n",
       "    <tr>\n",
       "      <th>2</th>\n",
       "      <td>10998.28</td>\n",
       "      <td>415.506022</td>\n",
       "      <td>11532.0</td>\n",
       "      <td>9384.0</td>\n",
       "      <td>1.211331e+08</td>\n",
       "      <td>323.0</td>\n",
       "      <td>853.36</td>\n",
       "      <td>499.190851</td>\n",
       "      <td>1380.0</td>\n",
       "      <td>-1032.0</td>\n",
       "      <td>...</td>\n",
       "      <td>196.0</td>\n",
       "      <td>132.0</td>\n",
       "      <td>485.0</td>\n",
       "      <td>-0.203383</td>\n",
       "      <td>0.750925</td>\n",
       "      <td>-0.452449</td>\n",
       "      <td>185</td>\n",
       "      <td>75</td>\n",
       "      <td>0</td>\n",
       "      <td>1</td>\n",
       "    </tr>\n",
       "    <tr>\n",
       "      <th>2</th>\n",
       "      <td>10883.04</td>\n",
       "      <td>409.575930</td>\n",
       "      <td>11532.0</td>\n",
       "      <td>9384.0</td>\n",
       "      <td>1.186066e+08</td>\n",
       "      <td>543.0</td>\n",
       "      <td>537.68</td>\n",
       "      <td>622.192456</td>\n",
       "      <td>1380.0</td>\n",
       "      <td>-1032.0</td>\n",
       "      <td>...</td>\n",
       "      <td>196.0</td>\n",
       "      <td>132.0</td>\n",
       "      <td>485.0</td>\n",
       "      <td>-0.203383</td>\n",
       "      <td>0.750925</td>\n",
       "      <td>-0.452449</td>\n",
       "      <td>185</td>\n",
       "      <td>75</td>\n",
       "      <td>0</td>\n",
       "      <td>1</td>\n",
       "    </tr>\n",
       "    <tr>\n",
       "      <th>...</th>\n",
       "      <td>...</td>\n",
       "      <td>...</td>\n",
       "      <td>...</td>\n",
       "      <td>...</td>\n",
       "      <td>...</td>\n",
       "      <td>...</td>\n",
       "      <td>...</td>\n",
       "      <td>...</td>\n",
       "      <td>...</td>\n",
       "      <td>...</td>\n",
       "      <td>...</td>\n",
       "      <td>...</td>\n",
       "      <td>...</td>\n",
       "      <td>...</td>\n",
       "      <td>...</td>\n",
       "      <td>...</td>\n",
       "      <td>...</td>\n",
       "      <td>...</td>\n",
       "      <td>...</td>\n",
       "      <td>...</td>\n",
       "      <td>...</td>\n",
       "    </tr>\n",
       "    <tr>\n",
       "      <th>313</th>\n",
       "      <td>12888.32</td>\n",
       "      <td>56.892399</td>\n",
       "      <td>13028.0</td>\n",
       "      <td>12780.0</td>\n",
       "      <td>1.661120e+08</td>\n",
       "      <td>88.0</td>\n",
       "      <td>707.60</td>\n",
       "      <td>53.817499</td>\n",
       "      <td>856.0</td>\n",
       "      <td>588.0</td>\n",
       "      <td>...</td>\n",
       "      <td>180.0</td>\n",
       "      <td>194.0</td>\n",
       "      <td>220.0</td>\n",
       "      <td>-0.334250</td>\n",
       "      <td>0.872003</td>\n",
       "      <td>-0.319047</td>\n",
       "      <td>176</td>\n",
       "      <td>76</td>\n",
       "      <td>1</td>\n",
       "      <td>1</td>\n",
       "    </tr>\n",
       "    <tr>\n",
       "      <th>313</th>\n",
       "      <td>12882.92</td>\n",
       "      <td>56.878691</td>\n",
       "      <td>13028.0</td>\n",
       "      <td>12768.0</td>\n",
       "      <td>1.659728e+08</td>\n",
       "      <td>85.0</td>\n",
       "      <td>699.16</td>\n",
       "      <td>56.771867</td>\n",
       "      <td>856.0</td>\n",
       "      <td>600.0</td>\n",
       "      <td>...</td>\n",
       "      <td>180.0</td>\n",
       "      <td>194.0</td>\n",
       "      <td>220.0</td>\n",
       "      <td>-0.334250</td>\n",
       "      <td>0.872003</td>\n",
       "      <td>-0.319047</td>\n",
       "      <td>176</td>\n",
       "      <td>76</td>\n",
       "      <td>1</td>\n",
       "      <td>1</td>\n",
       "    </tr>\n",
       "    <tr>\n",
       "      <th>313</th>\n",
       "      <td>12877.20</td>\n",
       "      <td>55.825124</td>\n",
       "      <td>13028.0</td>\n",
       "      <td>12768.0</td>\n",
       "      <td>1.658254e+08</td>\n",
       "      <td>77.0</td>\n",
       "      <td>672.28</td>\n",
       "      <td>42.218307</td>\n",
       "      <td>804.0</td>\n",
       "      <td>580.0</td>\n",
       "      <td>...</td>\n",
       "      <td>180.0</td>\n",
       "      <td>194.0</td>\n",
       "      <td>220.0</td>\n",
       "      <td>-0.334250</td>\n",
       "      <td>0.872003</td>\n",
       "      <td>-0.319047</td>\n",
       "      <td>176</td>\n",
       "      <td>76</td>\n",
       "      <td>1</td>\n",
       "      <td>1</td>\n",
       "    </tr>\n",
       "    <tr>\n",
       "      <th>313</th>\n",
       "      <td>12880.88</td>\n",
       "      <td>50.239282</td>\n",
       "      <td>13028.0</td>\n",
       "      <td>12768.0</td>\n",
       "      <td>1.659196e+08</td>\n",
       "      <td>60.0</td>\n",
       "      <td>668.36</td>\n",
       "      <td>40.000384</td>\n",
       "      <td>756.0</td>\n",
       "      <td>580.0</td>\n",
       "      <td>...</td>\n",
       "      <td>180.0</td>\n",
       "      <td>194.0</td>\n",
       "      <td>220.0</td>\n",
       "      <td>-0.334250</td>\n",
       "      <td>0.872003</td>\n",
       "      <td>-0.319047</td>\n",
       "      <td>176</td>\n",
       "      <td>76</td>\n",
       "      <td>1</td>\n",
       "      <td>1</td>\n",
       "    </tr>\n",
       "    <tr>\n",
       "      <th>313</th>\n",
       "      <td>12873.32</td>\n",
       "      <td>55.004294</td>\n",
       "      <td>13012.0</td>\n",
       "      <td>12696.0</td>\n",
       "      <td>1.657254e+08</td>\n",
       "      <td>66.0</td>\n",
       "      <td>670.80</td>\n",
       "      <td>41.011454</td>\n",
       "      <td>808.0</td>\n",
       "      <td>580.0</td>\n",
       "      <td>...</td>\n",
       "      <td>180.0</td>\n",
       "      <td>194.0</td>\n",
       "      <td>220.0</td>\n",
       "      <td>-0.334250</td>\n",
       "      <td>0.872003</td>\n",
       "      <td>-0.319047</td>\n",
       "      <td>176</td>\n",
       "      <td>76</td>\n",
       "      <td>1</td>\n",
       "      <td>1</td>\n",
       "    </tr>\n",
       "  </tbody>\n",
       "</table>\n",
       "<p>9525 rows × 48 columns</p>\n",
       "</div>"
      ],
      "text/plain": [
       "       x_mean       x_std    x_max    x_min      x_energy  x_iqr   y_mean  \\\n",
       "_id                                                                         \n",
       "2    11156.76  123.532772  11380.0  10836.0  1.244884e+08  177.0  1158.80   \n",
       "2    11156.88  128.858961  11380.0  10836.0  1.244924e+08  193.0  1137.96   \n",
       "2    11154.36  134.410311  11532.0  10836.0  1.244376e+08  190.0  1088.32   \n",
       "2    10998.28  415.506022  11532.0   9384.0  1.211331e+08  323.0   853.36   \n",
       "2    10883.04  409.575930  11532.0   9384.0  1.186066e+08  543.0   537.68   \n",
       "..        ...         ...      ...      ...           ...    ...      ...   \n",
       "313  12888.32   56.892399  13028.0  12780.0  1.661120e+08   88.0   707.60   \n",
       "313  12882.92   56.878691  13028.0  12768.0  1.659728e+08   85.0   699.16   \n",
       "313  12877.20   55.825124  13028.0  12768.0  1.658254e+08   77.0   672.28   \n",
       "313  12880.88   50.239282  13028.0  12768.0  1.659196e+08   60.0   668.36   \n",
       "313  12873.32   55.004294  13012.0  12696.0  1.657254e+08   66.0   670.80   \n",
       "\n",
       "          y_std   y_max   y_min  ...  x_iqr_pos1  y_iqr_pos1  z_iqr_pos1  \\\n",
       "_id                              ...                                       \n",
       "2     73.172275  1348.0   920.0  ...       196.0       132.0       485.0   \n",
       "2     69.416023  1300.0   920.0  ...       196.0       132.0       485.0   \n",
       "2    171.829072  1380.0   164.0  ...       196.0       132.0       485.0   \n",
       "2    499.190851  1380.0 -1032.0  ...       196.0       132.0       485.0   \n",
       "2    622.192456  1380.0 -1032.0  ...       196.0       132.0       485.0   \n",
       "..          ...     ...     ...  ...         ...         ...         ...   \n",
       "313   53.817499   856.0   588.0  ...       180.0       194.0       220.0   \n",
       "313   56.771867   856.0   600.0  ...       180.0       194.0       220.0   \n",
       "313   42.218307   804.0   580.0  ...       180.0       194.0       220.0   \n",
       "313   40.000384   756.0   580.0  ...       180.0       194.0       220.0   \n",
       "313   41.011454   808.0   580.0  ...       180.0       194.0       220.0   \n",
       "\n",
       "     xy_corr_pos1  xz_corr_pos1  yz_corr_pos1  height  mass  is_valid  sex  \n",
       "_id                                                                         \n",
       "2       -0.203383      0.750925     -0.452449     185    75         0    1  \n",
       "2       -0.203383      0.750925     -0.452449     185    75         0    1  \n",
       "2       -0.203383      0.750925     -0.452449     185    75         0    1  \n",
       "2       -0.203383      0.750925     -0.452449     185    75         0    1  \n",
       "2       -0.203383      0.750925     -0.452449     185    75         0    1  \n",
       "..            ...           ...           ...     ...   ...       ...  ...  \n",
       "313     -0.334250      0.872003     -0.319047     176    76         1    1  \n",
       "313     -0.334250      0.872003     -0.319047     176    76         1    1  \n",
       "313     -0.334250      0.872003     -0.319047     176    76         1    1  \n",
       "313     -0.334250      0.872003     -0.319047     176    76         1    1  \n",
       "313     -0.334250      0.872003     -0.319047     176    76         1    1  \n",
       "\n",
       "[9525 rows x 48 columns]"
      ]
     },
     "execution_count": 52,
     "metadata": {},
     "output_type": "execute_result"
    }
   ],
   "source": [
    "data = pd.read_csv('../'+DATASET_PATH, index_col=[0, 1])\n",
    "data = data.reset_index(level=1, drop=True)\n",
    "data = data.drop(['position', 'age'], axis=1)\n",
    "data"
   ]
  },
  {
   "cell_type": "code",
   "execution_count": 9,
   "id": "hourly-charter",
   "metadata": {},
   "outputs": [],
   "source": [
    "y = data['is_valid']\n",
    "X = data.drop('is_valid', axis=1)"
   ]
  },
  {
   "cell_type": "code",
   "execution_count": 26,
   "id": "hundred-choice",
   "metadata": {},
   "outputs": [],
   "source": [
    "X_train, X_test, y_train, y_test = train_test_split(X, y)"
   ]
  },
  {
   "cell_type": "markdown",
   "id": "basic-anger",
   "metadata": {},
   "source": [
    "Так как для обучения модели и её хранения нужно малое кол-во памяти, то возьмем 30% от выборки. Это не должно сказаться на точности, так как имеется множество повторяющхися элементов выборки. Также будем использовать float16.\\"
   ]
  },
  {
   "cell_type": "code",
   "execution_count": 27,
   "id": "juvenile-paper",
   "metadata": {},
   "outputs": [],
   "source": [
    "X_train = X_train[::3]\n",
    "y_train = y_train[::3]"
   ]
  },
  {
   "cell_type": "code",
   "execution_count": 28,
   "id": "elementary-hobby",
   "metadata": {},
   "outputs": [],
   "source": [
    "max_iter = 1000"
   ]
  },
  {
   "cell_type": "code",
   "execution_count": 29,
   "id": "stretch-prize",
   "metadata": {},
   "outputs": [],
   "source": [
    "scaler = StandardScaler().fit(X_train)\n",
    "X_train = scaler.transform(X_train).astype(np.half)\n",
    "y_train = y_train.to_numpy(dtype=np.half)[:, np.newaxis]"
   ]
  },
  {
   "cell_type": "code",
   "execution_count": 30,
   "id": "mounted-seven",
   "metadata": {},
   "outputs": [
    {
     "data": {
      "text/plain": [
       "<__main__.CustomSVM at 0x7fd76e558ad0>"
      ]
     },
     "execution_count": 30,
     "metadata": {},
     "output_type": "execute_result"
    }
   ],
   "source": [
    "svc = CustomSVM(max_iter=max_iter)\n",
    "svc.fit(X_train, y_train)"
   ]
  },
  {
   "cell_type": "code",
   "execution_count": 31,
   "id": "exceptional-straight",
   "metadata": {},
   "outputs": [],
   "source": [
    "X_test = scaler.transform(X_test).astype(np.half)\n",
    "y_test = y_test.to_numpy(dtype=np.half)[:, np.newaxis]"
   ]
  },
  {
   "cell_type": "code",
   "execution_count": 32,
   "id": "thermal-latest",
   "metadata": {},
   "outputs": [
    {
     "data": {
      "text/plain": [
       "0.49224438113327"
      ]
     },
     "execution_count": 32,
     "metadata": {},
     "output_type": "execute_result"
    }
   ],
   "source": [
    "svc.score(X_test, y_test)"
   ]
  },
  {
   "cell_type": "markdown",
   "id": "decimal-break",
   "metadata": {},
   "source": [
    "8 лучших метрик."
   ]
  },
  {
   "cell_type": "code",
   "execution_count": 10,
   "id": "composed-mirror",
   "metadata": {},
   "outputs": [],
   "source": [
    "X_train, X_test, y_train, y_test = train_test_split(X[sorted_metrics[:8]], y)"
   ]
  },
  {
   "cell_type": "code",
   "execution_count": 11,
   "id": "confirmed-infection",
   "metadata": {},
   "outputs": [],
   "source": [
    "X_train = X_train[::3]\n",
    "y_train = y_train[::3]"
   ]
  },
  {
   "cell_type": "code",
   "execution_count": 12,
   "id": "valid-script",
   "metadata": {},
   "outputs": [],
   "source": [
    "scaler = StandardScaler().fit(X_train)\n",
    "X_train = scaler.transform(X_train).astype(np.half)\n",
    "y_train = y_train.to_numpy(dtype=np.half)"
   ]
  },
  {
   "cell_type": "code",
   "execution_count": 13,
   "id": "guilty-elimination",
   "metadata": {},
   "outputs": [],
   "source": [
    "X_test = scaler.transform(X_test).astype(np.half)\n",
    "y_test = y_test.to_numpy(dtype=np.half)"
   ]
  },
  {
   "cell_type": "code",
   "execution_count": 14,
   "id": "exempt-cleaners",
   "metadata": {},
   "outputs": [
    {
     "data": {
      "text/plain": [
       "<src.models.SVM.CustomSVM at 0x7f108815e5d0>"
      ]
     },
     "execution_count": 14,
     "metadata": {},
     "output_type": "execute_result"
    }
   ],
   "source": [
    "svc = CustomSVM(max_iter=max_iter)\n",
    "svc.fit(X_train, y_train[:, np.newaxis])"
   ]
  },
  {
   "cell_type": "code",
   "execution_count": 15,
   "id": "alternate-tablet",
   "metadata": {},
   "outputs": [
    {
     "data": {
      "text/plain": [
       "0.765073329712113"
      ]
     },
     "execution_count": 15,
     "metadata": {},
     "output_type": "execute_result"
    }
   ],
   "source": [
    "svc.score(X_test, y_test[:, np.newaxis])"
   ]
  },
  {
   "cell_type": "code",
   "execution_count": 16,
   "id": "secret-jason",
   "metadata": {},
   "outputs": [],
   "source": [
    "y_pred = svc.predict(X_test)"
   ]
  },
  {
   "cell_type": "code",
   "execution_count": 17,
   "id": "intended-episode",
   "metadata": {},
   "outputs": [],
   "source": [
    "target_names = ['crooked', 'straight']"
   ]
  },
  {
   "cell_type": "code",
   "execution_count": 18,
   "id": "skilled-variance",
   "metadata": {},
   "outputs": [
    {
     "name": "stdout",
     "output_type": "stream",
     "text": [
      "              precision    recall  f1-score   support\n",
      "\n",
      "           0       0.91      0.58      0.71      1815\n",
      "           1       0.70      0.94      0.80      1867\n",
      "\n",
      "    accuracy                           0.77      3682\n",
      "   macro avg       0.80      0.76      0.76      3682\n",
      "weighted avg       0.80      0.77      0.76      3682\n",
      " ['crooked', 'straight']\n"
     ]
    }
   ],
   "source": [
    "print(classification_report(y_test.astype(np.int), y_pred.astype(np.int)), target_names)"
   ]
  },
  {
   "cell_type": "code",
   "execution_count": 45,
   "id": "assisted-colors",
   "metadata": {},
   "outputs": [],
   "source": [
    "svm_params = {'X_train':svc._X_train.tolist(), 'weights':svc.params_.tolist()}\n",
    "scaler_params = {'mean':scaler.mean_.tolist(), 'std':scaler.scale_.tolist()}\n",
    "params = {'svm':svm_params, 'scaler':scaler_params}"
   ]
  },
  {
   "cell_type": "code",
   "execution_count": 46,
   "id": "retired-barcelona",
   "metadata": {},
   "outputs": [
    {
     "ename": "ImportError",
     "evalue": "cannot import name 'SVM_WEIGHTS_PATH' from 'src.config' (../src/config.py)",
     "output_type": "error",
     "traceback": [
      "\u001b[0;31m---------------------------------------------------------------------------\u001b[0m",
      "\u001b[0;31mImportError\u001b[0m                               Traceback (most recent call last)",
      "\u001b[0;32m<ipython-input-46-4397f3ec8b4f>\u001b[0m in \u001b[0;36m<module>\u001b[0;34m\u001b[0m\n\u001b[0;32m----> 1\u001b[0;31m \u001b[0;32mfrom\u001b[0m \u001b[0msrc\u001b[0m\u001b[0;34m.\u001b[0m\u001b[0mconfig\u001b[0m \u001b[0;32mimport\u001b[0m \u001b[0mSVM_WEIGHTS_PATH\u001b[0m\u001b[0;34m\u001b[0m\u001b[0;34m\u001b[0m\u001b[0m\n\u001b[0m",
      "\u001b[0;31mImportError\u001b[0m: cannot import name 'SVM_WEIGHTS_PATH' from 'src.config' (../src/config.py)"
     ]
    }
   ],
   "source": [
    "from src.config import SVM_WEIGHTS_PATH"
   ]
  },
  {
   "cell_type": "code",
   "execution_count": 49,
   "id": "intimate-default",
   "metadata": {},
   "outputs": [],
   "source": [
    "with open('../Model weights/svm_weights.json', 'w+') as fp:\n",
    "    json.dump(params, fp)"
   ]
  },
  {
   "cell_type": "code",
   "execution_count": null,
   "id": "standing-compensation",
   "metadata": {},
   "outputs": [],
   "source": []
  }
 ],
 "metadata": {
  "kernelspec": {
   "display_name": "Python 3",
   "language": "python",
   "name": "python3"
  },
  "language_info": {
   "codemirror_mode": {
    "name": "ipython",
    "version": 3
   },
   "file_extension": ".py",
   "mimetype": "text/x-python",
   "name": "python",
   "nbconvert_exporter": "python",
   "pygments_lexer": "ipython3",
   "version": "3.7.4"
  }
 },
 "nbformat": 4,
 "nbformat_minor": 5
}
