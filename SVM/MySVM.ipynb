{
 "cells": [
  {
   "cell_type": "markdown",
   "id": "massive-local",
   "metadata": {},
   "source": [
    "### Собственная реализация"
   ]
  },
  {
   "cell_type": "code",
   "execution_count": 1,
   "id": "exact-seating",
   "metadata": {},
   "outputs": [],
   "source": [
    "import sys\n",
    "sys.path.append('../')\n",
    "sys.path.append('./')"
   ]
  },
  {
   "cell_type": "code",
   "execution_count": 3,
   "id": "spare-voltage",
   "metadata": {},
   "outputs": [],
   "source": [
    "import pandas as pd\n",
    "import numpy as np\n",
    "import seaborn as sns\n",
    "import matplotlib.pyplot as plt\n",
    "\n",
    "import sklearn.metrics\n",
    "\n",
    "from sklearn.model_selection import train_test_split\n",
    "from sklearn.model_selection import GridSearchCV\n",
    "from sklearn.model_selection import RandomizedSearchCV\n",
    "\n",
    "from sklearn.multiclass import OneVsOneClassifier\n",
    "from sklearn.svm import SVC\n",
    "\n",
    "from sklearn.preprocessing import StandardScaler\n",
    "\n",
    "from sklearn.metrics import accuracy_score\n",
    "from sklearn.metrics import precision_score\n",
    "from sklearn.metrics import classification_report\n",
    "\n",
    "from tqdm import tqdm\n",
    "\n",
    "from collections import defaultdict\n",
    "from collections import OrderedDict\n",
    "\n",
    "import time\n",
    "import timeit\n",
    "\n",
    "import json\n",
    "\n",
    "from utils.utils import plot_acc_and_time\n",
    "from utils.config import DATASET_PATH\n",
    "from models import SVM\n",
    "\n",
    "%matplotlib inline\n",
    "sns.set(style='darkgrid', font_scale=1.5)"
   ]
  },
  {
   "cell_type": "code",
   "execution_count": 4,
   "id": "tight-endorsement",
   "metadata": {},
   "outputs": [
    {
     "data": {
      "text/html": [
       "<div>\n",
       "<style scoped>\n",
       "    .dataframe tbody tr th:only-of-type {\n",
       "        vertical-align: middle;\n",
       "    }\n",
       "\n",
       "    .dataframe tbody tr th {\n",
       "        vertical-align: top;\n",
       "    }\n",
       "\n",
       "    .dataframe thead th {\n",
       "        text-align: right;\n",
       "    }\n",
       "</style>\n",
       "<table border=\"1\" class=\"dataframe\">\n",
       "  <thead>\n",
       "    <tr style=\"text-align: right;\">\n",
       "      <th></th>\n",
       "      <th>x_mean</th>\n",
       "      <th>x_std</th>\n",
       "      <th>x_max</th>\n",
       "      <th>x_min</th>\n",
       "      <th>x_energy</th>\n",
       "      <th>x_iqr</th>\n",
       "      <th>y_mean</th>\n",
       "      <th>y_std</th>\n",
       "      <th>y_max</th>\n",
       "      <th>y_min</th>\n",
       "      <th>...</th>\n",
       "      <th>x_iqr_pos1</th>\n",
       "      <th>y_iqr_pos1</th>\n",
       "      <th>z_iqr_pos1</th>\n",
       "      <th>xy_corr_pos1</th>\n",
       "      <th>xz_corr_pos1</th>\n",
       "      <th>yz_corr_pos1</th>\n",
       "      <th>height</th>\n",
       "      <th>mass</th>\n",
       "      <th>is_valid</th>\n",
       "      <th>sex</th>\n",
       "    </tr>\n",
       "  </thead>\n",
       "  <tbody>\n",
       "    <tr>\n",
       "      <th>0</th>\n",
       "      <td>11156.76</td>\n",
       "      <td>123.532772</td>\n",
       "      <td>11380.0</td>\n",
       "      <td>10836.0</td>\n",
       "      <td>1.244884e+08</td>\n",
       "      <td>177.0</td>\n",
       "      <td>1158.80</td>\n",
       "      <td>73.172275</td>\n",
       "      <td>1348.0</td>\n",
       "      <td>920.0</td>\n",
       "      <td>...</td>\n",
       "      <td>196.0</td>\n",
       "      <td>132.0</td>\n",
       "      <td>485.0</td>\n",
       "      <td>-0.203383</td>\n",
       "      <td>0.750925</td>\n",
       "      <td>-0.452449</td>\n",
       "      <td>185</td>\n",
       "      <td>75</td>\n",
       "      <td>0</td>\n",
       "      <td>1</td>\n",
       "    </tr>\n",
       "    <tr>\n",
       "      <th>1</th>\n",
       "      <td>11156.88</td>\n",
       "      <td>128.858961</td>\n",
       "      <td>11380.0</td>\n",
       "      <td>10836.0</td>\n",
       "      <td>1.244924e+08</td>\n",
       "      <td>193.0</td>\n",
       "      <td>1137.96</td>\n",
       "      <td>69.416023</td>\n",
       "      <td>1300.0</td>\n",
       "      <td>920.0</td>\n",
       "      <td>...</td>\n",
       "      <td>196.0</td>\n",
       "      <td>132.0</td>\n",
       "      <td>485.0</td>\n",
       "      <td>-0.203383</td>\n",
       "      <td>0.750925</td>\n",
       "      <td>-0.452449</td>\n",
       "      <td>185</td>\n",
       "      <td>75</td>\n",
       "      <td>0</td>\n",
       "      <td>1</td>\n",
       "    </tr>\n",
       "    <tr>\n",
       "      <th>2</th>\n",
       "      <td>11154.36</td>\n",
       "      <td>134.410311</td>\n",
       "      <td>11532.0</td>\n",
       "      <td>10836.0</td>\n",
       "      <td>1.244376e+08</td>\n",
       "      <td>190.0</td>\n",
       "      <td>1088.32</td>\n",
       "      <td>171.829072</td>\n",
       "      <td>1380.0</td>\n",
       "      <td>164.0</td>\n",
       "      <td>...</td>\n",
       "      <td>196.0</td>\n",
       "      <td>132.0</td>\n",
       "      <td>485.0</td>\n",
       "      <td>-0.203383</td>\n",
       "      <td>0.750925</td>\n",
       "      <td>-0.452449</td>\n",
       "      <td>185</td>\n",
       "      <td>75</td>\n",
       "      <td>0</td>\n",
       "      <td>1</td>\n",
       "    </tr>\n",
       "    <tr>\n",
       "      <th>3</th>\n",
       "      <td>10998.28</td>\n",
       "      <td>415.506022</td>\n",
       "      <td>11532.0</td>\n",
       "      <td>9384.0</td>\n",
       "      <td>1.211331e+08</td>\n",
       "      <td>323.0</td>\n",
       "      <td>853.36</td>\n",
       "      <td>499.190851</td>\n",
       "      <td>1380.0</td>\n",
       "      <td>-1032.0</td>\n",
       "      <td>...</td>\n",
       "      <td>196.0</td>\n",
       "      <td>132.0</td>\n",
       "      <td>485.0</td>\n",
       "      <td>-0.203383</td>\n",
       "      <td>0.750925</td>\n",
       "      <td>-0.452449</td>\n",
       "      <td>185</td>\n",
       "      <td>75</td>\n",
       "      <td>0</td>\n",
       "      <td>1</td>\n",
       "    </tr>\n",
       "    <tr>\n",
       "      <th>4</th>\n",
       "      <td>10883.04</td>\n",
       "      <td>409.575930</td>\n",
       "      <td>11532.0</td>\n",
       "      <td>9384.0</td>\n",
       "      <td>1.186066e+08</td>\n",
       "      <td>543.0</td>\n",
       "      <td>537.68</td>\n",
       "      <td>622.192456</td>\n",
       "      <td>1380.0</td>\n",
       "      <td>-1032.0</td>\n",
       "      <td>...</td>\n",
       "      <td>196.0</td>\n",
       "      <td>132.0</td>\n",
       "      <td>485.0</td>\n",
       "      <td>-0.203383</td>\n",
       "      <td>0.750925</td>\n",
       "      <td>-0.452449</td>\n",
       "      <td>185</td>\n",
       "      <td>75</td>\n",
       "      <td>0</td>\n",
       "      <td>1</td>\n",
       "    </tr>\n",
       "  </tbody>\n",
       "</table>\n",
       "<p>5 rows × 48 columns</p>\n",
       "</div>"
      ],
      "text/plain": [
       "     x_mean       x_std    x_max    x_min      x_energy  x_iqr   y_mean  \\\n",
       "0  11156.76  123.532772  11380.0  10836.0  1.244884e+08  177.0  1158.80   \n",
       "1  11156.88  128.858961  11380.0  10836.0  1.244924e+08  193.0  1137.96   \n",
       "2  11154.36  134.410311  11532.0  10836.0  1.244376e+08  190.0  1088.32   \n",
       "3  10998.28  415.506022  11532.0   9384.0  1.211331e+08  323.0   853.36   \n",
       "4  10883.04  409.575930  11532.0   9384.0  1.186066e+08  543.0   537.68   \n",
       "\n",
       "        y_std   y_max   y_min  ...  x_iqr_pos1  y_iqr_pos1  z_iqr_pos1  \\\n",
       "0   73.172275  1348.0   920.0  ...       196.0       132.0       485.0   \n",
       "1   69.416023  1300.0   920.0  ...       196.0       132.0       485.0   \n",
       "2  171.829072  1380.0   164.0  ...       196.0       132.0       485.0   \n",
       "3  499.190851  1380.0 -1032.0  ...       196.0       132.0       485.0   \n",
       "4  622.192456  1380.0 -1032.0  ...       196.0       132.0       485.0   \n",
       "\n",
       "   xy_corr_pos1  xz_corr_pos1  yz_corr_pos1  height  mass  is_valid  sex  \n",
       "0     -0.203383      0.750925     -0.452449     185    75         0    1  \n",
       "1     -0.203383      0.750925     -0.452449     185    75         0    1  \n",
       "2     -0.203383      0.750925     -0.452449     185    75         0    1  \n",
       "3     -0.203383      0.750925     -0.452449     185    75         0    1  \n",
       "4     -0.203383      0.750925     -0.452449     185    75         0    1  \n",
       "\n",
       "[5 rows x 48 columns]"
      ]
     },
     "execution_count": 4,
     "metadata": {},
     "output_type": "execute_result"
    }
   ],
   "source": [
    "data = pd.read_csv('../'+DATASET_PATH, index_col=[0, 1])\n",
    "data = data.reset_index(drop=True)\n",
    "data = data.drop(['position', 'age'], axis=1)\n",
    "data.head()"
   ]
  },
  {
   "cell_type": "code",
   "execution_count": 5,
   "id": "second-collection",
   "metadata": {
    "scrolled": true
   },
   "outputs": [],
   "source": [
    "y = data['is_valid']\n",
    "X = data.drop('is_valid', axis=1)"
   ]
  },
  {
   "cell_type": "markdown",
   "id": "basic-anger",
   "metadata": {},
   "source": [
    "Так как для обучения модели и её хранения нужно малое кол-во памяти, то возьмем 30% от выборки. Это не должно сказаться на точности, так как имеется множество повторяющхися элементов выборки. Также будем использовать float16.\\\\\n",
    "\n",
    "Точность без квантизации и урезания данных - 0.99"
   ]
  },
  {
   "cell_type": "code",
   "execution_count": 6,
   "id": "elementary-hobby",
   "metadata": {},
   "outputs": [],
   "source": [
    "X_train, X_test, y_train, y_test = train_test_split(\n",
    "    X, y, train_size=0.3, random_state=1234\n",
    ")\n",
    "\n",
    "max_iter = 10000\n",
    "C = 30"
   ]
  },
  {
   "cell_type": "code",
   "execution_count": 7,
   "id": "stretch-prize",
   "metadata": {},
   "outputs": [],
   "source": [
    "scaler = StandardScaler().fit(X_train)\n",
    "X_train = scaler.transform(X_train).astype(np.half)\n",
    "y_train = y_train.to_numpy(dtype=np.half)"
   ]
  },
  {
   "cell_type": "code",
   "execution_count": 8,
   "id": "familiar-standing",
   "metadata": {},
   "outputs": [
    {
     "name": "stderr",
     "output_type": "stream",
     "text": [
      "100%|██████████| 10000/10000 [1:13:16<00:00,  2.27it/s]\n"
     ]
    }
   ],
   "source": [
    "svc = SVM(kernel='rbf', C=C, max_iter=10000)\n",
    "svc.fit(X_train, y_train)"
   ]
  },
  {
   "cell_type": "code",
   "execution_count": 9,
   "id": "exceptional-straight",
   "metadata": {},
   "outputs": [],
   "source": [
    "X_test = scaler.transform(X_test).astype(np.half)\n",
    "y_test = y_test.to_numpy(dtype=np.half)"
   ]
  },
  {
   "cell_type": "code",
   "execution_count": 10,
   "id": "neither-debut",
   "metadata": {},
   "outputs": [],
   "source": [
    "y_pred = svc.predict(X_test)"
   ]
  },
  {
   "cell_type": "code",
   "execution_count": 11,
   "id": "contemporary-hybrid",
   "metadata": {},
   "outputs": [
    {
     "data": {
      "text/plain": [
       "0.953555657073245"
      ]
     },
     "execution_count": 11,
     "metadata": {},
     "output_type": "execute_result"
    }
   ],
   "source": [
    "accuracy_score(y_pred, y_test)"
   ]
  }
 ],
 "metadata": {
  "kernelspec": {
   "display_name": "Python 3",
   "language": "python",
   "name": "python3"
  },
  "language_info": {
   "codemirror_mode": {
    "name": "ipython",
    "version": 3
   },
   "file_extension": ".py",
   "mimetype": "text/x-python",
   "name": "python",
   "nbconvert_exporter": "python",
   "pygments_lexer": "ipython3",
   "version": "3.7.4"
  }
 },
 "nbformat": 4,
 "nbformat_minor": 5
}
